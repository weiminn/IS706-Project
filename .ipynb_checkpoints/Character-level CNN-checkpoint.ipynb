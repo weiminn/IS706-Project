{
 "cells": [
  {
   "cell_type": "code",
   "execution_count": null,
   "id": "930fd166",
   "metadata": {},
   "outputs": [],
   "source": [
    "#https://github.com/uvipen/Character-level-cnn-pytorch"
   ]
  },
  {
   "cell_type": "code",
   "execution_count": 1,
   "id": "28b85685",
   "metadata": {},
   "outputs": [],
   "source": [
    "from __future__ import unicode_literals, print_function, division\n",
    "from io import open\n",
    "import glob\n",
    "import os\n",
    "import sys\n",
    "import csv\n",
    "import argparse\n",
    "import torch\n",
    "import torch.nn as nn\n",
    "import torch.nn.functional as F\n",
    "from torch.utils.data import Dataset\n",
    "from torch.utils.data import DataLoader\n",
    "import shutil\n",
    "import unicodedata\n",
    "import string\n",
    "import torch\n",
    "import torch.nn as nn\n",
    "import numpy as np\n",
    "import random\n",
    "import pandas as pd\n",
    "from sklearn.preprocessing import LabelEncoder"
   ]
  },
  {
   "cell_type": "code",
   "execution_count": 2,
   "id": "445c1d4b",
   "metadata": {},
   "outputs": [
    {
     "data": {
      "text/html": [
       "<div>\n",
       "<style scoped>\n",
       "    .dataframe tbody tr th:only-of-type {\n",
       "        vertical-align: middle;\n",
       "    }\n",
       "\n",
       "    .dataframe tbody tr th {\n",
       "        vertical-align: top;\n",
       "    }\n",
       "\n",
       "    .dataframe thead th {\n",
       "        text-align: right;\n",
       "    }\n",
       "</style>\n",
       "<table border=\"1\" class=\"dataframe\">\n",
       "  <thead>\n",
       "    <tr style=\"text-align: right;\">\n",
       "      <th></th>\n",
       "      <th>0</th>\n",
       "      <th>1</th>\n",
       "    </tr>\n",
       "  </thead>\n",
       "  <tbody>\n",
       "    <tr>\n",
       "      <th>0</th>\n",
       "      <td>1</td>\n",
       "      <td>redis.clients.jedis.JedisPoolConfig.setNumTest...</td>\n",
       "    </tr>\n",
       "    <tr>\n",
       "      <th>1</th>\n",
       "      <td>1</td>\n",
       "      <td>org.elasticsearch.common.settings.Settings.set...</td>\n",
       "    </tr>\n",
       "    <tr>\n",
       "      <th>2</th>\n",
       "      <td>1</td>\n",
       "      <td>org.apache.catalina.deploy.FilterMap.addURLPat...</td>\n",
       "    </tr>\n",
       "    <tr>\n",
       "      <th>3</th>\n",
       "      <td>1</td>\n",
       "      <td>org.apache.sshd.server.sftp.SftpSubsystem.proc...</td>\n",
       "    </tr>\n",
       "    <tr>\n",
       "      <th>4</th>\n",
       "      <td>1</td>\n",
       "      <td>org.mockito.Matchers.notNull()__XX__org.mockit...</td>\n",
       "    </tr>\n",
       "    <tr>\n",
       "      <th>...</th>\n",
       "      <td>...</td>\n",
       "      <td>...</td>\n",
       "    </tr>\n",
       "    <tr>\n",
       "      <th>1168</th>\n",
       "      <td>0</td>\n",
       "      <td>org.sonarqube.ws.client.qualitygates.Qualityga...</td>\n",
       "    </tr>\n",
       "    <tr>\n",
       "      <th>1169</th>\n",
       "      <td>0</td>\n",
       "      <td>org.sonarqube.ws.client.qualitygates.Qualityga...</td>\n",
       "    </tr>\n",
       "    <tr>\n",
       "      <th>1170</th>\n",
       "      <td>0</td>\n",
       "      <td>org.sonarqube.ws.client.qualitygates.Qualityga...</td>\n",
       "    </tr>\n",
       "    <tr>\n",
       "      <th>1171</th>\n",
       "      <td>0</td>\n",
       "      <td>org.sonarqube.ws.client.qualitygates.ProjectSt...</td>\n",
       "    </tr>\n",
       "    <tr>\n",
       "      <th>1172</th>\n",
       "      <td>0</td>\n",
       "      <td>org.sonarqube.ws.client.qualitygates.ProjectSt...</td>\n",
       "    </tr>\n",
       "  </tbody>\n",
       "</table>\n",
       "<p>1173 rows × 2 columns</p>\n",
       "</div>"
      ],
      "text/plain": [
       "      0                                                  1\n",
       "0     1  redis.clients.jedis.JedisPoolConfig.setNumTest...\n",
       "1     1  org.elasticsearch.common.settings.Settings.set...\n",
       "2     1  org.apache.catalina.deploy.FilterMap.addURLPat...\n",
       "3     1  org.apache.sshd.server.sftp.SftpSubsystem.proc...\n",
       "4     1  org.mockito.Matchers.notNull()__XX__org.mockit...\n",
       "...  ..                                                ...\n",
       "1168  0  org.sonarqube.ws.client.qualitygates.Qualityga...\n",
       "1169  0  org.sonarqube.ws.client.qualitygates.Qualityga...\n",
       "1170  0  org.sonarqube.ws.client.qualitygates.Qualityga...\n",
       "1171  0  org.sonarqube.ws.client.qualitygates.ProjectSt...\n",
       "1172  0  org.sonarqube.ws.client.qualitygates.ProjectSt...\n",
       "\n",
       "[1173 rows x 2 columns]"
      ]
     },
     "execution_count": 2,
     "metadata": {},
     "output_type": "execute_result"
    }
   ],
   "source": [
    "pd.read_csv('dataset-cnn/cleaned/training.csv', header=None\n",
    "        , sep=';')"
   ]
  },
  {
   "cell_type": "code",
   "execution_count": 115,
   "id": "4ccc82e3",
   "metadata": {},
   "outputs": [],
   "source": [
    "class MyDataset(Dataset):\n",
    "    def __init__(self, file, maxl=250, transform=None, target_transform=None):\n",
    "        self.vocabulary = list(\"\"\"abcdefghijklmnopqrstuvwxyz0123456789,;.!?:'\\\"/\\\\|_@#$%^&*~`+-=<>()[]{}\"\"\")\n",
    "        self.identity_mat = np.identity(len(self.vocabulary))\n",
    "        self.arr = pd.read_csv(file, sep=';', header=None)\n",
    "        self.transform = transform\n",
    "        self.target_transform = target_transform\n",
    "        self.max_length = maxl\n",
    "\n",
    "    def __len__(self):\n",
    "        return len(self.arr)\n",
    "\n",
    "    def __getitem__(self, idx):\n",
    "        label = self.arr.iloc[idx, 0]\n",
    "        line = self.arr.iloc[idx, 1]\n",
    "        \n",
    "        line = np.array([self.identity_mat[self.vocabulary.index(i)] for i in list(line) if i in self.vocabulary],\n",
    "                        dtype=np.float32)\n",
    "        \n",
    "        if len(line) > self.max_length:\n",
    "            line = line[:self.max_length]\n",
    "        elif 0 < len(line) < self.max_length:\n",
    "            line = np.concatenate(\n",
    "                (line, np.zeros((self.max_length - len(line), len(self.vocabulary)), dtype=np.float32)))\n",
    "        elif len(line) == 0:\n",
    "            line = np.zeros((self.max_length, len(self.vocabulary)), dtype=np.float32)\n",
    "            \n",
    "    \n",
    "        return label, line\n",
    "    "
   ]
  },
  {
   "cell_type": "code",
   "execution_count": 116,
   "id": "110e73c3",
   "metadata": {},
   "outputs": [],
   "source": [
    "training_dataset = MyDataset('dataset-cnn/cleaned/training.csv')\n",
    "validation_dataset = MyDataset('dataset-cnn/cleaned/validation.csv')"
   ]
  },
  {
   "cell_type": "code",
   "execution_count": 117,
   "id": "6720a843",
   "metadata": {},
   "outputs": [],
   "source": [
    "training_dataloader = DataLoader(training_dataset, batch_size=64, shuffle=True)\n",
    "validation_dataloader = DataLoader(validation_dataset, batch_size=64, shuffle=True)"
   ]
  },
  {
   "cell_type": "code",
   "execution_count": 118,
   "id": "b8f7134f",
   "metadata": {
    "scrolled": false
   },
   "outputs": [
    {
     "ename": "ValueError",
     "evalue": "zero-dimensional arrays cannot be concatenated",
     "output_type": "error",
     "traceback": [
      "\u001b[1;31m---------------------------------------------------------------------------\u001b[0m",
      "\u001b[1;31mValueError\u001b[0m                                Traceback (most recent call last)",
      "\u001b[1;32m~\\AppData\\Local\\Temp/ipykernel_15484/1055759486.py\u001b[0m in \u001b[0;36m<module>\u001b[1;34m\u001b[0m\n\u001b[0;32m      1\u001b[0m \u001b[0mdataiter\u001b[0m \u001b[1;33m=\u001b[0m \u001b[0miter\u001b[0m\u001b[1;33m(\u001b[0m\u001b[0mtraining_dataloader\u001b[0m\u001b[1;33m)\u001b[0m\u001b[1;33m\u001b[0m\u001b[1;33m\u001b[0m\u001b[0m\n\u001b[1;32m----> 2\u001b[1;33m \u001b[0mlabels\u001b[0m\u001b[1;33m,\u001b[0m \u001b[0mlines\u001b[0m \u001b[1;33m=\u001b[0m \u001b[0mdataiter\u001b[0m\u001b[1;33m.\u001b[0m\u001b[0mnext\u001b[0m\u001b[1;33m(\u001b[0m\u001b[1;33m)\u001b[0m\u001b[1;33m\u001b[0m\u001b[1;33m\u001b[0m\u001b[0m\n\u001b[0m\u001b[0;32m      3\u001b[0m \u001b[1;33m\u001b[0m\u001b[0m\n\u001b[0;32m      4\u001b[0m \u001b[0mprint\u001b[0m\u001b[1;33m(\u001b[0m\u001b[0mtype\u001b[0m\u001b[1;33m(\u001b[0m\u001b[0mlabels\u001b[0m\u001b[1;33m)\u001b[0m\u001b[1;33m)\u001b[0m\u001b[1;33m\u001b[0m\u001b[1;33m\u001b[0m\u001b[0m\n\u001b[0;32m      5\u001b[0m \u001b[0mprint\u001b[0m\u001b[1;33m(\u001b[0m\u001b[0mtype\u001b[0m\u001b[1;33m(\u001b[0m\u001b[0mlines\u001b[0m\u001b[1;33m)\u001b[0m\u001b[1;33m)\u001b[0m\u001b[1;33m\u001b[0m\u001b[1;33m\u001b[0m\u001b[0m\n",
      "\u001b[1;32m~\\anaconda3\\lib\\site-packages\\torch\\utils\\data\\dataloader.py\u001b[0m in \u001b[0;36m__next__\u001b[1;34m(self)\u001b[0m\n\u001b[0;32m    528\u001b[0m             \u001b[1;32mif\u001b[0m \u001b[0mself\u001b[0m\u001b[1;33m.\u001b[0m\u001b[0m_sampler_iter\u001b[0m \u001b[1;32mis\u001b[0m \u001b[1;32mNone\u001b[0m\u001b[1;33m:\u001b[0m\u001b[1;33m\u001b[0m\u001b[1;33m\u001b[0m\u001b[0m\n\u001b[0;32m    529\u001b[0m                 \u001b[0mself\u001b[0m\u001b[1;33m.\u001b[0m\u001b[0m_reset\u001b[0m\u001b[1;33m(\u001b[0m\u001b[1;33m)\u001b[0m\u001b[1;33m\u001b[0m\u001b[1;33m\u001b[0m\u001b[0m\n\u001b[1;32m--> 530\u001b[1;33m             \u001b[0mdata\u001b[0m \u001b[1;33m=\u001b[0m \u001b[0mself\u001b[0m\u001b[1;33m.\u001b[0m\u001b[0m_next_data\u001b[0m\u001b[1;33m(\u001b[0m\u001b[1;33m)\u001b[0m\u001b[1;33m\u001b[0m\u001b[1;33m\u001b[0m\u001b[0m\n\u001b[0m\u001b[0;32m    531\u001b[0m             \u001b[0mself\u001b[0m\u001b[1;33m.\u001b[0m\u001b[0m_num_yielded\u001b[0m \u001b[1;33m+=\u001b[0m \u001b[1;36m1\u001b[0m\u001b[1;33m\u001b[0m\u001b[1;33m\u001b[0m\u001b[0m\n\u001b[0;32m    532\u001b[0m             \u001b[1;32mif\u001b[0m \u001b[0mself\u001b[0m\u001b[1;33m.\u001b[0m\u001b[0m_dataset_kind\u001b[0m \u001b[1;33m==\u001b[0m \u001b[0m_DatasetKind\u001b[0m\u001b[1;33m.\u001b[0m\u001b[0mIterable\u001b[0m \u001b[1;32mand\u001b[0m\u001b[0;31m \u001b[0m\u001b[0;31m\\\u001b[0m\u001b[1;33m\u001b[0m\u001b[1;33m\u001b[0m\u001b[0m\n",
      "\u001b[1;32m~\\anaconda3\\lib\\site-packages\\torch\\utils\\data\\dataloader.py\u001b[0m in \u001b[0;36m_next_data\u001b[1;34m(self)\u001b[0m\n\u001b[0;32m    568\u001b[0m     \u001b[1;32mdef\u001b[0m \u001b[0m_next_data\u001b[0m\u001b[1;33m(\u001b[0m\u001b[0mself\u001b[0m\u001b[1;33m)\u001b[0m\u001b[1;33m:\u001b[0m\u001b[1;33m\u001b[0m\u001b[1;33m\u001b[0m\u001b[0m\n\u001b[0;32m    569\u001b[0m         \u001b[0mindex\u001b[0m \u001b[1;33m=\u001b[0m \u001b[0mself\u001b[0m\u001b[1;33m.\u001b[0m\u001b[0m_next_index\u001b[0m\u001b[1;33m(\u001b[0m\u001b[1;33m)\u001b[0m  \u001b[1;31m# may raise StopIteration\u001b[0m\u001b[1;33m\u001b[0m\u001b[1;33m\u001b[0m\u001b[0m\n\u001b[1;32m--> 570\u001b[1;33m         \u001b[0mdata\u001b[0m \u001b[1;33m=\u001b[0m \u001b[0mself\u001b[0m\u001b[1;33m.\u001b[0m\u001b[0m_dataset_fetcher\u001b[0m\u001b[1;33m.\u001b[0m\u001b[0mfetch\u001b[0m\u001b[1;33m(\u001b[0m\u001b[0mindex\u001b[0m\u001b[1;33m)\u001b[0m  \u001b[1;31m# may raise StopIteration\u001b[0m\u001b[1;33m\u001b[0m\u001b[1;33m\u001b[0m\u001b[0m\n\u001b[0m\u001b[0;32m    571\u001b[0m         \u001b[1;32mif\u001b[0m \u001b[0mself\u001b[0m\u001b[1;33m.\u001b[0m\u001b[0m_pin_memory\u001b[0m\u001b[1;33m:\u001b[0m\u001b[1;33m\u001b[0m\u001b[1;33m\u001b[0m\u001b[0m\n\u001b[0;32m    572\u001b[0m             \u001b[0mdata\u001b[0m \u001b[1;33m=\u001b[0m \u001b[0m_utils\u001b[0m\u001b[1;33m.\u001b[0m\u001b[0mpin_memory\u001b[0m\u001b[1;33m.\u001b[0m\u001b[0mpin_memory\u001b[0m\u001b[1;33m(\u001b[0m\u001b[0mdata\u001b[0m\u001b[1;33m)\u001b[0m\u001b[1;33m\u001b[0m\u001b[1;33m\u001b[0m\u001b[0m\n",
      "\u001b[1;32m~\\anaconda3\\lib\\site-packages\\torch\\utils\\data\\_utils\\fetch.py\u001b[0m in \u001b[0;36mfetch\u001b[1;34m(self, possibly_batched_index)\u001b[0m\n\u001b[0;32m     47\u001b[0m     \u001b[1;32mdef\u001b[0m \u001b[0mfetch\u001b[0m\u001b[1;33m(\u001b[0m\u001b[0mself\u001b[0m\u001b[1;33m,\u001b[0m \u001b[0mpossibly_batched_index\u001b[0m\u001b[1;33m)\u001b[0m\u001b[1;33m:\u001b[0m\u001b[1;33m\u001b[0m\u001b[1;33m\u001b[0m\u001b[0m\n\u001b[0;32m     48\u001b[0m         \u001b[1;32mif\u001b[0m \u001b[0mself\u001b[0m\u001b[1;33m.\u001b[0m\u001b[0mauto_collation\u001b[0m\u001b[1;33m:\u001b[0m\u001b[1;33m\u001b[0m\u001b[1;33m\u001b[0m\u001b[0m\n\u001b[1;32m---> 49\u001b[1;33m             \u001b[0mdata\u001b[0m \u001b[1;33m=\u001b[0m \u001b[1;33m[\u001b[0m\u001b[0mself\u001b[0m\u001b[1;33m.\u001b[0m\u001b[0mdataset\u001b[0m\u001b[1;33m[\u001b[0m\u001b[0midx\u001b[0m\u001b[1;33m]\u001b[0m \u001b[1;32mfor\u001b[0m \u001b[0midx\u001b[0m \u001b[1;32min\u001b[0m \u001b[0mpossibly_batched_index\u001b[0m\u001b[1;33m]\u001b[0m\u001b[1;33m\u001b[0m\u001b[1;33m\u001b[0m\u001b[0m\n\u001b[0m\u001b[0;32m     50\u001b[0m         \u001b[1;32melse\u001b[0m\u001b[1;33m:\u001b[0m\u001b[1;33m\u001b[0m\u001b[1;33m\u001b[0m\u001b[0m\n\u001b[0;32m     51\u001b[0m             \u001b[0mdata\u001b[0m \u001b[1;33m=\u001b[0m \u001b[0mself\u001b[0m\u001b[1;33m.\u001b[0m\u001b[0mdataset\u001b[0m\u001b[1;33m[\u001b[0m\u001b[0mpossibly_batched_index\u001b[0m\u001b[1;33m]\u001b[0m\u001b[1;33m\u001b[0m\u001b[1;33m\u001b[0m\u001b[0m\n",
      "\u001b[1;32m~\\anaconda3\\lib\\site-packages\\torch\\utils\\data\\_utils\\fetch.py\u001b[0m in \u001b[0;36m<listcomp>\u001b[1;34m(.0)\u001b[0m\n\u001b[0;32m     47\u001b[0m     \u001b[1;32mdef\u001b[0m \u001b[0mfetch\u001b[0m\u001b[1;33m(\u001b[0m\u001b[0mself\u001b[0m\u001b[1;33m,\u001b[0m \u001b[0mpossibly_batched_index\u001b[0m\u001b[1;33m)\u001b[0m\u001b[1;33m:\u001b[0m\u001b[1;33m\u001b[0m\u001b[1;33m\u001b[0m\u001b[0m\n\u001b[0;32m     48\u001b[0m         \u001b[1;32mif\u001b[0m \u001b[0mself\u001b[0m\u001b[1;33m.\u001b[0m\u001b[0mauto_collation\u001b[0m\u001b[1;33m:\u001b[0m\u001b[1;33m\u001b[0m\u001b[1;33m\u001b[0m\u001b[0m\n\u001b[1;32m---> 49\u001b[1;33m             \u001b[0mdata\u001b[0m \u001b[1;33m=\u001b[0m \u001b[1;33m[\u001b[0m\u001b[0mself\u001b[0m\u001b[1;33m.\u001b[0m\u001b[0mdataset\u001b[0m\u001b[1;33m[\u001b[0m\u001b[0midx\u001b[0m\u001b[1;33m]\u001b[0m \u001b[1;32mfor\u001b[0m \u001b[0midx\u001b[0m \u001b[1;32min\u001b[0m \u001b[0mpossibly_batched_index\u001b[0m\u001b[1;33m]\u001b[0m\u001b[1;33m\u001b[0m\u001b[1;33m\u001b[0m\u001b[0m\n\u001b[0m\u001b[0;32m     50\u001b[0m         \u001b[1;32melse\u001b[0m\u001b[1;33m:\u001b[0m\u001b[1;33m\u001b[0m\u001b[1;33m\u001b[0m\u001b[0m\n\u001b[0;32m     51\u001b[0m             \u001b[0mdata\u001b[0m \u001b[1;33m=\u001b[0m \u001b[0mself\u001b[0m\u001b[1;33m.\u001b[0m\u001b[0mdataset\u001b[0m\u001b[1;33m[\u001b[0m\u001b[0mpossibly_batched_index\u001b[0m\u001b[1;33m]\u001b[0m\u001b[1;33m\u001b[0m\u001b[1;33m\u001b[0m\u001b[0m\n",
      "\u001b[1;32m~\\AppData\\Local\\Temp/ipykernel_15484/2247796992.py\u001b[0m in \u001b[0;36m__getitem__\u001b[1;34m(self, idx)\u001b[0m\n\u001b[0;32m     18\u001b[0m             \u001b[0mline\u001b[0m \u001b[1;33m=\u001b[0m \u001b[0mline\u001b[0m\u001b[1;33m[\u001b[0m\u001b[1;33m:\u001b[0m\u001b[0mself\u001b[0m\u001b[1;33m.\u001b[0m\u001b[0mmax_length\u001b[0m\u001b[1;33m]\u001b[0m\u001b[1;33m\u001b[0m\u001b[1;33m\u001b[0m\u001b[0m\n\u001b[0;32m     19\u001b[0m         \u001b[1;32melif\u001b[0m \u001b[1;36m0\u001b[0m \u001b[1;33m<\u001b[0m \u001b[0mlen\u001b[0m\u001b[1;33m(\u001b[0m\u001b[0mline\u001b[0m\u001b[1;33m)\u001b[0m \u001b[1;33m<\u001b[0m \u001b[0mself\u001b[0m\u001b[1;33m.\u001b[0m\u001b[0mmax_length\u001b[0m\u001b[1;33m:\u001b[0m\u001b[1;33m\u001b[0m\u001b[1;33m\u001b[0m\u001b[0m\n\u001b[1;32m---> 20\u001b[1;33m             line = np.concatenate(\n\u001b[0m\u001b[0;32m     21\u001b[0m                 (line, np.zeros((self.max_length - len(line), len(self.vocabulary)), dtype=np.float32)))\n\u001b[0;32m     22\u001b[0m         \u001b[1;32melif\u001b[0m \u001b[0mlen\u001b[0m\u001b[1;33m(\u001b[0m\u001b[0mline\u001b[0m\u001b[1;33m)\u001b[0m \u001b[1;33m==\u001b[0m \u001b[1;36m0\u001b[0m\u001b[1;33m:\u001b[0m\u001b[1;33m\u001b[0m\u001b[1;33m\u001b[0m\u001b[0m\n",
      "\u001b[1;32m<__array_function__ internals>\u001b[0m in \u001b[0;36mconcatenate\u001b[1;34m(*args, **kwargs)\u001b[0m\n",
      "\u001b[1;31mValueError\u001b[0m: zero-dimensional arrays cannot be concatenated"
     ]
    }
   ],
   "source": [
    "dataiter = iter(training_dataloader)\n",
    "labels, lines = dataiter.next()\n",
    "\n",
    "print(type(labels))\n",
    "print(type(lines))"
   ]
  },
  {
   "cell_type": "code",
   "execution_count": 108,
   "id": "7ce4437c",
   "metadata": {},
   "outputs": [
    {
     "name": "stdout",
     "output_type": "stream",
     "text": [
      "('com.github.tomakehurst.wiremock.client.RequestPatternBuilder.allRequests()__XX__com.github.tomakehurst.wiremock.matching.RequestPatternBuilder.allRequests()', 'org.elasticsearch.action.delete.DeleteResponse.isNotFound()__XX__org.elasticsearch.action.delete.DeleteResponse.isFound()', 'org.elasticsearch.action.DocWriteResponse.getIndex()__XX__org.elasticsearch.search.aggregations.pipeline.serialdiff.SerialDiffPipelineAggregationBuilder.parse()', 'org.apache.sshd.common.util.Buffer.rpos(int)__XX__org.apache.sshd.common.util.buffer.Buffer.rpos(int)', 'org.elasticsearch.action.delete.IndexResponse.status()__XX__org.elasticsearch.index.mapper.LegacyShortFieldMapper$Builder.build()', 'org.elasticsearch.common.settings.Settings.builder()__XX__org.elasticsearch.search.fetch.FetchSubPhase.void hitsExecute()', 'org.apache.solr.client.solrj.impl.HttpSolrServer.request(SolrRequest)__XX__org.apache.solr.client.solrj.impl.HttpSolrClient.request(SolrRequest)', 'org.elasticsearch.search.sort.SortBuilder.order(SortOrder)__XX__org.elasticsearch.action.support.replication.TransportReplicationAction$PrimaryShardReference.failShard()', 'gnu.trove.map.hash.TObjectIntHashMap.iterator()__XX__org.elasticsearch.index.analysis.PreBuiltCharFilterFactoryFactory()', 'org.elasticsearch.action.admin.indices.exists.indices.IndicesExistsResponse.isExists()__XX__org.elasticsearch.action.admin.cluster.reroute.ClusterRerouteRequestBuilder.setRetryFailed()', 'gnu.trove.map.hash.TLongObjectHashMap.valueCollection()__XX__org.elasticsearch.indices.analysis.PreBuiltCharFilters$2.name()', 'net.sf.jsqlparser.statement.select.SetOperationList.getPlainSelects()__XX__net.sf.jsqlparser.statement.select.SetOperationList.getSelects()', 'org.mockito.Matchers.contains(String)__XX__org.mockito.ArgumentMatchers.contains(String)', 'org.elasticsearch.action.search.SearchResponse.getHits()__XX__org.elasticsearch.action.support.tasks.BaseTasksRequest.readFrom()', 'com.tencent.angel.ml.core.conf.MLConf.ML_LEARN_RATE()__XX__com.tencent.angel.ml.core.conf.AngelMLConf.ML_LEARN_RATE()', 'org.sonarqube.ws.client.projectanalyses.ProjectAnalysesService.search(SearchRequest)__XX__org.sonarqube.ws.Rules$Rule.getRemFnBaseEffort()', 'com.google.common.base.Objects.toStringHelper(Object)__XX__com.google.common.base.MoreObjects.toStringHelper(Object)', 'org.jsoup.select.Elements.contains(Object)__XX__java.util.ArrayList.contains(Object)', 'org.elasticsearch.common.settings.Settings.builder()__XX__org.elasticsearch.index.mapper.FieldNamesFieldMapper$1$1.next()', 'org.elasticsearch.action.search.SearchResponse.getFacets()__XX__org.elasticsearch.common.inject.InjectorImpl$ProviderBindingImpl.acceptTargetVisitor()', 'org.apache.sshd.common.util.Buffer.getInt()__XX__org.apache.sshd.common.util.buffer.Buffer.getInt()', 'org.sonarqube.ws.client.components.ComponentsService.show(ShowRequest)__XX__org.sonarqube.ws.SecurityReports$SecurityStandardCategoryStatistics$Builder.hasToReviewSecurityHotspots()', 'org.apache.sshd.SshServer.getActiveSessions()__XX__org.apache.sshd.server.SshServer.getActiveSessions()', 'org.apache.catalina.deploy.LoginConfig.getLoginPage()__XX__org.apache.tomcat.util.descriptor.web.LoginConfig.getLoginPage()', 'org.sonarqube.ws.client.measure.ComponentWsRequest.setComponent(String)__XX__org.sonarqube.ws.Settings$Field$Builder.getKeyBytes()', 'org.elasticsearch.node.NodeBuilder.settings()__XX__org.elasticsearch.node.Node.settings()', 'com.hazelcast.internal.serialization.impl.DefaultSerializationServiceBuilder.build()__XX__com.hazelcast.internal.jmx.suppliers.LocalQueueStatsSupplier.get()', 'gnu.trove.list.array.TIntArrayList.toArray()__XX__org.elasticsearch.action.admin.indices.create.CreateIndexRequest.cause()', 'org.apache.tomcat.util.descriptor.web.FilterMap.addServletName(String)__XX__org.apache.coyote.ErrorState.isIoAllowed()', 'com.tencent.angel.ml.core.conf.MLConf.ML_MODEL_TYPE()__XX__com.tencent.angel.ml.core.conf.AngelMLConf.ML_MODEL_TYPE()', 'com.github.javaparser.ast.body.MethodDeclaration.getParameters()__XX__com.github.javaparser.ast.body.CallableDeclaration.getParameters()', 'org.hibernate.boot.registry.StandardServiceRegistryBuilder.applySettings(Map)__XX__org.hibernate.tool.hbm2ddl.SchemaExport$CommandLineArgs.parseCommandLineArgs()', 'org.elasticsearch.index.Index.name()__XX__org.elasticsearch.index.Index.getName()', 'org.apache.lucene.search.NumericRangeQuery.newFloatRange(String,Float,Float,boolean,boolean)__XX__org.apache.lucene.search.LegacyNumericRangeQuery.newFloatRange(String,Float,Float,boolean,boolean)', 'org.jsoup.select.Elements.isEmpty()__XX__java.util.ArrayList.isEmpty()', 'org.sonarqube.ws.client.projectanalysis.ProjectAnalysisService.search(SearchRequest)__XX__org.sonarqube.ws.client.projectanalyses.ProjectAnalysesService.search(SearchRequest)', 'org.elasticsearch.action.DocWriteResponse.getIndex()__XX__org.elasticsearch.transport.local.LocalTransportChannel.sendResponse()', 'org.sonarqube.ws.client.qualitygates.QualitygatesService.projectStatus(ProjectStatusRequest)__XX__org.sonarqube.ws.Issues$Flow$Builder.isInitialized()', 'org.elasticsearch.index.query.GeoBoundingBoxQueryBuilder.bottomRight(double,double)__XX__org.elasticsearch.cluster.routing.allocation.command.AllocateAllocationCommand$Factory.writeTo()', 'com.tencent.angel.ml.core.conf.MLConf.ML_GBDT_TREE_NUM()__XX__com.tencent.angel.ml.core.conf.AngelMLConf.ML_GBDT_TREE_NUM()', 'org.elasticsearch.action.delete.DeleteResponse.notFound()__XX__org.elasticsearch.action.delete.DeleteResponse.isFound()', 'org.elasticsearch.search.facet.FacetParsers.processor(String)__XX__org.elasticsearch.common.mvel2.optimizers.impl.refl.nodes.StaticVarAccessorNH.setValue()', 'org.elasticsearch.action.get.GetResponse.isExists()__XX__org.elasticsearch.search.SearchContextException()', 'org.apache.tomcat.util.descriptor.web.FilterDef.setFilterName(String)__XX__org.apache.catalina.core.StandardContext$NoPluggabilityServletContext.createServlet()', 'org.apache.catalina.deploy.FilterMap.addServletName(String)__XX__org.apache.tomcat.util.descriptor.web.FilterMap.addServletName(String)', 'org.elasticsearch.percolator.PercolateResponse.getMatches()__XX__org.elasticsearch.search.aggregations.support.MissingValues$3.isFloatingPoint()', 'org.apache.catalina.deploy.FilterMap.getDispatcherMapping()__XX__org.apache.tomcat.util.descriptor.web.FilterMap.getDispatcherMapping()', 'org.elasticsearch.index.query.AndFilterBuilder.add(FilterBuilder)__XX__org.elasticsearch.index.query.AndQueryBuilder.add(QueryBuilder)', 'org.sonarqube.ws.client.measures.MeasuresService.component(ComponentRequest)__XX__org.sonarqube.ws.Issues$AssignResponse.getRulesCount()', 'com.tencent.angel.ml.core.conf.MLConf.ML_LEARN_RATE()__XX__com.tencent.angel.ml.core.conf.AngelMLConf.ML_LEARN_RATE()', 'org.elasticsearch.action.DocWriteResponse.getId()__XX__org.elasticsearch.search.aggregations.bucket.significant.GlobalOrdinalsSignificantTermsAggregator.buildEmptyAggregation()', 'groovy.lang.GroovyShell.run(File,List)__XX__org.codehaus.groovy.runtime.DefaultGroovyMethods.and()', 'org.elasticsearch.action.mlt.MoreLikeThisRequestBuilder.setMinDocFreq(int)__XX__org.elasticsearch.index.query.MoreLikeThisQueryBuilder.minDocFreq(int)', 'org.rocksdb.RocksDB.close()__XX__org.rocksdb.AbstractImmutableNativeReference.close()', 'org.hibernate.mapping.Component.getRoleName()__XX__org.hibernate.hql.internal.antlr.SqlGeneratorBase.statement()', 'com.tencent.angel.ml.core.conf.MLConf.ML_MODEL_CLASS_NAME()__XX__com.tencent.angel.ml.core.conf.AngelMLConf.ML_MODEL_CLASS_NAME()', 'org.mapdb.DBMaker.make()__XX__org.mapdb.DBMaker.Maker.make()', 'org.elasticsearch.common.compress.CompressedXContent.string()__XX__org.elasticsearch.indices.AliasFilterParsingException()', 'org.apache.sshd.SshServer.setPublickeyAuthenticator(PublickeyAuthenticator)__XX__org.apache.sshd.server.SshServer.setPublickeyAuthenticator(PublickeyAuthenticator)', 'org.elasticsearch.index.query.MoreLikeThisQueryBuilder.minWordLength(int)__XX__org.elasticsearch.search.internal.SubSearchContext.preProcess()', 'org.apache.solr.client.solrj.impl.HttpSolrServer.setMaxTotalConnections(int)__XX__org.apache.solr.client.solrj.impl.HttpSolrClient.setMaxTotalConnections(int)', 'org.elasticsearch.action.bulk.BulkResponse.getItems()__XX__org.elasticsearch.common.io.stream.StreamOutput.writeTimeZone()', 'org.elasticsearch.action.search.SearchRequestBuilder.setFilter(FilterBuilder)__XX__org.elasticsearch.action.search.SearchRequestBuilder.setPostFilter(QueryBuilder)', 'org.elasticsearch.common.settings.Settings.builder()__XX__org.elasticsearch.action.admin.indices.recovery.RecoveryRequest.detailed()')\n"
     ]
    }
   ],
   "source": [
    "print(lines)"
   ]
  },
  {
   "cell_type": "code",
   "execution_count": 99,
   "id": "02053447",
   "metadata": {},
   "outputs": [],
   "source": [
    "class CharacterLevelCNN(nn.Module):\n",
    "    def __init__(self):\n",
    "        super().__init__()\n",
    "        self.conv1 = nn.Conv1d(200, 50, 7)\n",
    "        self.pool = nn.MaxPool1d(2, 2)\n",
    "        self.conv2 = nn.Conv1d(200, 1, 7)\n",
    "        self.fc1 = nn.Linear(16 * 5 * 5, 120)\n",
    "        self.fc2 = nn.Linear(120, 84)\n",
    "        self.fc3 = nn.Linear(84, 10)\n",
    "    \n",
    "    def forward(self, x):\n",
    "#         print(x)\n",
    "        x = self.pool(F.relu(self.conv1(x)))\n",
    "        x = self.pool(F.relu(self.conv2(x)))\n",
    "        x = F.relu(self.conv1(x))\n",
    "        x = F.relu(self.conv2(x))\n",
    "        x = torch.flatten(x, 1) # flatten all dimensions except batch\n",
    "        x = F.relu(self.fc1(x))\n",
    "        x = F.relu(self.fc2(x))\n",
    "        x = self.fc3(x)\n",
    "        return x"
   ]
  },
  {
   "cell_type": "code",
   "execution_count": 100,
   "id": "6935fe1b",
   "metadata": {},
   "outputs": [],
   "source": [
    "model = CharacterLevelCNN()"
   ]
  },
  {
   "cell_type": "code",
   "execution_count": 101,
   "id": "e240f7b0",
   "metadata": {},
   "outputs": [],
   "source": [
    "import torch.optim as optim\n",
    "\n",
    "criterion = nn.CrossEntropyLoss()\n",
    "optimizer = optim.SGD(model.parameters(), lr=0.001, momentum=0.9)"
   ]
  },
  {
   "cell_type": "code",
   "execution_count": 102,
   "id": "a5bb5b86",
   "metadata": {
    "scrolled": true
   },
   "outputs": [
    {
     "name": "stdout",
     "output_type": "stream",
     "text": [
      "[tensor([0, 1, 1, 0, 1, 0, 1, 1, 0, 0, 0, 1, 0, 0, 0, 0, 1, 0, 0, 1, 1, 1, 1, 0,\n",
      "        1, 0, 1, 0, 0, 1, 0, 0, 1, 0, 1, 1, 0, 1, 1, 0, 0, 0, 0, 0, 1, 0, 1, 0,\n",
      "        0, 0, 1, 1, 0, 0, 0, 0, 0, 0, 1, 0, 0, 1, 1, 1]), ('org.elasticsearch.action.bulk.BulkItemResponse.isFailed()__XX__org.elasticsearch.index.query.ConstantScoreQueryBuilder()', 'org.elasticsearch.search.sort.FieldSortBuilder.order(SortOrder)__XX__org.elasticsearch.search.sort.SortBuilder.order(SortOrder)', 'org.bson.BasicBSONObject.put(String,Object)__XX__java.util.HashMap.put(String,Object)', 'org.elasticsearch.action.bulk.BulkResponse.getItems()__XX__org.elasticsearch.common.netty.buffer.ChannelBuffers.wrappedBuffer()', 'org.elasticsearch.common.settings.Settings.settingsBuilder()__XX__org.elasticsearch.common.settings.Settings.builder()', 'org.elasticsearch.action.search.SearchRequestBuilder.setPostFilter(QueryBuilder)__XX__org.elasticsearch.action.search.SearchRequest.scroll()', 'com.tencent.angel.ml.core.conf.MLConf.ML_MODEL_TYPE()__XX__com.tencent.angel.ml.core.conf.AngelMLConf.ML_MODEL_TYPE()', 'org.apache.sshd.common.util.Buffer.getInt()__XX__org.apache.sshd.common.util.buffer.Buffer.getInt()', 'gnu.trove.list.array.TIntArrayList.size()__XX__org.elasticsearch.common.inject.ProviderToInternalFactoryAdapter$1.call()', 'gnu.trove.map.hash.TObjectIntHashMap.iterator()__XX__org.elasticsearch.common.jackson.core.util.InternCache.intern()', 'org.elasticsearch.action.delete.IndexResponse.status()__XX__org.elasticsearch.search.suggest.completion.FuzzyOptions$Builder()', 'org.elasticsearch.common.trove.list.array.TIntArrayList.clear(int)__XX__gnu.trove.list.array.TIntArrayList.clear(int)', 'org.elasticsearch.search.aggregations.metrics.tophits.TopHitsAggregationBuilder.storedField(String)__XX__org.elasticsearch.discovery.zen.MembershipAction$JoinRequestRequestHandler.messageReceived()', 'org.elasticsearch.action.search.SearchResponse.getHits()__XX__org.elasticsearch.search.rescore.RescoreBuilder$QueryRescorer.setQueryWeight()', 'org.elasticsearch.action.index.IndexResponse.getVersion()__XX__org.elasticsearch.search.facet.terms.TermsFacetBuilder.scriptField()', 'org.elasticsearch.action.admin.indices.delete.AcknowledgedResponse.isAcknowledged()\\t__XX__org.elasticsearch.discovery.zen.UnicastZenPing$UnicastPingResponse.readFrom()', 'redis.clients.jedis.JedisPoolConfig.setMinIdle(int)__XX__org.apache.commons.pool2.impl.GenericObjectPoolConfig.setMinIdle(int)', 'org.elasticsearch.common.settings.Settings.settingsBuilder()__XX__org.elasticsearch.index.engine.IndexFailedEngineException.type()', 'org.sonarqube.ws.client.settings.SettingsService.set(SetRequest)__XX__org.sonarqube.ws.ProjectBranches$Status.equals()', 'org.apache.catalina.deploy.FilterDef.setFilterClass(String)__XX__org.apache.tomcat.util.descriptor.web.FilterDef.setFilterClass(String)', 'com.squareup.protoparser.MessageType.getFields()__XX__com.squareup.protoparser.MessageElement.fields()', 'org.mockito.Matchers.notNull()__XX__org.mockito.ArgumentMatchers.notNull()', 'org.apache.lucene.index.IndexModifier.addDocument(Document)__XX__org.apache.lucene.index.IndexWriter.addDocument(Document)', 'org.elasticsearch.index.query.MoreLikeThisQueryBuilder.maxQueryTerms(int)__XX__org.elasticsearch.search.internal.ShardSearchTransportRequest.types()', 'redis.clients.jedis.JedisPoolConfig.setMaxWait(long)__XX__org.apache.commons.pool2.impl.BaseObjectPoolConfig.setMaxWaitMillis(long)', 'org.elasticsearch.action.search.SearchResponse.getHits()__XX__org.elasticsearch.common.util.concurrent.LoggingRunnable.run()', 'org.elasticsearch.action.search.SearchResponse.facets()__XX__org.elasticsearch.action.search.SearchResponse.getFacets()', 'org.elasticsearch.action.admin.indices.exists.indices.IndicesExistsResponse.isExists()__XX__org.elasticsearch.search.facet.histogram.FullHistogramFacetExecutor$Collector.collect()', 'org.elasticsearch.action.DocWriteResponse.getVersion()__XX__org.elasticsearch.action.admin.cluster.snapshots.create.CreateSnapshotRequest.indices()', 'org.elasticsearch.index.query.GeoDistanceFilterBuilder.lat(double)__XX__org.elasticsearch.index.query.GeoDistanceQueryBuilder.lat(double)', 'org.elasticsearch.action.index.IndexResponse.getVersion()__XX__org.elasticsearch.search.aggregations.bucket.range.geodistance.GeoDistanceBuilder.lon()', 'gnu.trove.map.hash.TLongObjectHashMap.get(long)__XX__org.elasticsearch.action.termvectors.TermVectorsRequestBuilder.setOffsets()', 'com.squareup.protoparser.EnumType.getValues()__XX__com.squareup.protoparser.EnumElement.constants()', 'org.elasticsearch.search.sort.FieldSortBuilder.unmappedType(String)__XX__org.elasticsearch.tasks.RawTaskStatus.toString()', 'org.zeroturnaround.exec.InvalidExitValueException.getExitValue()__XX__org.zeroturnaround.exec.InvalidResultException.getExitValue()', 'redis.clients.jedis.JedisPoolConfig.setTimeBetweenEvictionRunsMillis(long)__XX__org.apache.commons.pool2.impl.BaseObjectPoolConfig.setTimeBetweenEvictionRunsMillis(long)', 'org.apache.lucene.queryparser.classic.QueryParserBase.parse(String)__XX__org.apache.lucene.search.BoostQuery.createWeight()', 'com.hazelcast.nio.serialization.SerializationServiceBuilder.setConfig(SerializationConfig)__XX__com.hazelcast.internal.serialization.impl.DefaultSerializationServiceBuilder.setConfig(SerializationConfig)', 'org.bson.BasicBSONObject.put(String,Object)__XX__java.util.HashMap.put(String,Object)', 'org.elasticsearch.search.sort.FieldSortBuilder.unmappedType(String)__XX__org.elasticsearch.gateway.MetaDataStateFormat.loadLatestState()', 'org.elasticsearch.action.DocWriteResponse.getId()__XX__org.elasticsearch.search.aggregations.bucket.histogram.DateHistogramAggregator.buildAggregation()', 'org.joda.time.format.DateTimeFormatter.print(long)__XX__org.elasticsearch.common.rounding.Rounding$Streams.read()', 'org.elasticsearch.action.admin.indices.delete.AcknowledgedResponse.isAcknowledged()\\t__XX__org.elasticsearch.common.inject.Key.hashCode()', 'org.elasticsearch.percolator.PercolateResponse.getMatches()__XX__org.elasticsearch.index.mapper.BinaryFieldMapper$CustomBinaryDocValuesField.add()', 'org.apache.solr.client.solrj.impl.HttpSolrServer.getBaseURL()__XX__org.apache.solr.client.solrj.impl.HttpSolrClient.getBaseURL()', 'gnu.trove.map.hash.TLongObjectHashMap.valueCollection()__XX__org.elasticsearch.common.inject.internal.BindingBuilder.toProvider()', 'org.mockito.Matchers.any()__XX__org.mockito.ArgumentMatchers.any()', 'com.google.common.base.MoreObjects.toStringHelper(Object)__XX__com.google.common.collect.ImmutableMapKeySet.spliterator()', 'org.elasticsearch.index.query.MoreLikeThisQueryBuilder.boostTerms(float)__XX__org.elasticsearch.search.internal.InternalSearchHit.id()', 'org.apache.tomcat.util.descriptor.web.FilterMap.addURLPattern(String)__XX__org.apache.catalina.core.StandardContext.setPublicId()', 'com.tencent.angel.ml.core.conf.MLConf.ML_LEARN_DECAY()__XX__com.tencent.angel.ml.core.conf.AngelMLConf.ML_LEARN_DECAY()', 'org.mockito.Matchers.anyObject()__XX__org.mockito.ArgumentMatchers.anyObject()', 'org.sonarqube.ws.client.projectanalyses.ProjectAnalysesService.search(SearchRequest)__XX__org.sonarqube.ws.Qualitygates$QualityGate.toBuilder()', 'org.elasticsearch.action.search.SearchRequestBuilder.setPostFilter(QueryBuilder)__XX__org.elasticsearch.search.rescore.QueryRescorer$ScoreMode$2.toString()', 'com.fasterxml.jackson.core.JsonFactory.createGenerator(OutputStream)__XX__org.elasticsearch.search.fetch.subphase.highlight.SearchContextHighlight$FieldOptions.postTags()', 'org.elasticsearch.index.query.BoolQueryBuilder.must(QueryBuilder)__XX__org.elasticsearch.index.reindex.BulkByScrollTask$StatusOrException.hashCode()', 'org.elasticsearch.action.DocWriteResponse.getId()__XX__org.elasticsearch.index.query.BoolQueryBuilder.must()', 'gnu.trove.set.hash.TIntHashSet.add(int)__XX__org.elasticsearch.action.update.TransportUpdateAction$3.onResponse()', 'org.zeroturnaround.exec.InvalidExitValueException.getExitValue()__XX__org.zeroturnaround.exec.InvalidResultException.getExitValue()', 'org.sonarqube.ws.client.qualitygates.QualitygatesService.projectStatus(ProjectStatusRequest)__XX__org.sonarqube.ws.Users$CreateWsResponse$User.parseFrom()', 'org.elasticsearch.search.aggregations.metrics.tophits.TopHitsAggregationBuilder.size(int)__XX__org.elasticsearch.search.suggest.completion2x.Completion090PostingsFormat$CompletionLookupProvider.buildPayload()', 'org.mockito.Matchers.anyVararg()__XX__org.mockito.ArgumentMatchers.anyVararg()', 'org.apache.sshd.common.util.Buffer.rpos()__XX__org.apache.sshd.common.util.buffer.Buffer.rpos()', 'org.jsoup.nodes.Element.toString()__XX__java.util.ArrayList.toString()')]\n"
     ]
    },
    {
     "ename": "RuntimeError",
     "evalue": "Expected 2D (unbatched) or 3D (batched) input to conv1d, but got input of size: [64]",
     "output_type": "error",
     "traceback": [
      "\u001b[1;31m---------------------------------------------------------------------------\u001b[0m",
      "\u001b[1;31mRuntimeError\u001b[0m                              Traceback (most recent call last)",
      "\u001b[1;32m~\\AppData\\Local\\Temp/ipykernel_15484/523639750.py\u001b[0m in \u001b[0;36m<module>\u001b[1;34m\u001b[0m\n\u001b[0;32m     10\u001b[0m \u001b[1;33m\u001b[0m\u001b[0m\n\u001b[0;32m     11\u001b[0m         \u001b[1;31m# forward + backward + optimize\u001b[0m\u001b[1;33m\u001b[0m\u001b[1;33m\u001b[0m\u001b[0m\n\u001b[1;32m---> 12\u001b[1;33m         \u001b[0moutputs\u001b[0m \u001b[1;33m=\u001b[0m \u001b[0mmodel\u001b[0m\u001b[1;33m(\u001b[0m\u001b[0minputs\u001b[0m\u001b[1;33m)\u001b[0m\u001b[1;33m\u001b[0m\u001b[1;33m\u001b[0m\u001b[0m\n\u001b[0m\u001b[0;32m     13\u001b[0m \u001b[1;31m#         loss = criterion(outputs, labels)\u001b[0m\u001b[1;33m\u001b[0m\u001b[1;33m\u001b[0m\u001b[0m\n\u001b[0;32m     14\u001b[0m \u001b[1;31m#         loss.backward()\u001b[0m\u001b[1;33m\u001b[0m\u001b[1;33m\u001b[0m\u001b[0m\n",
      "\u001b[1;32m~\\anaconda3\\lib\\site-packages\\torch\\nn\\modules\\module.py\u001b[0m in \u001b[0;36m_call_impl\u001b[1;34m(self, *input, **kwargs)\u001b[0m\n\u001b[0;32m   1108\u001b[0m         if not (self._backward_hooks or self._forward_hooks or self._forward_pre_hooks or _global_backward_hooks\n\u001b[0;32m   1109\u001b[0m                 or _global_forward_hooks or _global_forward_pre_hooks):\n\u001b[1;32m-> 1110\u001b[1;33m             \u001b[1;32mreturn\u001b[0m \u001b[0mforward_call\u001b[0m\u001b[1;33m(\u001b[0m\u001b[1;33m*\u001b[0m\u001b[0minput\u001b[0m\u001b[1;33m,\u001b[0m \u001b[1;33m**\u001b[0m\u001b[0mkwargs\u001b[0m\u001b[1;33m)\u001b[0m\u001b[1;33m\u001b[0m\u001b[1;33m\u001b[0m\u001b[0m\n\u001b[0m\u001b[0;32m   1111\u001b[0m         \u001b[1;31m# Do not call functions when jit is used\u001b[0m\u001b[1;33m\u001b[0m\u001b[1;33m\u001b[0m\u001b[0m\n\u001b[0;32m   1112\u001b[0m         \u001b[0mfull_backward_hooks\u001b[0m\u001b[1;33m,\u001b[0m \u001b[0mnon_full_backward_hooks\u001b[0m \u001b[1;33m=\u001b[0m \u001b[1;33m[\u001b[0m\u001b[1;33m]\u001b[0m\u001b[1;33m,\u001b[0m \u001b[1;33m[\u001b[0m\u001b[1;33m]\u001b[0m\u001b[1;33m\u001b[0m\u001b[1;33m\u001b[0m\u001b[0m\n",
      "\u001b[1;32m~\\AppData\\Local\\Temp/ipykernel_15484/2517491461.py\u001b[0m in \u001b[0;36mforward\u001b[1;34m(self, x)\u001b[0m\n\u001b[0;32m     11\u001b[0m     \u001b[1;32mdef\u001b[0m \u001b[0mforward\u001b[0m\u001b[1;33m(\u001b[0m\u001b[0mself\u001b[0m\u001b[1;33m,\u001b[0m \u001b[0mx\u001b[0m\u001b[1;33m)\u001b[0m\u001b[1;33m:\u001b[0m\u001b[1;33m\u001b[0m\u001b[1;33m\u001b[0m\u001b[0m\n\u001b[0;32m     12\u001b[0m \u001b[1;31m#         print(x)\u001b[0m\u001b[1;33m\u001b[0m\u001b[1;33m\u001b[0m\u001b[0m\n\u001b[1;32m---> 13\u001b[1;33m         \u001b[0mx\u001b[0m \u001b[1;33m=\u001b[0m \u001b[0mself\u001b[0m\u001b[1;33m.\u001b[0m\u001b[0mpool\u001b[0m\u001b[1;33m(\u001b[0m\u001b[0mF\u001b[0m\u001b[1;33m.\u001b[0m\u001b[0mrelu\u001b[0m\u001b[1;33m(\u001b[0m\u001b[0mself\u001b[0m\u001b[1;33m.\u001b[0m\u001b[0mconv1\u001b[0m\u001b[1;33m(\u001b[0m\u001b[0mx\u001b[0m\u001b[1;33m)\u001b[0m\u001b[1;33m)\u001b[0m\u001b[1;33m)\u001b[0m\u001b[1;33m\u001b[0m\u001b[1;33m\u001b[0m\u001b[0m\n\u001b[0m\u001b[0;32m     14\u001b[0m         \u001b[0mx\u001b[0m \u001b[1;33m=\u001b[0m \u001b[0mself\u001b[0m\u001b[1;33m.\u001b[0m\u001b[0mpool\u001b[0m\u001b[1;33m(\u001b[0m\u001b[0mF\u001b[0m\u001b[1;33m.\u001b[0m\u001b[0mrelu\u001b[0m\u001b[1;33m(\u001b[0m\u001b[0mself\u001b[0m\u001b[1;33m.\u001b[0m\u001b[0mconv2\u001b[0m\u001b[1;33m(\u001b[0m\u001b[0mx\u001b[0m\u001b[1;33m)\u001b[0m\u001b[1;33m)\u001b[0m\u001b[1;33m)\u001b[0m\u001b[1;33m\u001b[0m\u001b[1;33m\u001b[0m\u001b[0m\n\u001b[0;32m     15\u001b[0m         \u001b[0mx\u001b[0m \u001b[1;33m=\u001b[0m \u001b[0mF\u001b[0m\u001b[1;33m.\u001b[0m\u001b[0mrelu\u001b[0m\u001b[1;33m(\u001b[0m\u001b[0mself\u001b[0m\u001b[1;33m.\u001b[0m\u001b[0mconv1\u001b[0m\u001b[1;33m(\u001b[0m\u001b[0mx\u001b[0m\u001b[1;33m)\u001b[0m\u001b[1;33m)\u001b[0m\u001b[1;33m\u001b[0m\u001b[1;33m\u001b[0m\u001b[0m\n",
      "\u001b[1;32m~\\anaconda3\\lib\\site-packages\\torch\\nn\\modules\\module.py\u001b[0m in \u001b[0;36m_call_impl\u001b[1;34m(self, *input, **kwargs)\u001b[0m\n\u001b[0;32m   1108\u001b[0m         if not (self._backward_hooks or self._forward_hooks or self._forward_pre_hooks or _global_backward_hooks\n\u001b[0;32m   1109\u001b[0m                 or _global_forward_hooks or _global_forward_pre_hooks):\n\u001b[1;32m-> 1110\u001b[1;33m             \u001b[1;32mreturn\u001b[0m \u001b[0mforward_call\u001b[0m\u001b[1;33m(\u001b[0m\u001b[1;33m*\u001b[0m\u001b[0minput\u001b[0m\u001b[1;33m,\u001b[0m \u001b[1;33m**\u001b[0m\u001b[0mkwargs\u001b[0m\u001b[1;33m)\u001b[0m\u001b[1;33m\u001b[0m\u001b[1;33m\u001b[0m\u001b[0m\n\u001b[0m\u001b[0;32m   1111\u001b[0m         \u001b[1;31m# Do not call functions when jit is used\u001b[0m\u001b[1;33m\u001b[0m\u001b[1;33m\u001b[0m\u001b[0m\n\u001b[0;32m   1112\u001b[0m         \u001b[0mfull_backward_hooks\u001b[0m\u001b[1;33m,\u001b[0m \u001b[0mnon_full_backward_hooks\u001b[0m \u001b[1;33m=\u001b[0m \u001b[1;33m[\u001b[0m\u001b[1;33m]\u001b[0m\u001b[1;33m,\u001b[0m \u001b[1;33m[\u001b[0m\u001b[1;33m]\u001b[0m\u001b[1;33m\u001b[0m\u001b[1;33m\u001b[0m\u001b[0m\n",
      "\u001b[1;32m~\\anaconda3\\lib\\site-packages\\torch\\nn\\modules\\conv.py\u001b[0m in \u001b[0;36mforward\u001b[1;34m(self, input)\u001b[0m\n\u001b[0;32m    300\u001b[0m \u001b[1;33m\u001b[0m\u001b[0m\n\u001b[0;32m    301\u001b[0m     \u001b[1;32mdef\u001b[0m \u001b[0mforward\u001b[0m\u001b[1;33m(\u001b[0m\u001b[0mself\u001b[0m\u001b[1;33m,\u001b[0m \u001b[0minput\u001b[0m\u001b[1;33m:\u001b[0m \u001b[0mTensor\u001b[0m\u001b[1;33m)\u001b[0m \u001b[1;33m->\u001b[0m \u001b[0mTensor\u001b[0m\u001b[1;33m:\u001b[0m\u001b[1;33m\u001b[0m\u001b[1;33m\u001b[0m\u001b[0m\n\u001b[1;32m--> 302\u001b[1;33m         \u001b[1;32mreturn\u001b[0m \u001b[0mself\u001b[0m\u001b[1;33m.\u001b[0m\u001b[0m_conv_forward\u001b[0m\u001b[1;33m(\u001b[0m\u001b[0minput\u001b[0m\u001b[1;33m,\u001b[0m \u001b[0mself\u001b[0m\u001b[1;33m.\u001b[0m\u001b[0mweight\u001b[0m\u001b[1;33m,\u001b[0m \u001b[0mself\u001b[0m\u001b[1;33m.\u001b[0m\u001b[0mbias\u001b[0m\u001b[1;33m)\u001b[0m\u001b[1;33m\u001b[0m\u001b[1;33m\u001b[0m\u001b[0m\n\u001b[0m\u001b[0;32m    303\u001b[0m \u001b[1;33m\u001b[0m\u001b[0m\n\u001b[0;32m    304\u001b[0m \u001b[1;33m\u001b[0m\u001b[0m\n",
      "\u001b[1;32m~\\anaconda3\\lib\\site-packages\\torch\\nn\\modules\\conv.py\u001b[0m in \u001b[0;36m_conv_forward\u001b[1;34m(self, input, weight, bias)\u001b[0m\n\u001b[0;32m    296\u001b[0m                             \u001b[0mweight\u001b[0m\u001b[1;33m,\u001b[0m \u001b[0mbias\u001b[0m\u001b[1;33m,\u001b[0m \u001b[0mself\u001b[0m\u001b[1;33m.\u001b[0m\u001b[0mstride\u001b[0m\u001b[1;33m,\u001b[0m\u001b[1;33m\u001b[0m\u001b[1;33m\u001b[0m\u001b[0m\n\u001b[0;32m    297\u001b[0m                             _single(0), self.dilation, self.groups)\n\u001b[1;32m--> 298\u001b[1;33m         return F.conv1d(input, weight, bias, self.stride,\n\u001b[0m\u001b[0;32m    299\u001b[0m                         self.padding, self.dilation, self.groups)\n\u001b[0;32m    300\u001b[0m \u001b[1;33m\u001b[0m\u001b[0m\n",
      "\u001b[1;31mRuntimeError\u001b[0m: Expected 2D (unbatched) or 3D (batched) input to conv1d, but got input of size: [64]"
     ]
    }
   ],
   "source": [
    "for epoch in range(5):  # loop over the dataset multiple times\n",
    "\n",
    "    running_loss = 0.0\n",
    "    for i, data in enumerate(training_dataloader, 0):\n",
    "        # get the inputs; data is a list of [inputs, labels]\n",
    "        inputs, labels = data\n",
    "        print(data)\n",
    "        # zero the parameter gradients\n",
    "        optimizer.zero_grad()\n",
    "\n",
    "        # forward + backward + optimize\n",
    "        outputs = model(inputs)\n",
    "#         loss = criterion(outputs, labels)\n",
    "#         loss.backward()\n",
    "#         optimizer.step()\n",
    "\n",
    "#         # print statistics\n",
    "#         running_loss += loss.item()\n",
    "#         if i % 2000 == 1999:    # print every 2000 mini-batches\n",
    "#             print(f'[{epoch + 1}, {i + 1:5d}] loss: {running_loss / 2000:.3f}')\n",
    "#             running_loss = 0.0\n",
    "\n",
    "print('Finished Training')"
   ]
  },
  {
   "cell_type": "code",
   "execution_count": null,
   "id": "dc022bea",
   "metadata": {},
   "outputs": [],
   "source": []
  },
  {
   "cell_type": "code",
   "execution_count": null,
   "id": "ca974def",
   "metadata": {},
   "outputs": [],
   "source": []
  },
  {
   "cell_type": "code",
   "execution_count": null,
   "id": "bf77eb48",
   "metadata": {},
   "outputs": [],
   "source": []
  }
 ],
 "metadata": {
  "kernelspec": {
   "display_name": "Python 3 (ipykernel)",
   "language": "python",
   "name": "python3"
  },
  "language_info": {
   "codemirror_mode": {
    "name": "ipython",
    "version": 3
   },
   "file_extension": ".py",
   "mimetype": "text/x-python",
   "name": "python",
   "nbconvert_exporter": "python",
   "pygments_lexer": "ipython3",
   "version": "3.9.7"
  }
 },
 "nbformat": 4,
 "nbformat_minor": 5
}
