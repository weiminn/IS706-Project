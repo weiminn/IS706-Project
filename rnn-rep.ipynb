{
 "cells": [
  {
   "cell_type": "code",
   "execution_count": 1,
   "id": "28c27d3b",
   "metadata": {},
   "outputs": [],
   "source": [
    "#https://pytorch.org/tutorials/intermediate/char_rnn_classification_tutorial.html"
   ]
  },
  {
   "cell_type": "code",
   "execution_count": 46,
   "id": "789d3480",
   "metadata": {},
   "outputs": [],
   "source": [
    "from __future__ import unicode_literals, print_function, division\n",
    "from io import open\n",
    "import glob\n",
    "import os\n",
    "import string\n",
    "import torch\n",
    "import torch.nn as nn\n",
    "import matplotlib.pyplot as plt\n",
    "import matplotlib.ticker as ticker\n",
    "import random\n",
    "import time\n",
    "import math\n",
    "def findFiles(path): return glob.glob(path)"
   ]
  },
  {
   "cell_type": "markdown",
   "id": "686b75ec",
   "metadata": {},
   "source": [
    "<h2>Choose dataset"
   ]
  },
  {
   "cell_type": "code",
   "execution_count": 64,
   "id": "06c497c4",
   "metadata": {},
   "outputs": [
    {
     "name": "stdout",
     "output_type": "stream",
     "text": [
      "['dataset/rep/training\\\\positive.txt', 'dataset/rep/training\\\\negative.txt']\n",
      "['dataset/rep/validation\\\\negative.txt', 'dataset/rep/validation\\\\positive.txt']\n",
      "['dataset/rep+extra/training\\\\positive.txt', 'dataset/rep+extra/training\\\\negative.txt']\n"
     ]
    }
   ],
   "source": [
    "#all datapoints\n",
    "pathToRep = 'dataset/rep/'\n",
    "pathToExt = 'dataset/rep+extra/'\n",
    "\n",
    "print(findFiles(pathToRep + 'training/*.txt'))\n",
    "print(findFiles(pathToRep + 'validation/*.txt'))\n",
    "print(findFiles(pathToExt + 'training/*.txt'))"
   ]
  },
  {
   "cell_type": "code",
   "execution_count": 78,
   "id": "dacb84e1",
   "metadata": {},
   "outputs": [
    {
     "name": "stdout",
     "output_type": "stream",
     "text": [
      "57\n",
      "['positive', 'negative']\n",
      "32\n",
      "jedis.BinaryTransaction.exec()jedis.Transaction.exec()\n",
      "common.settings.Settings.settingsBuilder()common.settings.Settings.builder()\n"
     ]
    }
   ],
   "source": [
    "all_letters = string.ascii_letters + \" .,;'\"\n",
    "# n_letters = 200\n",
    "n_letters = len(all_letters)\n",
    "\n",
    "# Turn a Unicode string to plain ASCII, thanks to https://stackoverflow.com/a/518232/2809427\n",
    "def clean(s):\n",
    "    return s.replace('\"', '').replace(\"'\", \"\").replace(' ', '')\n",
    "\n",
    "# print(unicodeToAscii('Ślusàrski'))\n",
    "\n",
    "# Build the category_lines dictionary, a list of names per language\n",
    "category_lines = {}\n",
    "category_lines_val = {}\n",
    "all_categories = []\n",
    "\n",
    "# Read a file and split into lines\n",
    "def readLines(filename):\n",
    "    lines = open(filename, encoding='utf-8').read().strip().split('\\n')\n",
    "    return [clean(line) for line in lines]\n",
    "\n",
    "for filename in findFiles(pathToRep + 'training/*.txt'):\n",
    "    category = os.path.splitext(os.path.basename(filename))[0]\n",
    "    all_categories.append(category)\n",
    "    lines = readLines(filename)\n",
    "    category_lines[category] = lines\n",
    "\n",
    "for filename in findFiles(pathToRep + 'validation/*.txt'):\n",
    "    category = os.path.splitext(os.path.basename(filename))[0]\n",
    "    # all_categories.append(category)\n",
    "    lines = readLines(filename)\n",
    "    category_lines_val[category] = lines\n",
    "\n",
    "n_categories = len(all_categories)\n",
    "print(len(all_letters))\n",
    "print(all_categories)\n",
    "print(random.randint(0, len(category_lines['positive'])-1))\n",
    "print(category_lines['positive'][random.randint(0, len(category_lines['positive'])-1)])\n",
    "print(category_lines_val['positive'][random.randint(0, len(category_lines_val['positive'])-1)])"
   ]
  },
  {
   "cell_type": "code",
   "execution_count": 79,
   "id": "8d8264e7",
   "metadata": {},
   "outputs": [
    {
     "name": "stdout",
     "output_type": "stream",
     "text": [
      "tensor([[0., 0., 0., 0., 0., 0., 0., 0., 0., 0., 0., 0., 0., 0., 0., 0., 0., 0.,\n",
      "         0., 0., 0., 0., 0., 0., 0., 0., 0., 0., 0., 0., 0., 0., 0., 0., 0., 1.,\n",
      "         0., 0., 0., 0., 0., 0., 0., 0., 0., 0., 0., 0., 0., 0., 0., 0., 0., 0.,\n",
      "         0., 0., 0.]])\n",
      "torch.Size([5, 1, 57])\n"
     ]
    }
   ],
   "source": [
    "# Find letter index from all_letters, e.g. \"a\" = 0\n",
    "def letterToIndex(letter):\n",
    "    return all_letters.find(letter)\n",
    "\n",
    "# Just for demonstration, turn a letter into a <1 x n_letters> Tensor\n",
    "def letterToTensor(letter):\n",
    "    tensor = torch.zeros(1, n_letters)\n",
    "    tensor[0][letterToIndex(letter)] = 1\n",
    "    return tensor\n",
    "\n",
    "# Turn a line into a <line_length x 1 x n_letters>,\n",
    "# or an array of one-hot letter vectors\n",
    "def lineToTensor(line):\n",
    "    tensor = torch.zeros(len(line), 1, n_letters)\n",
    "    for li, letter in enumerate(line):\n",
    "        tensor[li][0][letterToIndex(letter)] = 1\n",
    "    return tensor\n",
    "\n",
    "print(letterToTensor('J'))\n",
    "print(lineToTensor('Jones').size())"
   ]
  },
  {
   "cell_type": "code",
   "execution_count": 80,
   "id": "e369d13d",
   "metadata": {},
   "outputs": [],
   "source": [
    "def categoryFromOutput(output):\n",
    "    top_n, top_i = output.topk(1)\n",
    "    category_i = top_i[0].item()\n",
    "    return all_categories[category_i], category_i\n",
    "\n",
    "# print(categoryFromOutput(output))"
   ]
  },
  {
   "cell_type": "code",
   "execution_count": 81,
   "id": "a67a4205",
   "metadata": {},
   "outputs": [
    {
     "name": "stdout",
     "output_type": "stream",
     "text": [
      "category = negative / line = sshd.SshServer.getUserAuthFactories()sshd.server.SshServer.setSessionFactory()\n",
      "category val = positive / line = angel.ml.core.conf.MLConf.ML_GBDT_TREE_NUM()angel.ml.core.conf.AngelMLConf.ML_GBDT_TREE_NUM()\n",
      "category = positive / line = solr.client.solrj.impl.HttpSolrServer.getBaseURL()solr.client.solrj.impl.HttpSolrClient.getBaseURL()\n",
      "category val = positive / line = jedis.Jedis.select(int)jedis.BinaryJedis.select(int)\n",
      "category = negative / line = action.index.IndexResponse.getIndex()action.get.GetResponse.getId()\n",
      "category val = negative / line = asn1.DERInteger.getPositiveValue()asn1.ASN1Set.getInstance()\n",
      "category = positive / line = angel.ml.core.conf.MLConf.ML_GBDT_SPLIT_NUM()angel.ml.core.conf.AngelMLConf.ML_GBDT_SPLIT_NUM()\n",
      "category val = positive / line = common.settings.ImmutableSettings.settingsBuilder()common.settings.Settings.settingsBuilder()\n",
      "category = negative / line = DBMaker.syncOnCommitDisable()DBMaker.asyncWriteEnable()\n",
      "category val = positive / line = catalina.deploy.FilterDef.setFilterClass(String)tomcat.util.descriptor.web.FilterDef.setFilterClass(String)\n",
      "category = positive / line = angel.ml.core.conf.MLConf.KMEANS_C()angel.ml.core.conf.AngelMLConf.KMEANS_C()\n",
      "category val = negative / line = common.settings.Settings.settingsBuilder()common.settings.Settings.hashCode()\n",
      "category = positive / line = Matchers.eq(byte)ArgumentMatchers.eq(byte)\n",
      "category val = negative / line = groovy.tools.shell.Groovysh.execute(String)GroovyShell.run(String,String,List)\n",
      "category = negative / line = mapping.Component.getNodeName()mapping.Component.getColumnIterator()\n",
      "category val = negative / line = catalina.deploy.FilterMap.addURLPattern(String)tomcat.util.descriptor.web.FilterMap.setDispatcher()\n",
      "category = negative / line = Matchers.anyVararg()ArgumentMatchers.any()\n",
      "category val = positive / line = lucene.search.NumericRangeQuery.newFloatRange(String,Float,Float,boolean,boolean)lucene.search.LegacyNumericRangeQuery.newFloatRange(String,Float,Float,boolean,boolean)\n",
      "category = negative / line = text.Rectangle.width()text.Rectangle.getRight()\n",
      "category val = positive / line = angel.ml.core.conf.MLConf.ML_GBDT_TREE_NUM()angel.ml.core.conf.AngelMLConf.ML_GBDT_TREE_NUM()\n"
     ]
    }
   ],
   "source": [
    "def randomChoice(l):\n",
    "    return l[random.randint(0, len(l) - 1)]\n",
    "\n",
    "def randomTrainingExample():\n",
    "    category = randomChoice(all_categories)\n",
    "    line = randomChoice(category_lines[category])\n",
    "    category_tensor = torch.tensor([all_categories.index(category)], dtype=torch.long)\n",
    "    line_tensor = lineToTensor(line)\n",
    "    return category, line, category_tensor, line_tensor\n",
    "\n",
    "def randomValidationExample():\n",
    "    category = randomChoice(all_categories)\n",
    "    line = randomChoice(category_lines_val[category])\n",
    "    category_tensor = torch.tensor([all_categories.index(category)], dtype=torch.long)\n",
    "    line_tensor = lineToTensor(line)\n",
    "    return category, line, category_tensor, line_tensor\n",
    "\n",
    "for i in range(10):\n",
    "    category, line, category_tensor, line_tensor = randomTrainingExample()\n",
    "    print('category =', category, '/ line =', line)\n",
    "    category, line, category_tensor, line_tensor = randomValidationExample()\n",
    "    print('category val =', category, '/ line =', line)"
   ]
  },
  {
   "cell_type": "code",
   "execution_count": 82,
   "id": "78907a5e",
   "metadata": {},
   "outputs": [],
   "source": [
    "class RNN(nn.Module):\n",
    "    def __init__(self, input_size, hidden_size, output_size):\n",
    "        super(RNN, self).__init__()\n",
    "\n",
    "        self.hidden_size = hidden_size\n",
    "\n",
    "        self.i2h = nn.Linear(input_size + hidden_size, hidden_size)\n",
    "        self.i2o = nn.Linear(input_size + hidden_size, output_size)\n",
    "        self.softmax = nn.LogSoftmax(dim=1)\n",
    "\n",
    "    def forward(self, input, hidden):\n",
    "        combined = torch.cat((input, hidden), 1)\n",
    "        hidden = self.i2h(combined)\n",
    "        output = self.i2o(combined)\n",
    "        output = self.softmax(output)\n",
    "        return output, hidden\n",
    "\n",
    "    def initHidden(self):\n",
    "        return torch.zeros(1, self.hidden_size)\n",
    "\n",
    "# n_hidden = 128\n"
   ]
  },
  {
   "cell_type": "code",
   "execution_count": 83,
   "id": "e035d59e",
   "metadata": {},
   "outputs": [],
   "source": [
    "n_hidden = n_letters\n",
    "rnn = RNN(n_letters, n_hidden, n_categories)\n",
    "criterion = nn.NLLLoss()"
   ]
  },
  {
   "cell_type": "code",
   "execution_count": 84,
   "id": "9d7b545f",
   "metadata": {},
   "outputs": [],
   "source": [
    "def train(category_tensor, line_tensor, learning_rate):\n",
    "    hidden = rnn.initHidden()\n",
    "\n",
    "    rnn.zero_grad()\n",
    "\n",
    "    for i in range(line_tensor.size()[0]):\n",
    "        output, hidden = rnn(line_tensor[i], hidden)\n",
    "\n",
    "    loss = criterion(output, category_tensor)\n",
    "    loss.backward()\n",
    "\n",
    "    # Add parameters' gradients to their values, multiplied by learning rate\n",
    "    for p in rnn.parameters():\n",
    "        p.data.add_(p.grad.data, alpha=-learning_rate)\n",
    "\n",
    "    return output, loss.item()"
   ]
  },
  {
   "cell_type": "code",
   "execution_count": 85,
   "id": "e2d6ad48",
   "metadata": {
    "scrolled": false
   },
   "outputs": [
    {
     "name": "stdout",
     "output_type": "stream",
     "text": [
      "500 2% (0m 6s) 0.6297990 Matchers.startsWith(String)ArgumentMatchers.anyInt() / negative ✓\n",
      "1000 4% (0m 12s) 0.6550198 action.delete.DeleteResponse.getIndex()action.DocWriteResponse.getIndex() / positive ✓\n",
      "1500 6% (0m 19s) 0.6764974 Matchers.eq(long)ArgumentMatchers() / negative ✓\n",
      "2000 8% (0m 25s) 0.6647868 action.bulk.BulkItemResponse.failed()action.bulk.BulkResponse.hasFailures() / negative ✓\n",
      "2500 10% (0m 32s) 0.8655928 node.NodeBuilder.settings()common.settings.Settings.builder() / negative ✗ (positive)\n",
      "3000 12% (0m 39s) 0.5765328 action.delete.DeleteResponse.isNotFound()action.delete.DeleteResponse() / negative ✓\n",
      "3500 14% (0m 45s) 0.6358589 catalina.deploy.FilterDef.setFilterClass(String)tomcat.util.descriptor.web.FilterDef.toString() / negative ✓\n",
      "4000 16% (0m 51s) 0.4548047 Matchers.eq(boolean)ArgumentMatchers.eq(boolean) / positive ✓\n",
      "4500 18% (0m 58s) 1.1244762 sshd.SshServer.start()sshd.server.SshServer.start() / negative ✗ (positive)\n",
      "5000 20% (1m 5s) 0.7964636 Matchers.anyMap()ArgumentMatchers.anyMap() / negative ✗ (positive)\n",
      "5500 22% (1m 12s) 0.4718981 Matchers.anyVararg()ArgumentMatchers.anyChar() / negative ✓\n",
      "6000 24% (1m 18s) 0.8125284 action.index.IndexResponse.version()action.index.IndexResponse.getVersion() / negative ✗ (positive)\n",
      "6500 26% (1m 25s) 1.2919328 Matchers.anyObject()ArgumentMatchers.anyObject() / negative ✗ (positive)\n",
      "7000 28% (1m 32s) 0.0871696 action.mlt.MoreLikeThisRequestBuilder.setMinTermFreq(int)index.query.MoreLikeThisQueryBuilder.minTermFreq(int) / positive ✓\n",
      "7500 30% (1m 40s) 0.1057013 catalina.deploy.FilterMap.addServletName(String)tomcat.util.descriptor.web.FilterMap.addServletName(String) / positive ✓\n",
      "8000 32% (1m 47s) 0.8169875 solr.client.solrj.impl.HttpSolrServer.getBaseURL()solr.client.solrj.impl.HttpSolrClient.getBaseURL() / negative ✗ (positive)\n",
      "8500 34% (1m 54s) 0.2975170 node.NodeBuilder.settings()node.Node.getEnvironment() / negative ✓\n",
      "9000 36% (2m 2s) 0.9515909 common.settings.ImmutableSettings.settingsBuilder()common.settings.Settings.builder() / negative ✗ (positive)\n",
      "9500 38% (2m 9s) 0.1006876 ws.client.component.ComponentsService.show(ShowWsRequest)ws.client.components.ComponentsService.show(ShowRequest) / positive ✓\n",
      "10000 40% (2m 16s) 0.0819580 Matchers.matches(String)ArgumentMatchers.matches(String) / positive ✓\n",
      "10500 42% (2m 23s) 0.0923897 Matchers.eq(long)ArgumentMatchers.eq(long) / positive ✓\n",
      "11000 44% (2m 30s) 0.0811395 ws.client.qualitygate.QualityGatesService.projectStatus(ProjectStatusWsRequest)ws.client.qualitygates.QualitygatesService.projectStatus(ProjectStatusRequest) / positive ✓\n",
      "11500 46% (2m 36s) 0.4091528 lucene.search.NumericRangeQuery.newFloatRange(String,Float,Float,boolean,boolean)lucene.search.LegacyNumericRangeQuery.newDoubleRange() / negative ✓\n",
      "12000 48% (2m 43s) 0.5279227 catalina.deploy.FilterMap.addURLPattern(String)tomcat.util.descriptor.web.FilterMap.toString() / negative ✓\n",
      "12500 50% (2m 50s) 0.2593198 duplications.internal.pmd.TokensLine.getValue()api.batch.sensor.cpd.internal.TokensLine.getStartUnit() / negative ✓\n",
      "13000 52% (2m 57s) 0.0528454 catalina.deploy.FilterMap.setFilterName(String)tomcat.util.descriptor.web.FilterMap.setFilterName(String) / positive ✓\n",
      "13500 54% (3m 4s) 0.9792633 solr.common.params.ModifiableSolrParams.toString()solr.common.params.SolrParams.toString() / negative ✗ (positive)\n",
      "14000 56% (3m 10s) 0.0471950 Matchers.contains(String)ArgumentMatchers.contains(String) / positive ✓\n",
      "14500 57% (3m 17s) 0.5058296 action.index.IndexResponse.version()action.index.IndexResponse.setMatches() / negative ✓\n",
      "15000 60% (3m 23s) 0.2773913 action.get.GetResponse.exists()action.get.GetResponse.getType() / negative ✓\n",
      "15500 62% (3m 30s) 2.7310984 index.query.RangeFilterBuilder.lte(Object)index.query.RangeQueryBuilder.lte(String) / positive ✗ (negative)\n",
      "16000 64% (3m 37s) 0.6210508 action.search.SearchResponse.facets()action.search.SearchResponse.getFacets() / positive ✓\n",
      "16500 66% (3m 43s) 0.2719092 action.search.SearchResponse.hits()action.search.SearchResponse.readFrom() / negative ✓\n",
      "17000 68% (3m 50s) 0.6676164 angel.ml.core.conf.MLConf.DEFAULT_ML_MODEL_TYPE()angel.ml.core.conf.AngelMLConf.DEFAULT_ML_MODEL_TYPE() / positive ✓\n",
      "17500 70% (3m 57s) 1.0982351 action.bulk.BulkResponse.items()action.bulk.BulkResponse.getItems() / negative ✗ (positive)\n",
      "18000 72% (4m 3s) 0.1111507 lucene.search.NumericRangeQuery.newIntRange(String,Integer,Integer,boolean,boolean)lucene.search.LegacyNumericRangeQuery.newIntRange(String,Integer,Integer,boolean,boolean) / positive ✓\n",
      "18500 74% (4m 10s) 0.1203981 exceptions.Reporter.wantedButNotInvokedInOrder(DescribedInvocation,DescribedInvocation)internal.exceptions.Reporter.wantedButNotInvokedInOrder(DescribedInvocation,DescribedInvocation) / positive ✓\n",
      "19000 76% (4m 19s) 0.1665672 Matchers.anyBoolean()ArgumentMatchers.anySet() / negative ✓\n",
      "19500 78% (4m 27s) 0.0912370 Matchers.eq(boolean)ArgumentMatchers.eq(boolean) / positive ✓\n",
      "20000 80% (4m 35s) 0.9681275 asn1.DERInteger.getPositiveValue()asn1.ASN1Integer.getPositiveValue() / negative ✗ (positive)\n",
      "20500 82% (4m 42s) 0.4552953 common.collect.MapMaker.softValues()common.cache.CacheBuilder.weakKeys() / negative ✓\n",
      "21000 84% (4m 49s) 0.0383722 catalina.deploy.FilterMap.addURLPattern(String)tomcat.util.descriptor.web.FilterMap.addURLPattern(String) / positive ✓\n",
      "21500 86% (4m 56s) 0.2196032 solr.client.solrj.impl.HttpSolrServer.setUseMultiPartPost(boolean)solr.client.solrj.impl.HttpSolrClient.setSoTimeout() / negative ✓\n",
      "22000 88% (5m 3s) 0.0237257 search.aggregations.metrics.tophits.TopHitsBuilder.setSize(int)search.aggregations.metrics.tophits.TopHitsAggregationBuilder.size(int) / positive ✓\n",
      "22500 90% (5m 11s) 0.9339579 common.compress.CompressedString.string()common.compress.CompressedXContent.string() / negative ✗ (positive)\n",
      "23000 92% (5m 17s) 0.0334316 solr.client.solrj.request.CoreAdminRequest.process(SolrServer)solr.client.solrj.SolrRequest.process(SolrClient) / positive ✓\n",
      "23500 94% (5m 24s) 0.0149096 DBMaker.asyncFlushDelay(int)DBMaker.asyncWriteFlushDelay(int) / positive ✓\n",
      "24000 96% (5m 30s) 0.3666457 common.collect.MapMaker.softValues()common.cache.CacheBuilder.weakKeys() / negative ✓\n",
      "24500 98% (5m 37s) 0.0331688 Matchers.eq(long)ArgumentMatchers.eq(long) / positive ✓\n",
      "25000 100% (5m 43s) 0.0108346 search.aggregations.metrics.tophits.TopHitsBuilder.setSize(int)search.aggregations.metrics.tophits.TopHitsAggregationBuilder.size(int) / positive ✓\n"
     ]
    }
   ],
   "source": [
    "n_iters = 25000\n",
    "print_every = 500\n",
    "plot_every = 200\n",
    "\n",
    "# Keep track of losses for plotting\n",
    "current_loss = 0\n",
    "all_losses = []\n",
    "\n",
    "def timeSince(since):\n",
    "    now = time.time()\n",
    "    s = now - since\n",
    "    m = math.floor(s / 60)\n",
    "    s -= m * 60\n",
    "    return '%dm %ds' % (m, s)\n",
    "\n",
    "start = time.time()\n",
    "\n",
    "rate = 0.002\n",
    "\n",
    "for iter in range(1, n_iters + 1):\n",
    "    category, line, category_tensor, line_tensor = randomTrainingExample()\n",
    "    # if iter < n_iters/10:\n",
    "    #     rate = 0.005\n",
    "    # elif iter > 5 * n_iters / 10:\n",
    "    #     rate = 0.001\n",
    "    # else:\n",
    "    #     rate = 0.002\n",
    "    output, loss = train(category_tensor, line_tensor, rate)\n",
    "    current_loss += loss\n",
    "\n",
    "    # Print iter number, loss, name and guess\n",
    "    if iter % print_every == 0:\n",
    "        guess, guess_i = categoryFromOutput(output)\n",
    "        correct = '✓' if guess == category else '✗ (%s)' % category\n",
    "        print('%d %d%% (%s) %.7f %s / %s %s' % (iter, iter / n_iters * 100, timeSince(start), loss, line, guess, correct))\n",
    "\n",
    "    # Add current loss avg to list of losses\n",
    "    if iter % plot_every == 0:\n",
    "        all_losses.append(current_loss / plot_every)\n",
    "        current_loss = 0"
   ]
  },
  {
   "cell_type": "code",
   "execution_count": 86,
   "id": "ff836b61",
   "metadata": {},
   "outputs": [
    {
     "data": {
      "text/plain": [
       "[<matplotlib.lines.Line2D at 0x232e34d65e0>]"
      ]
     },
     "execution_count": 86,
     "metadata": {},
     "output_type": "execute_result"
    },
    {
     "data": {
      "image/png": "[encoded data removed]",
      "text/plain": [
       "<Figure size 432x288 with 1 Axes>"
      ]
     },
     "metadata": {
      "needs_background": "light"
     },
     "output_type": "display_data"
    }
   ],
   "source": [
    "plt.figure()\n",
    "plt.plot(all_losses)"
   ]
  },
  {
   "cell_type": "code",
   "execution_count": 87,
   "id": "55033b67",
   "metadata": {},
   "outputs": [
    {
     "name": "stdout",
     "output_type": "stream",
     "text": [
      "{'positive': {'tp': 133, 'total': 239}, 'negative': {'tp': 210, 'total': 261}}\n",
      "tensor([[133., 106.],\n",
      "        [ 51., 210.]])\n",
      "(Yes) Precision: 0.5564853556485355\n",
      "(Yes) Recall: 0.5564853549003601\n",
      "(Yes) F1: 0.5564853552744479\n",
      "(No) Precision: 0.8045977011494253\n",
      "(No) Recall: 0.8045976758003235\n",
      "(No) F1: 0.8045976884748741\n"
     ]
    }
   ],
   "source": [
    "n_confusion = 500\n",
    "\n",
    "# Just return an output given a line\n",
    "def evaluate(line_tensor):\n",
    "    hidden = rnn.initHidden()\n",
    "\n",
    "    for i in range(line_tensor.size()[0]):\n",
    "        output, hidden = rnn(line_tensor[i], hidden)\n",
    "\n",
    "    return output\n",
    "\n",
    "# Keep track of correct guesses in a confusion matrix\n",
    "confusion = torch.zeros(n_categories, n_categories)\n",
    "precision = {\n",
    "    'positive': {\n",
    "        'tp': 0,\n",
    "        'total': 0\n",
    "    },\n",
    "    'negative': {\n",
    "        'tp': 0,\n",
    "        'total': 0\n",
    "    }\n",
    "}\n",
    "\n",
    "for i in range(n_confusion):\n",
    "    category, line, category_tensor, line_tensor = randomValidationExample()\n",
    "    output = evaluate(line_tensor)\n",
    "    guess, guess_i = categoryFromOutput(output)\n",
    "    # correct = '✓' if guess == category else '✗ (%s)' % category\n",
    "    # print(line, guess, correct)\n",
    "    category_i = all_categories.index(category)\n",
    "    confusion[category_i][guess_i] += 1\n",
    "    precision[category]['total'] += 1\n",
    "    if category is guess:\n",
    "        precision[category]['tp'] += 1\n",
    "\n",
    "print(precision)\n",
    "print(confusion)\n",
    "\n",
    "yp = precision['positive']['tp']/precision['positive']['total']\n",
    "yr = float(confusion[0][0]/sum(confusion[0]))\n",
    "print('(Yes) Precision:', yp)\n",
    "# print('No precision:', precision['no']['tp']/precision['no']['total'])\n",
    "print('(Yes) Recall:', yr)\n",
    "print('(Yes) F1:', 2 * (yp * yr) / (yp + yr))\n",
    "\n",
    "np = precision['negative']['tp']/precision['negative']['total']\n",
    "nr = float(confusion[1][1]/sum(confusion[1]))\n",
    "print('(No) Precision:', np)\n",
    "# print('No precision:', precision['no']['tp']/precision['no']['total'])\n",
    "print('(No) Recall:', nr)\n",
    "print('(No) F1:', 2 * (np * nr) / (np + nr))"
   ]
  },
  {
   "cell_type": "code",
   "execution_count": 89,
   "id": "34036633",
   "metadata": {},
   "outputs": [
    {
     "name": "stderr",
     "output_type": "stream",
     "text": [
      "C:\\Users\\mgwei\\AppData\\Local\\Temp/ipykernel_3052/2806226085.py:12: UserWarning: FixedFormatter should only be used together with FixedLocator\n",
      "  ax.set_xticklabels([''] + all_categories, rotation=90)\n",
      "C:\\Users\\mgwei\\AppData\\Local\\Temp/ipykernel_3052/2806226085.py:13: UserWarning: FixedFormatter should only be used together with FixedLocator\n",
      "  ax.set_yticklabels([''] + all_categories)\n"
     ]
    },
    {
     "data": {
      "image/png": "[encoded data removed]",
      "text/plain": [
       "<Figure size 432x288 with 2 Axes>"
      ]
     },
     "metadata": {
      "needs_background": "light"
     },
     "output_type": "display_data"
    }
   ],
   "source": [
    "# Normalize by dividing every row by its sum\n",
    "for i in range(n_categories):\n",
    "    confusion[i] = confusion[i] / confusion[i].sum()\n",
    "\n",
    "# Set up plot\n",
    "fig = plt.figure()\n",
    "ax = fig.add_subplot(111)\n",
    "cax = ax.matshow(confusion.numpy())\n",
    "fig.colorbar(cax)\n",
    "\n",
    "# Set up axes\n",
    "ax.set_xticklabels([''] + all_categories, rotation=90)\n",
    "ax.set_yticklabels([''] + all_categories)\n",
    "\n",
    "# Force label at every tick\n",
    "ax.xaxis.set_major_locator(ticker.MultipleLocator(1))\n",
    "ax.yaxis.set_major_locator(ticker.MultipleLocator(1))\n",
    "\n",
    "# sphinx_gallery_thumbnail_number = 2\n",
    "plt.show()"
   ]
  },
  {
   "cell_type": "code",
   "execution_count": null,
   "id": "61b76fb7",
   "metadata": {},
   "outputs": [],
   "source": []
  }
 ],
 "metadata": {
  "kernelspec": {
   "display_name": "Python 3 (ipykernel)",
   "language": "python",
   "name": "python3"
  },
  "language_info": {
   "codemirror_mode": {
    "name": "ipython",
    "version": 3
   },
   "file_extension": ".py",
   "mimetype": "text/x-python",
   "name": "python",
   "nbconvert_exporter": "python",
   "pygments_lexer": "ipython3",
   "version": "3.9.7"
  }
 },
 "nbformat": 4,
 "nbformat_minor": 5
}
