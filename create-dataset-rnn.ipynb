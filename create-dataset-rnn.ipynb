{
 "cells": [
  {
   "cell_type": "code",
   "execution_count": 15,
   "metadata": {},
   "outputs": [],
   "source": [
    "import shutil\n",
    "import os\n",
    "from csv import writer\n",
    "import numpy\n",
    "import numpy\n",
    "from Levenshtein import *"
   ]
  },
  {
   "cell_type": "code",
   "execution_count": 6,
   "metadata": {},
   "outputs": [
    {
     "name": "stdout",
     "output_type": "stream",
     "text": [
      "File not found\n",
      "File not found\n",
      "File not found\n",
      "File not found\n"
     ]
    }
   ],
   "source": [
    "try:\n",
    "    os.remove('G:\\My Drive\\Term 4.2\\IS706 - Software Mining and Analysis\\Project\\\\dataset\\\\rep\\\\training-rnn\\\\positive.txt')\n",
    "except:\n",
    "    print(\"File not found\")\n",
    "try:\n",
    "    os.remove('G:\\My Drive\\Term 4.2\\IS706 - Software Mining and Analysis\\Project\\\\dataset\\\\rep\\\\training-rnn\\\\negative.txt')\n",
    "except:\n",
    "    print(\"File not found\")\n",
    "try:\n",
    "    os.remove('G:\\My Drive\\Term 4.2\\IS706 - Software Mining and Analysis\\Project\\\\dataset\\\\rep+extra\\\\training-rnn\\\\positive.txt')\n",
    "except:\n",
    "    print(\"File not found\")\n",
    "try:\n",
    "    os.remove('G:\\My Drive\\Term 4.2\\IS706 - Software Mining and Analysis\\Project\\\\dataset\\\\rep+extra\\\\training-rnn\\\\negative.txt')\n",
    "except:\n",
    "    print(\"File not found\")\n",
    "try:\n",
    "    os.remove('G:\\My Drive\\Term 4.2\\IS706 - Software Mining and Analysis\\Project\\\\dataset\\\\rep\\\\validation\\\\positive.txt')\n",
    "except:\n",
    "    print(\"File not found\")\n",
    "try:\n",
    "    os.remove('G:\\My Drive\\Term 4.2\\IS706 - Software Mining and Analysis\\Project\\\\dataset\\\\rep\\\\validation\\\\negative.txt')\n",
    "except:\n",
    "    print(\"File not found\")"
   ]
  },
  {
   "cell_type": "markdown",
   "metadata": {},
   "source": [
    "<h2>Oversampling Positive Datapoints"
   ]
  },
  {
   "cell_type": "markdown",
   "metadata": {},
   "source": [
    "<h3>For Just RepFinder"
   ]
  },
  {
   "cell_type": "code",
   "execution_count": 16,
   "metadata": {},
   "outputs": [
    {
     "name": "stdout",
     "output_type": "stream",
     "text": [
      "3828\n"
     ]
    },
    {
     "data": {
      "text/plain": [
       "'G:\\\\My Drive\\\\Term 4.2\\\\IS706 - Software Mining and Analysis\\\\Project\\\\dataset\\\\rep\\\\training-rnn\\\\negative.txt'"
      ]
     },
     "execution_count": 16,
     "metadata": {},
     "output_type": "execute_result"
    }
   ],
   "source": [
    "count = len(open('G:\\My Drive\\Term 4.2\\IS706 - Software Mining and Analysis\\Project\\\\dataset\\\\rep\\\\training\\\\negative.txt', encoding='utf-8').read().strip().split('\\n'))\n",
    "\n",
    "posPairs = numpy.random.choice(open('G:\\My Drive\\Term 4.2\\IS706 - Software Mining and Analysis\\Project\\\\dataset\\\\rep\\\\training\\\\negative.txt', encoding='utf-8').read().strip().split('\\n'), \n",
    "    count)\n",
    "\n",
    "print(len(posPairs))\n",
    "\n",
    "with open('G:\\My Drive\\Term 4.2\\IS706 - Software Mining and Analysis\\Project\\\\dataset\\\\rep\\\\training-rnn\\\\positive.txt', 'a', newline='') as f_object: \n",
    "        \n",
    "    writer_object = writer(f_object)\n",
    "        \n",
    "    for pair in posPairs:\n",
    "\n",
    "        writer_object.writerow([pair.replace('\"', '')]) \n",
    "\n",
    "    f_object.close()\n",
    "\n",
    "shutil.copy('G:\\My Drive\\Term 4.2\\IS706 - Software Mining and Analysis\\Project\\\\dataset\\\\rep\\\\training\\\\negative.txt', 'G:\\My Drive\\Term 4.2\\IS706 - Software Mining and Analysis\\Project\\\\dataset\\\\rep\\\\training-rnn')"
   ]
  },
  {
   "cell_type": "markdown",
   "metadata": {},
   "source": [
    "<h3>For With Extra Datapoints"
   ]
  },
  {
   "cell_type": "code",
   "execution_count": 17,
   "metadata": {},
   "outputs": [
    {
     "name": "stdout",
     "output_type": "stream",
     "text": [
      "4488\n"
     ]
    },
    {
     "data": {
      "text/plain": [
       "'G:\\\\My Drive\\\\Term 4.2\\\\IS706 - Software Mining and Analysis\\\\Project\\\\dataset\\\\rep+extra\\\\training-rnn\\\\negative.txt'"
      ]
     },
     "execution_count": 17,
     "metadata": {},
     "output_type": "execute_result"
    }
   ],
   "source": [
    "count = len(open('G:\\My Drive\\Term 4.2\\IS706 - Software Mining and Analysis\\Project\\\\dataset\\\\rep+extra\\\\training\\\\negative.txt', encoding='utf-8').read().strip().split('\\n'))\n",
    "\n",
    "posPairs = numpy.random.choice(open('G:\\My Drive\\Term 4.2\\IS706 - Software Mining and Analysis\\Project\\\\dataset\\\\rep+extra\\\\training\\\\negative.txt', encoding='utf-8').read().strip().split('\\n'), \n",
    "    count)\n",
    "\n",
    "print(len(posPairs))\n",
    "\n",
    "with open('G:\\My Drive\\Term 4.2\\IS706 - Software Mining and Analysis\\Project\\\\dataset\\\\rep+extra\\\\training-rnn\\\\positive.txt', 'a', newline='') as f_object: \n",
    "        \n",
    "    writer_object = writer(f_object)\n",
    "        \n",
    "    for pair in posPairs:\n",
    "\n",
    "        writer_object.writerow([pair.replace('\"', '')]) \n",
    "\n",
    "    f_object.close()\n",
    "\n",
    "shutil.copy('G:\\My Drive\\Term 4.2\\IS706 - Software Mining and Analysis\\Project\\\\dataset\\\\rep\\\\training\\\\negative.txt', 'G:\\My Drive\\Term 4.2\\IS706 - Software Mining and Analysis\\Project\\\\dataset\\\\rep+extra\\\\training-rnn')"
   ]
  },
  {
   "cell_type": "code",
   "execution_count": null,
   "metadata": {},
   "outputs": [],
   "source": []
  }
 ],
 "metadata": {
  "interpreter": {
   "hash": "d58e2ade7fa243b85b4ec6068a879921c2a4346755fefc46ece503de67743ca9"
  },
  "kernelspec": {
   "display_name": "Python 3.9.7 ('base')",
   "language": "python",
   "name": "python3"
  },
  "language_info": {
   "codemirror_mode": {
    "name": "ipython",
    "version": 3
   },
   "file_extension": ".py",
   "mimetype": "text/x-python",
   "name": "python",
   "nbconvert_exporter": "python",
   "pygments_lexer": "ipython3",
   "version": "3.9.7"
  },
  "orig_nbformat": 4
 },
 "nbformat": 4,
 "nbformat_minor": 2
}
