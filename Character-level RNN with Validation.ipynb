{
 "cells": [
  {
   "cell_type": "code",
   "execution_count": 1,
   "id": "28c27d3b",
   "metadata": {},
   "outputs": [],
   "source": [
    "#https://pytorch.org/tutorials/intermediate/char_rnn_classification_tutorial.html"
   ]
  },
  {
   "cell_type": "code",
   "execution_count": 33,
   "id": "789d3480",
   "metadata": {},
   "outputs": [
    {
     "name": "stdout",
     "output_type": "stream",
     "text": [
      "['dataset/training/cleaned\\\\yes.txt', 'dataset/training/cleaned\\\\no.txt']\n"
     ]
    }
   ],
   "source": [
    "from __future__ import unicode_literals, print_function, division\n",
    "from io import open\n",
    "import glob\n",
    "import os\n",
    "\n",
    "def findFiles(path): return glob.glob(path)\n",
    "\n",
    "print(findFiles('dataset/training/cleaned/*.txt'))\n",
    "\n",
    "import unicodedata\n",
    "import string\n",
    "\n",
    "import torch\n",
    "import torch.nn as nn\n",
    "\n",
    "import random"
   ]
  },
  {
   "cell_type": "code",
   "execution_count": 34,
   "id": "53509cad",
   "metadata": {},
   "outputs": [
    {
     "data": {
      "text/plain": [
       "52"
      ]
     },
     "execution_count": 34,
     "metadata": {},
     "output_type": "execute_result"
    }
   ],
   "source": [
    "len(string.ascii_letters)"
   ]
  },
  {
   "cell_type": "code",
   "execution_count": 35,
   "id": "f12da49e",
   "metadata": {},
   "outputs": [
    {
     "data": {
      "text/plain": [
       "132"
      ]
     },
     "execution_count": 35,
     "metadata": {},
     "output_type": "execute_result"
    }
   ],
   "source": [
    "len('com.tencent.angel.ml.core.conf.MLConf.ML_BATCH_SAMPLE_RATIO()__XX__com.tencent.angel.ml.core.conf.AngelMLConf.ML_GBDT_SAMPLE_RATIO()')"
   ]
  },
  {
   "cell_type": "code",
   "execution_count": 36,
   "id": "dacb84e1",
   "metadata": {},
   "outputs": [],
   "source": [
    "all_letters = string.ascii_letters + \" .,;'\"\n",
    "# n_letters = 200\n",
    "n_letters = len(all_letters)\n",
    "\n",
    "# Turn a Unicode string to plain ASCII, thanks to https://stackoverflow.com/a/518232/2809427\n",
    "def unicodeToAscii(s):\n",
    "#     return ''.join(\n",
    "#         c for c in unicodedata.normalize('NFD', s)\n",
    "#         if unicodedata.category(c) != 'Mn'\n",
    "#         and c in all_letters\n",
    "#     )\n",
    "    return s\n",
    "\n",
    "# print(unicodeToAscii('Ślusàrski'))\n",
    "\n",
    "# Build the category_lines dictionary, a list of names per language\n",
    "category_lines = {}\n",
    "category_lines_val = {}\n",
    "all_categories = []\n",
    "\n",
    "# Read a file and split into lines\n",
    "def readLines(filename):\n",
    "    lines = open(filename, encoding='utf-8').read().strip().split('\\n')\n",
    "    return [unicodeToAscii(line) for line in lines]\n",
    "\n",
    "for filename in findFiles('dataset/training/cleaned/*.txt'):\n",
    "    category = os.path.splitext(os.path.basename(filename))[0]\n",
    "    all_categories.append(category)\n",
    "    lines = readLines(filename)\n",
    "    category_lines[category] = lines\n",
    "\n",
    "for filename in findFiles('dataset/validation/cleaned/*.txt'):\n",
    "    category = os.path.splitext(os.path.basename(filename))[0]\n",
    "    # all_categories.append(category)\n",
    "    lines = readLines(filename)\n",
    "    category_lines_val[category] = lines\n",
    "\n",
    "n_categories = len(all_categories)"
   ]
  },
  {
   "cell_type": "code",
   "execution_count": 37,
   "id": "f1536800",
   "metadata": {},
   "outputs": [
    {
     "data": {
      "text/plain": [
       "57"
      ]
     },
     "execution_count": 37,
     "metadata": {},
     "output_type": "execute_result"
    }
   ],
   "source": [
    "len(all_letters)"
   ]
  },
  {
   "cell_type": "code",
   "execution_count": 38,
   "id": "75f92eb4",
   "metadata": {},
   "outputs": [
    {
     "data": {
      "text/plain": [
       "['yes', 'no']"
      ]
     },
     "execution_count": 38,
     "metadata": {},
     "output_type": "execute_result"
    }
   ],
   "source": [
    "all_categories"
   ]
  },
  {
   "cell_type": "code",
   "execution_count": 39,
   "id": "32d06beb",
   "metadata": {},
   "outputs": [
    {
     "name": "stdout",
     "output_type": "stream",
     "text": [
      "['sshd.SshServer.setForwardingFilter(ForwardingFilter)sshd.common.helpers.AbstractFactoryManager.setForwardingFilter(ForwardingFilter)', 'service.ServiceRegistryBuilder.buildServiceRegistry()boot.registry.StandardServiceRegistryBuilder.build()', 'metrics.core.MeterMetric.mark()metrics.core.Meter.mark()', 'sshd.SshServer.setUpDefaultServer()sshd.server.SshServer.setUpDefaultServer()', 'common.io.Resources.newInputStreamSupplier(URL)common.io.Resources.asByteSource(URL)']\n"
     ]
    }
   ],
   "source": [
    "print(category_lines['yes'][:5])"
   ]
  },
  {
   "cell_type": "code",
   "execution_count": 40,
   "id": "8d8264e7",
   "metadata": {},
   "outputs": [
    {
     "name": "stdout",
     "output_type": "stream",
     "text": [
      "tensor([[0., 0., 0., 0., 0., 0., 0., 0., 0., 0., 0., 0., 0., 0., 0., 0., 0., 0.,\n",
      "         0., 0., 0., 0., 0., 0., 0., 0., 0., 0., 0., 0., 0., 0., 0., 0., 0., 1.,\n",
      "         0., 0., 0., 0., 0., 0., 0., 0., 0., 0., 0., 0., 0., 0., 0., 0., 0., 0.,\n",
      "         0., 0., 0.]])\n",
      "torch.Size([5, 1, 57])\n"
     ]
    }
   ],
   "source": [
    "# Find letter index from all_letters, e.g. \"a\" = 0\n",
    "def letterToIndex(letter):\n",
    "    return all_letters.find(letter)\n",
    "\n",
    "# Just for demonstration, turn a letter into a <1 x n_letters> Tensor\n",
    "def letterToTensor(letter):\n",
    "    tensor = torch.zeros(1, n_letters)\n",
    "    tensor[0][letterToIndex(letter)] = 1\n",
    "    return tensor\n",
    "\n",
    "# Turn a line into a <line_length x 1 x n_letters>,\n",
    "# or an array of one-hot letter vectors\n",
    "def lineToTensor(line):\n",
    "    tensor = torch.zeros(len(line), 1, n_letters)\n",
    "    for li, letter in enumerate(line):\n",
    "        tensor[li][0][letterToIndex(letter)] = 1\n",
    "    return tensor\n",
    "\n",
    "print(letterToTensor('J'))\n",
    "\n",
    "print(lineToTensor('Jones').size())"
   ]
  },
  {
   "cell_type": "code",
   "execution_count": 41,
   "id": "78907a5e",
   "metadata": {},
   "outputs": [],
   "source": [
    "class RNN(nn.Module):\n",
    "    def __init__(self, input_size, hidden_size, output_size):\n",
    "        super(RNN, self).__init__()\n",
    "\n",
    "        self.hidden_size = hidden_size\n",
    "\n",
    "        self.i2h = nn.Linear(input_size + hidden_size, hidden_size)\n",
    "        self.i2o = nn.Linear(input_size + hidden_size, output_size)\n",
    "        self.softmax = nn.LogSoftmax(dim=1)\n",
    "\n",
    "    def forward(self, input, hidden):\n",
    "        combined = torch.cat((input, hidden), 1)\n",
    "        hidden = self.i2h(combined)\n",
    "        output = self.i2o(combined)\n",
    "        output = self.softmax(output)\n",
    "        return output, hidden\n",
    "\n",
    "    def initHidden(self):\n",
    "        return torch.zeros(1, self.hidden_size)\n",
    "\n",
    "# n_hidden = 128\n",
    "n_hidden = n_letters\n",
    "rnn = RNN(n_letters, n_hidden, n_categories)"
   ]
  },
  {
   "cell_type": "code",
   "execution_count": 42,
   "id": "e369d13d",
   "metadata": {},
   "outputs": [],
   "source": [
    "def categoryFromOutput(output):\n",
    "    top_n, top_i = output.topk(1)\n",
    "    category_i = top_i[0].item()\n",
    "    return all_categories[category_i], category_i\n",
    "\n",
    "# print(categoryFromOutput(output))"
   ]
  },
  {
   "cell_type": "code",
   "execution_count": 43,
   "id": "a67a4205",
   "metadata": {},
   "outputs": [
    {
     "name": "stdout",
     "output_type": "stream",
     "text": [
      "category = yes / line = common.io.ByteStreams.newInputStreamSupplier(byte[])common.io.ByteSource.wrap(byte[])\n",
      "category = no / line = angel.ml.core.conf.MLConf.ML_RANK_NUM()angel.ml.core.conf.AngelMLConf.ML_NUM_TREE()\n",
      "category = yes / line = Matchers.anyChar()ArgumentMatchers.anyChar()\n",
      "category = no / line = ws.client.qualitygate.ProjectStatusWsRequest.setAnalysisId(String)ws.client.qualitygates.SelectRequest.setGateId()\n",
      "category = no / line = node.NodeBuilder.settings()node.Node.start()\n",
      "category = yes / line = catalina.deploy.FilterDef.setFilterClass(String)tomcat.util.descriptor.web.FilterDef.setFilterClass(String)\n",
      "category = no / line = Matchers.eq(byte)ArgumentMatchers.eq(long)\n",
      "category = no / line = action.mlt.MoreLikeThisRequestBuilder.setMaxDocFreq(int)index.query.MoreLikeThisQueryBuilder.minTermFreq()\n",
      "category = yes / line = angel.ml.core.conf.MLConf.ML_RANK_NUM()angel.ml.core.conf.AngelMLConf.ML_RANK_NUM()\n",
      "category = no / line = Matchers.anyList()ArgumentMatchers.anyFloat()\n"
     ]
    }
   ],
   "source": [
    "def randomChoice(l):\n",
    "    return l[random.randint(0, len(l) - 1)]\n",
    "\n",
    "def randomTrainingExample():\n",
    "    category = randomChoice(all_categories)\n",
    "    line = randomChoice(category_lines[category])\n",
    "    category_tensor = torch.tensor([all_categories.index(category)], dtype=torch.long)\n",
    "    line_tensor = lineToTensor(line)\n",
    "    return category, line, category_tensor, line_tensor\n",
    "\n",
    "def randomValidationExample():\n",
    "    category = randomChoice(all_categories)\n",
    "    line = randomChoice(category_lines_val[category])\n",
    "    category_tensor = torch.tensor([all_categories.index(category)], dtype=torch.long)\n",
    "    line_tensor = lineToTensor(line)\n",
    "    return category, line, category_tensor, line_tensor\n",
    "\n",
    "for i in range(10):\n",
    "    category, line, category_tensor, line_tensor = randomTrainingExample()\n",
    "    print('category =', category, '/ line =', line)"
   ]
  },
  {
   "cell_type": "code",
   "execution_count": 44,
   "id": "e035d59e",
   "metadata": {},
   "outputs": [],
   "source": [
    "criterion = nn.NLLLoss()"
   ]
  },
  {
   "cell_type": "code",
   "execution_count": 45,
   "id": "9d7b545f",
   "metadata": {},
   "outputs": [],
   "source": [
    "learning_rate = 0.002 # If you set this too high, it might explode. If too low, it might not learn\n",
    "\n",
    "def train(category_tensor, line_tensor):\n",
    "    hidden = rnn.initHidden()\n",
    "\n",
    "    rnn.zero_grad()\n",
    "\n",
    "    for i in range(line_tensor.size()[0]):\n",
    "        output, hidden = rnn(line_tensor[i], hidden)\n",
    "\n",
    "    loss = criterion(output, category_tensor)\n",
    "    loss.backward()\n",
    "\n",
    "    # Add parameters' gradients to their values, multiplied by learning rate\n",
    "    for p in rnn.parameters():\n",
    "        p.data.add_(p.grad.data, alpha=-learning_rate)\n",
    "\n",
    "    return output, loss.item()"
   ]
  },
  {
   "cell_type": "code",
   "execution_count": 46,
   "id": "7f0c54d5",
   "metadata": {},
   "outputs": [],
   "source": [
    "import time\n",
    "import math\n",
    "\n",
    "n_iters = 20000\n",
    "print_every = 500\n",
    "plot_every = 100"
   ]
  },
  {
   "cell_type": "code",
   "execution_count": 47,
   "id": "e2d6ad48",
   "metadata": {
    "scrolled": false
   },
   "outputs": [
    {
     "name": "stdout",
     "output_type": "stream",
     "text": [
      "500 2% (0m 8s) 0.6511738 angel.ml.core.conf.MLConf.ML_LEARN_RATE()angel.ml.core.conf.AngelMLConf.DEFAULT_ML_LEARN_RATE() / no ✓\n",
      "1000 5% (0m 16s) 0.6349214 common.base.Objects.toStringHelper(Object)common.base.CharMatcher.toString() / no ✓\n",
      "1500 7% (0m 25s) 0.6911851 angel.ml.core.conf.MLConf.ML_MODEL_TYPE()angel.ml.core.conf.AngelMLConf.ML_MODEL_TYPE() / yes ✓\n",
      "2000 10% (0m 33s) 0.7676868 dockerjava.api.model.ContainerConfig.isStdinOpen()dockerjava.api.model.ContainerConfig.getStdinOpen() / no ✗ (yes)\n",
      "2500 12% (0m 42s) 0.5895810 angel.ml.core.conf.MLConf.ML_LEARN_RATE()angel.ml.core.conf.AngelMLConf.ML_RANK_NUM() / no ✓\n",
      "3000 15% (0m 50s) 0.5800642 service.ServiceRegistryBuilder.applySettings(Map)boot.registry.StandardServiceRegistryBuilder.disableAutoClose() / no ✓\n",
      "3500 17% (0m 58s) 0.6197856 Matchers.anyList()ArgumentMatchers.any() / no ✓\n",
      "4000 20% (1m 5s) 0.7383062 jsqlparser.statement.select.SetOperationList.getPlainSelects()jsqlparser.statement.select.SetOperationList.getSelects() / no ✗ (yes)\n",
      "4500 22% (1m 13s) 1.0360718 nio.serialization.SerializationServiceBuilder.build()internal.serialization.impl.DefaultSerializationServiceBuilder.build() / no ✗ (yes)\n",
      "5000 25% (1m 21s) 0.4695271 action.search.SearchResponse.hits()action.search.SearchResponse() / no ✓\n",
      "5500 27% (1m 28s) 0.1852050 Expectations.returnValue(Object)AbstractExpectations.returnValue(Object) / yes ✓\n",
      "6000 30% (1m 36s) 0.5590384 DBMaker.newMemoryDirectDB()DBMaker.memoryShardedHashMap() / no ✓\n",
      "6500 32% (1m 44s) 0.8713790 common.compress.CompressedString.string()common.compress.CompressedXContent.string() / no ✗ (yes)\n",
      "7000 35% (1m 53s) 0.5384216 common.io.Files.newInputStreamSupplier(File)common.io.Files.asCharSink() / no ✓\n",
      "7500 37% (2m 3s) 0.1128598 action.mlt.MoreLikeThisRequestBuilder.setMinWordLen(int)index.query.MoreLikeThisQueryBuilder.minWordLength(int) / yes ✓\n",
      "8000 40% (2m 12s) 0.4308190 search.builder.SearchSourceBuilder.toString()common.xcontent.XContentHelper.toString() / no ✓\n",
      "8500 42% (2m 20s) 0.4820845 action.delete.DeleteResponse.getId()action.get.GetResponse.getFields() / no ✓\n",
      "9000 45% (2m 27s) 0.3991739 action.bulk.BulkItemResponse.failed()action.bulk.BulkItemRequest.readFrom() / no ✓\n",
      "9500 47% (2m 35s) 0.4625578 catalina.deploy.FilterMap.addURLPattern(String)tomcat.util.descriptor.web.FilterMap.setDispatcher() / no ✓\n",
      "10000 50% (2m 43s) 0.2897191 lucene.index.IndexModifier.addDocument(Document)lucene.index.IndexReader.document() / no ✓\n",
      "10500 52% (2m 52s) 0.4586414 search.aggregations.bucket.histogram.DateHistogramBuilder.interval(DateHistogramInterval)search.aggregations.bucket.histogram.DateHistogramAggregationBuilder.keyed() / no ✓\n",
      "11000 55% (3m 0s) 0.3207496 Matchers.contains(String)ArgumentMatchers.anyInt() / no ✓\n",
      "11500 57% (3m 7s) 2.7900698 Matchers.eq(byte)ArgumentMatchers.eq(int) / yes ✗ (no)\n",
      "12000 60% (3m 15s) 0.5098433 common.collect.MapMaker.softValues()common.cache.CacheBuilder.weakValues() / no ✓\n",
      "12500 62% (3m 23s) 0.2650568 sshd.SshServer.setFileSystemFactory(FileSystemFactory)sshd.common.helpers.AbstractFactoryManager.setFileSystemFactory(FileSystemFactory) / yes ✓\n",
      "13000 65% (3m 30s) 0.8076913 dockerjava.api.model.HostConfig.isPublishAllPorts()dockerjava.api.model.HostConfig.getPublishAllPorts() / no ✗ (yes)\n",
      "13500 67% (3m 39s) 0.3392065 Matchers.anyVararg()ArgumentMatchers.anyChar() / no ✓\n",
      "14000 70% (3m 47s) 0.1180568 lucene.search.NumericRangeQuery.newFloatRange(String,Float,Float,boolean,boolean)lucene.search.LegacyNumericRangeQuery.newFloatRange(String,Float,Float,boolean,boolean) / yes ✓\n",
      "14500 72% (3m 57s) 0.3750789 solr.client.solrj.request.LukeRequest.process(SolrServer)solr.client.solrj.SolrRequest.getPath() / no ✓\n",
      "15000 75% (4m 5s) 0.0780639 catalina.deploy.FilterDef.setFilterClass(String)tomcat.util.descriptor.web.FilterDef.setFilterClass(String) / yes ✓\n",
      "15500 77% (4m 12s) 0.5323776 action.index.IndexResponse.version()action.index.IndexResponse.setMatches() / no ✓\n",
      "16000 80% (4m 20s) 0.0512289 jedis.Jedis.select(int)jedis.BinaryJedis.select(int) / yes ✓\n",
      "16500 82% (4m 27s) 1.2894515 Matchers.anyInt()ArgumentMatchers.anyInt() / no ✗ (yes)\n",
      "17000 85% (4m 35s) 0.7474245 action.admin.indices.exists.indices.IndicesExistsResponse.exists()action.admin.indices.exists.indices.IndicesExistsResponse.isExists() / no ✗ (yes)\n",
      "17500 87% (4m 42s) 1.0302045 action.index.IndexResponse.getIndex()action.DocWriteResponse.getIndex() / no ✗ (yes)\n",
      "18000 90% (4m 49s) 1.3116990 Matchers.anyChar()ArgumentMatchers.anyChar() / no ✗ (yes)\n",
      "18500 92% (4m 56s) 0.8004680 action.delete.DeleteResponse.getId()action.DocWriteResponse.getId() / no ✗ (yes)\n",
      "19000 95% (5m 3s) 0.6314107 action.get.GetResponse.exists()action.get.GetResponse.isExists() / yes ✓\n",
      "19500 97% (5m 11s) 0.1686681 sshd.SshServer.setCommandFactory(CommandFactory)sshd.server.SshServer.setHostBasedAuthenticator() / no ✓\n",
      "20000 100% (5m 19s) 0.2830835 action.admin.indices.delete.DeleteIndexResponse.acknowledged()action.support.master.AcknowledgedRequest.ackTimeout() / no ✓\n"
     ]
    }
   ],
   "source": [
    "# Keep track of losses for plotting\n",
    "current_loss = 0\n",
    "all_losses = []\n",
    "\n",
    "def timeSince(since):\n",
    "    now = time.time()\n",
    "    s = now - since\n",
    "    m = math.floor(s / 60)\n",
    "    s -= m * 60\n",
    "    return '%dm %ds' % (m, s)\n",
    "\n",
    "start = time.time()\n",
    "\n",
    "for iter in range(1, n_iters + 1):\n",
    "    category, line, category_tensor, line_tensor = randomTrainingExample()\n",
    "    output, loss = train(category_tensor, line_tensor)\n",
    "    current_loss += loss\n",
    "\n",
    "    # Print iter number, loss, name and guess\n",
    "    if iter % print_every == 0:\n",
    "        guess, guess_i = categoryFromOutput(output)\n",
    "        correct = '✓' if guess == category else '✗ (%s)' % category\n",
    "        print('%d %d%% (%s) %.7f %s / %s %s' % (iter, iter / n_iters * 100, timeSince(start), loss, line, guess, correct))\n",
    "\n",
    "    # Add current loss avg to list of losses\n",
    "    if iter % plot_every == 0:\n",
    "        all_losses.append(current_loss / plot_every)\n",
    "        current_loss = 0"
   ]
  },
  {
   "cell_type": "code",
   "execution_count": 48,
   "id": "ff836b61",
   "metadata": {},
   "outputs": [
    {
     "data": {
      "text/plain": [
       "[<matplotlib.lines.Line2D at 0x1808e18bd30>]"
      ]
     },
     "execution_count": 48,
     "metadata": {},
     "output_type": "execute_result"
    },
    {
     "data": {
      "image/png": "[encoded data removed]",
      "text/plain": [
       "<Figure size 432x288 with 1 Axes>"
      ]
     },
     "metadata": {
      "needs_background": "light"
     },
     "output_type": "display_data"
    }
   ],
   "source": [
    "import matplotlib.pyplot as plt\n",
    "import matplotlib.ticker as ticker\n",
    "\n",
    "plt.figure()\n",
    "plt.plot(all_losses)"
   ]
  },
  {
   "cell_type": "code",
   "execution_count": 50,
   "id": "e6abb8ad",
   "metadata": {},
   "outputs": [
    {
     "name": "stderr",
     "output_type": "stream",
     "text": [
      "C:\\Users\\mgwei\\AppData\\Local\\Temp/ipykernel_13096/2524513795.py:33: UserWarning: FixedFormatter should only be used together with FixedLocator\n",
      "  ax.set_xticklabels([''] + all_categories, rotation=90)\n",
      "C:\\Users\\mgwei\\AppData\\Local\\Temp/ipykernel_13096/2524513795.py:34: UserWarning: FixedFormatter should only be used together with FixedLocator\n",
      "  ax.set_yticklabels([''] + all_categories)\n"
     ]
    },
    {
     "data": {
      "image/png": "[encoded data removed]",
      "text/plain": [
       "<Figure size 432x288 with 2 Axes>"
      ]
     },
     "metadata": {
      "needs_background": "light"
     },
     "output_type": "display_data"
    }
   ],
   "source": [
    "# Keep track of correct guesses in a confusion matrix\n",
    "confusion = torch.zeros(n_categories, n_categories)\n",
    "n_confusion = 500\n",
    "\n",
    "# Just return an output given a line\n",
    "def evaluate(line_tensor):\n",
    "    hidden = rnn.initHidden()\n",
    "\n",
    "    for i in range(line_tensor.size()[0]):\n",
    "        output, hidden = rnn(line_tensor[i], hidden)\n",
    "\n",
    "    return output\n",
    "\n",
    "# Go through a bunch of examples and record which are correctly guessed\n",
    "for i in range(n_confusion):\n",
    "    category, line, category_tensor, line_tensor = randomValidationExample()\n",
    "    output = evaluate(line_tensor)\n",
    "    guess, guess_i = categoryFromOutput(output)\n",
    "    category_i = all_categories.index(category)\n",
    "    confusion[category_i][guess_i] += 1\n",
    "\n",
    "# Normalize by dividing every row by its sum\n",
    "for i in range(n_categories):\n",
    "    confusion[i] = confusion[i] / confusion[i].sum()\n",
    "\n",
    "# Set up plot\n",
    "fig = plt.figure()\n",
    "ax = fig.add_subplot(111)\n",
    "cax = ax.matshow(confusion.numpy())\n",
    "fig.colorbar(cax)\n",
    "\n",
    "# Set up axes\n",
    "ax.set_xticklabels([''] + all_categories, rotation=90)\n",
    "ax.set_yticklabels([''] + all_categories)\n",
    "\n",
    "# Force label at every tick\n",
    "ax.xaxis.set_major_locator(ticker.MultipleLocator(1))\n",
    "ax.yaxis.set_major_locator(ticker.MultipleLocator(1))\n",
    "\n",
    "# sphinx_gallery_thumbnail_number = 2\n",
    "plt.show()"
   ]
  },
  {
   "cell_type": "code",
   "execution_count": 18,
   "id": "029530e2",
   "metadata": {},
   "outputs": [],
   "source": [
    "def predict(input_line, n_predictions=3):\n",
    "    print('\\n> %s' % input_line)\n",
    "    with torch.no_grad():\n",
    "        output = evaluate(lineToTensor(input_line))\n",
    "\n",
    "        # Get top N categories\n",
    "        topv, topi = output.topk(n_predictions, 1, True)\n",
    "        predictions = []\n",
    "\n",
    "        for i in range(n_predictions):\n",
    "            value = topv[0][i].item()\n",
    "            category_index = topi[0][i].item()\n",
    "            print('(%.2f) %s' % (value, all_categories[category_index]))\n",
    "            predictions.append([value, all_categories[category_index]])\n"
   ]
  },
  {
   "cell_type": "code",
   "execution_count": null,
   "id": "21e0956a",
   "metadata": {},
   "outputs": [],
   "source": []
  }
 ],
 "metadata": {
  "kernelspec": {
   "display_name": "Python 3 (ipykernel)",
   "language": "python",
   "name": "python3"
  },
  "language_info": {
   "codemirror_mode": {
    "name": "ipython",
    "version": 3
   },
   "file_extension": ".py",
   "mimetype": "text/x-python",
   "name": "python",
   "nbconvert_exporter": "python",
   "pygments_lexer": "ipython3",
   "version": "3.9.7"
  }
 },
 "nbformat": 4,
 "nbformat_minor": 5
}
