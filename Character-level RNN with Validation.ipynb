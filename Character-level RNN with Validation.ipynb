{
 "cells": [
  {
   "cell_type": "code",
   "execution_count": 1,
   "id": "28c27d3b",
   "metadata": {},
   "outputs": [],
   "source": [
    "#https://pytorch.org/tutorials/intermediate/char_rnn_classification_tutorial.html"
   ]
  },
  {
   "cell_type": "code",
   "execution_count": 5,
   "id": "789d3480",
   "metadata": {},
   "outputs": [],
   "source": [
    "from __future__ import unicode_literals, print_function, division\n",
    "from io import open\n",
    "import glob\n",
    "import os\n",
    "import string\n",
    "import torch\n",
    "import torch.nn as nn\n",
    "import matplotlib.pyplot as plt\n",
    "import matplotlib.ticker as ticker\n",
    "import random\n",
    "def findFiles(path): return glob.glob(path)"
   ]
  },
  {
   "cell_type": "markdown",
   "id": "686b75ec",
   "metadata": {},
   "source": [
    "<h2>Choose dataset"
   ]
  },
  {
   "cell_type": "code",
   "execution_count": 6,
   "id": "06c497c4",
   "metadata": {},
   "outputs": [
    {
     "name": "stdout",
     "output_type": "stream",
     "text": [
      "['dataset-all/rnn/training\\\\yes.txt', 'dataset-all/rnn/training\\\\no.txt']\n",
      "['dataset-all/rnn/validation\\\\yes.txt', 'dataset-all/rnn/validation\\\\no.txt']\n"
     ]
    }
   ],
   "source": [
    "#all datapoints\n",
    "pathTo = 'dataset-all/rnn/'\n",
    "\n",
    "#just repfinder's jars\n",
    "# pathTo = 'dataset-all/rnn/training/'\n",
    "\n",
    "print(findFiles(pathTo + 'training/*.txt'))\n",
    "print(findFiles(pathTo + 'validation/*.txt'))"
   ]
  },
  {
   "cell_type": "code",
   "execution_count": 7,
   "id": "dacb84e1",
   "metadata": {},
   "outputs": [
    {
     "name": "stdout",
     "output_type": "stream",
     "text": [
      "57\n",
      "['yes', 'no']\n",
      "[76, 89, 44, 92, 101]\n"
     ]
    }
   ],
   "source": [
    "all_letters = string.ascii_letters + \" .,;'\"\n",
    "# n_letters = 200\n",
    "n_letters = len(all_letters)\n",
    "\n",
    "# Turn a Unicode string to plain ASCII, thanks to https://stackoverflow.com/a/518232/2809427\n",
    "def unicodeToAscii(s):\n",
    "#     return ''.join(\n",
    "#         c for c in unicodedata.normalize('NFD', s)\n",
    "#         if unicodedata.category(c) != 'Mn'\n",
    "#         and c in all_letters\n",
    "#     )\n",
    "    return s\n",
    "\n",
    "# print(unicodeToAscii('Ślusàrski'))\n",
    "\n",
    "# Build the category_lines dictionary, a list of names per language\n",
    "category_lines = {}\n",
    "category_lines_val = {}\n",
    "all_categories = []\n",
    "\n",
    "# Read a file and split into lines\n",
    "def readLines(filename):\n",
    "    lines = open(filename, encoding='utf-8').read().strip().split('\\n')\n",
    "    return [unicodeToAscii(line) for line in lines]\n",
    "\n",
    "for filename in findFiles(pathTo + 'training/*.txt'):\n",
    "    category = os.path.splitext(os.path.basename(filename))[0]\n",
    "    all_categories.append(category)\n",
    "    lines = readLines(filename)\n",
    "    category_lines[category] = lines\n",
    "\n",
    "for filename in findFiles(pathTo + 'validation/*.txt'):\n",
    "    category = os.path.splitext(os.path.basename(filename))[0]\n",
    "    # all_categories.append(category)\n",
    "    lines = readLines(filename)\n",
    "    category_lines_val[category] = lines\n",
    "\n",
    "n_categories = len(all_categories)\n",
    "print(len(all_letters))\n",
    "print(all_categories)\n",
    "print([len(l) for l in category_lines['yes'][:5]])"
   ]
  },
  {
   "cell_type": "code",
   "execution_count": 8,
   "id": "8d8264e7",
   "metadata": {},
   "outputs": [
    {
     "name": "stdout",
     "output_type": "stream",
     "text": [
      "tensor([[0., 0., 0., 0., 0., 0., 0., 0., 0., 0., 0., 0., 0., 0., 0., 0., 0., 0.,\n",
      "         0., 0., 0., 0., 0., 0., 0., 0., 0., 0., 0., 0., 0., 0., 0., 0., 0., 1.,\n",
      "         0., 0., 0., 0., 0., 0., 0., 0., 0., 0., 0., 0., 0., 0., 0., 0., 0., 0.,\n",
      "         0., 0., 0.]])\n",
      "torch.Size([5, 1, 57])\n"
     ]
    }
   ],
   "source": [
    "# Find letter index from all_letters, e.g. \"a\" = 0\n",
    "def letterToIndex(letter):\n",
    "    return all_letters.find(letter)\n",
    "\n",
    "# Just for demonstration, turn a letter into a <1 x n_letters> Tensor\n",
    "def letterToTensor(letter):\n",
    "    tensor = torch.zeros(1, n_letters)\n",
    "    tensor[0][letterToIndex(letter)] = 1\n",
    "    return tensor\n",
    "\n",
    "# Turn a line into a <line_length x 1 x n_letters>,\n",
    "# or an array of one-hot letter vectors\n",
    "def lineToTensor(line):\n",
    "    tensor = torch.zeros(len(line), 1, n_letters)\n",
    "    for li, letter in enumerate(line):\n",
    "        tensor[li][0][letterToIndex(letter)] = 1\n",
    "    return tensor\n",
    "\n",
    "print(letterToTensor('J'))\n",
    "print(lineToTensor('Jones').size())"
   ]
  },
  {
   "cell_type": "code",
   "execution_count": 9,
   "id": "e369d13d",
   "metadata": {},
   "outputs": [],
   "source": [
    "def categoryFromOutput(output):\n",
    "    top_n, top_i = output.topk(1)\n",
    "    category_i = top_i[0].item()\n",
    "    return all_categories[category_i], category_i\n",
    "\n",
    "# print(categoryFromOutput(output))"
   ]
  },
  {
   "cell_type": "code",
   "execution_count": 10,
   "id": "a67a4205",
   "metadata": {},
   "outputs": [
    {
     "name": "stdout",
     "output_type": "stream",
     "text": [
      "category = no / line = web.cors.reactive.CorsUtils.isSameOrigin(ServerHttpRequest)web.cors.reactive.PreFlightRequestWebFilter()\n",
      "category = no / line = lucene.index.IndexWriter.getCommitData()lucene.index.IndexWriter.getFieldNames()\n",
      "category = no / line = Matchers.anyMap()ArgumentMatchers.anyMapOf()\n",
      "category = no / line = cassandra.dht.BytesToken.getTokenValue()cassandra.index.sasi.Term.getTerm()\n",
      "category = no / line = action.get.GetResponse.exists()action.get.GetRequest.refresh()\n",
      "category = yes / line = action.index.IndexResponse.version()action.index.IndexResponse.getVersion()\n",
      "category = no / line = action.admin.indices.exists.indices.IndicesExistsResponse.exists()action.admin.indices.exists.indices.IndicesExistsResponse.readFrom()\n",
      "category = yes / line = Matchers.eq(int)ArgumentMatchers.eq(int)\n",
      "category = yes / line = Matchers.matches(String)ArgumentMatchers.matches(String)\n",
      "category = no / line = search.facet.FacetProcessors.processor(String)search.facet.FacetParseElement.parse()\n"
     ]
    }
   ],
   "source": [
    "def randomChoice(l):\n",
    "    return l[random.randint(0, len(l) - 1)]\n",
    "\n",
    "def randomTrainingExample():\n",
    "    category = randomChoice(all_categories)\n",
    "    line = randomChoice(category_lines[category])\n",
    "    category_tensor = torch.tensor([all_categories.index(category)], dtype=torch.long)\n",
    "    line_tensor = lineToTensor(line)\n",
    "    return category, line, category_tensor, line_tensor\n",
    "\n",
    "def randomValidationExample():\n",
    "    category = randomChoice(all_categories)\n",
    "    line = randomChoice(category_lines_val[category])\n",
    "    category_tensor = torch.tensor([all_categories.index(category)], dtype=torch.long)\n",
    "    line_tensor = lineToTensor(line)\n",
    "    return category, line, category_tensor, line_tensor\n",
    "\n",
    "for i in range(10):\n",
    "    category, line, category_tensor, line_tensor = randomTrainingExample()\n",
    "    print('category =', category, '/ line =', line)"
   ]
  },
  {
   "cell_type": "code",
   "execution_count": 11,
   "id": "78907a5e",
   "metadata": {},
   "outputs": [],
   "source": [
    "class RNN(nn.Module):\n",
    "    def __init__(self, input_size, hidden_size, output_size):\n",
    "        super(RNN, self).__init__()\n",
    "\n",
    "        self.hidden_size = hidden_size\n",
    "\n",
    "        self.i2h = nn.Linear(input_size + hidden_size, hidden_size)\n",
    "        self.i2o = nn.Linear(input_size + hidden_size, output_size)\n",
    "        self.softmax = nn.LogSoftmax(dim=1)\n",
    "\n",
    "    def forward(self, input, hidden):\n",
    "        combined = torch.cat((input, hidden), 1)\n",
    "        hidden = self.i2h(combined)\n",
    "        output = self.i2o(combined)\n",
    "        output = self.softmax(output)\n",
    "        return output, hidden\n",
    "\n",
    "    def initHidden(self):\n",
    "        return torch.zeros(1, self.hidden_size)\n",
    "\n",
    "# n_hidden = 128\n"
   ]
  },
  {
   "cell_type": "code",
   "execution_count": 12,
   "id": "e035d59e",
   "metadata": {},
   "outputs": [],
   "source": [
    "n_hidden = n_letters\n",
    "rnn = RNN(n_letters, n_hidden, n_categories)\n",
    "criterion = nn.NLLLoss()"
   ]
  },
  {
   "cell_type": "code",
   "execution_count": 13,
   "id": "9d7b545f",
   "metadata": {},
   "outputs": [],
   "source": [
    "def train(category_tensor, line_tensor, learning_rate):\n",
    "    hidden = rnn.initHidden()\n",
    "\n",
    "    rnn.zero_grad()\n",
    "\n",
    "    for i in range(line_tensor.size()[0]):\n",
    "        output, hidden = rnn(line_tensor[i], hidden)\n",
    "\n",
    "    loss = criterion(output, category_tensor)\n",
    "    loss.backward()\n",
    "\n",
    "    # Add parameters' gradients to their values, multiplied by learning rate\n",
    "    for p in rnn.parameters():\n",
    "        p.data.add_(p.grad.data, alpha=-learning_rate)\n",
    "\n",
    "    return output, loss.item()"
   ]
  },
  {
   "cell_type": "code",
   "execution_count": 14,
   "id": "e2d6ad48",
   "metadata": {
    "scrolled": false
   },
   "outputs": [
    {
     "name": "stdout",
     "output_type": "stream",
     "text": [
      "500 2% (0m 5s) 0.7217581 DBMaker.newMemoryDirectDB()DBMaker.memoryDirectDB() / no ✗ (yes)\n",
      "1000 4% (0m 10s) 0.6432169 action.mlt.MoreLikeThisRequestBuilder.setMinDocFreq(int)index.query.MoreLikeThisQueryBuilder.minDocFreq(int) / yes ✓\n",
      "1500 6% (0m 15s) 0.6667250 core.MethodParameter.increaseNestingLevel()core.MethodParameter.nested() / no ✓\n",
      "2000 8% (0m 21s) 0.7987275 dockerjava.api.model.HostConfig.isPrivileged()dockerjava.api.model.HostConfig.getPrivileged() / no ✗ (yes)\n",
      "2500 10% (0m 26s) 0.6844273 action.index.IndexResponse.version()action.index.IndexResponse.getVersion() / yes ✓\n",
      "3000 12% (0m 32s) 0.6142471 index.query.GeoDistanceFilterBuilder.lon(double)index.query.GeoDistanceQueryBuilder.coerce() / no ✓\n",
      "3500 14% (0m 38s) 0.5404952 sshd.common.util.Buffer.getString()sshd.common.util.buffer.Buffer.toString() / no ✓\n",
      "4000 16% (0m 43s) 0.4521051 index.query.RangeFilterBuilder.gt(Object)index.query.RangeQueryBuilder.lt() / no ✓\n",
      "4500 18% (0m 49s) 0.2640603 tomakehurst.wiremock.client.MappingBuilder.whenScenarioStateIs(String)tomakehurst.wiremock.client.BasicMappingBuilder.whenScenarioStateIs(String) / yes ✓\n",
      "5000 20% (0m 54s) 0.4685416 sshd.SshServer.setCommandFactory(CommandFactory)sshd.server.SshServer.setPasswordAuthenticator() / no ✓\n",
      "5500 22% (1m 0s) 0.4774844 catalina.deploy.FilterMap.addURLPattern(String)tomcat.util.descriptor.web.FilterDef.addInitParameter() / no ✓\n",
      "6000 24% (1m 5s) 0.4757144 action.mlt.MoreLikeThisRequestBuilder.setMaxWordLen(int)index.query.MoreLikeThisQueryBuilder.stopWords() / no ✓\n",
      "6500 26% (1m 10s) 0.4888705 jackson.core.JsonLocation.getSourceRef()jackson.core.JsonLocation.getSourceRef() / no ✓\n",
      "7000 28% (1m 16s) 0.4125476 index.query.GeoDistanceFilterBuilder.distance(double,DistanceUnit)index.query.GeoDistanceQueryBuilder.geohash() / no ✓\n",
      "7500 30% (1m 21s) 0.2283695 index.query.GeoBoundingBoxFilterBuilder.topLeft(double,double)index.query.GeoBoundingBoxQueryBuilder.topLeft(double,double) / yes ✓\n",
      "8000 32% (1m 26s) 0.3983834 search.builder.SearchSourceBuilder.toString()action.update.UpdateResponse.toString() / no ✓\n",
      "8500 34% (1m 32s) 0.0833867 catalina.deploy.FilterMap.setFilterName(String)tomcat.util.descriptor.web.FilterMap.setFilterName(String) / yes ✓\n",
      "9000 36% (1m 37s) 0.4376661 jetty.server.Request.getSessionManager()jetty.server.Request.getReader() / no ✓\n",
      "9500 38% (1m 43s) 0.3584528 action.delete.DeleteResponse.getId()action.DocWriteResponse.getType() / no ✓\n",
      "10000 40% (1m 48s) 0.3669291 solr.common.params.ModifiableSolrParams.toString()solr.common.params.SolrParams.getInt() / no ✓\n",
      "10500 42% (1m 54s) 1.2727513 action.index.IndexResponse.getType()action.DocWriteResponse.getType() / no ✗ (yes)\n",
      "11000 44% (2m 0s) 0.3410702 Matchers.anyMap()ArgumentMatchers.anySet() / no ✓\n",
      "11500 46% (2m 5s) 0.4157343 action.bulk.BulkItemResponse.failed()action.bulk.BulkItemResponse.writeTo() / no ✓\n",
      "12000 48% (2m 11s) 1.3668255 index.Index.name()index.Index.getName() / no ✗ (yes)\n",
      "12500 50% (2m 16s) 0.2516720 sshd.common.util.Buffer.getByte()sshd.common.util.buffer.Buffer.getShort() / no ✓\n",
      "13000 52% (2m 22s) 0.4354680 web.cors.UrlBasedCorsConfigurationSource.setRemoveSemicolonContent(boolean)web.cors.UrlBasedCorsConfigurationSource.registerCorsConfiguration() / no ✓\n",
      "13500 54% (2m 27s) 0.0620553 Matchers.eq(long)ArgumentMatchers.eq(long) / yes ✓\n",
      "14000 56% (2m 32s) 0.3901317 search.sort.FieldSortBuilder.order(SortOrder)search.sort.SortBuilders() / no ✓\n",
      "14500 57% (2m 37s) 0.3350314 catalina.deploy.FilterMap.addURLPattern(String)tomcat.util.descriptor.web.FilterDef.addInitParameter() / no ✓\n",
      "15000 60% (2m 42s) 0.6225541 action.delete.DeleteResponse.getId()action.DocWriteResponse.getId() / yes ✓\n",
      "15500 62% (2m 47s) 0.0588772 catalina.deploy.FilterMap.addServletName(String)tomcat.util.descriptor.web.FilterMap.addServletName(String) / yes ✓\n",
      "16000 64% (2m 52s) 2.0194998 Matchers.eq(byte)ArgumentMatchers.eq(boolean) / yes ✗ (no)\n",
      "16500 66% (2m 58s) 0.1266451 jackson.core.JsonFactory.createJsonParser(Reader)jackson.core.JsonFactory.createParser(Reader) / yes ✓\n",
      "17000 68% (3m 3s) 0.8759823 action.delete.DeleteResponse.getIndex()action.DocWriteResponse.getIndex() / no ✗ (yes)\n",
      "17500 70% (3m 8s) 0.3657774 action.bulk.BulkItemResponse.failureMessage()action.bulk.BulkItemResponse.readBulkItem() / no ✓\n",
      "18000 72% (3m 13s) 1.1941465 action.bulk.BulkItemResponse.failureMessage()action.bulk.BulkItemResponse.getFailureMessage() / no ✗ (yes)\n",
      "18500 74% (3m 18s) 0.3752521 catalina.deploy.FilterMap.setFilterName(String)tomcat.util.descriptor.web.FilterMap.getDispatcherNames() / no ✓\n",
      "19000 76% (3m 23s) 0.0658663 solr.client.solrj.request.LukeRequest.process(SolrServer)solr.client.solrj.SolrRequest.process(SolrClient,String) / yes ✓\n",
      "19500 78% (3m 28s) 0.0518622 catalina.deploy.FilterDef.setFilterName(String)tomcat.util.descriptor.web.FilterDef.setFilterName(String) / yes ✓\n",
      "20000 80% (3m 33s) 0.0617136 lucene.document.Document.getFieldables(String)lucene.document.Document.getFields(String) / yes ✓\n",
      "20500 82% (3m 38s) 0.0278148 Expectations.returnValue(Object)AbstractExpectations.returnValue(Object) / yes ✓\n",
      "21000 84% (3m 43s) 0.0656147 Matchers.matches(String)ArgumentMatchers.matches(String) / yes ✓\n",
      "21500 86% (3m 48s) 0.4332057 action.index.IndexResponse.getId()action.DocWriteResponse.getId() / yes ✓\n",
      "22000 88% (3m 53s) 1.7151498 DBMaker.writeAheadLogDisable()DBMaker.transactionDisable() / no ✗ (yes)\n",
      "22500 90% (3m 58s) 0.0610676 Matchers.matches(String)ArgumentMatchers.matches(String) / yes ✓\n",
      "23000 92% (4m 3s) 0.2940947 node.NodeBuilder.settings()common.settings.Settings.filter() / no ✓\n",
      "23500 94% (4m 8s) 0.1714878 Matchers.eq(boolean)ArgumentMatchers.eq(boolean) / yes ✓\n",
      "24000 96% (4m 13s) 0.6939752 select.Elements.get(int)select.Elements.is() / yes ✗ (no)\n",
      "24500 98% (4m 18s) 0.3008358 sshd.SshServer.setCommandFactory(CommandFactory)sshd.server.SshServer.getShellFactory() / no ✓\n",
      "25000 100% (4m 24s) 0.1805701 action.admin.indices.exists.indices.IndicesExistsResponse.exists()action.admin.indices.exists.indices.IndicesExistsAction.newResponse() / no ✓\n"
     ]
    }
   ],
   "source": [
    "import time\n",
    "import math\n",
    "\n",
    "n_iters = 25000\n",
    "print_every = 500\n",
    "plot_every = 200\n",
    "\n",
    "# Keep track of losses for plotting\n",
    "current_loss = 0\n",
    "all_losses = []\n",
    "\n",
    "def timeSince(since):\n",
    "    now = time.time()\n",
    "    s = now - since\n",
    "    m = math.floor(s / 60)\n",
    "    s -= m * 60\n",
    "    return '%dm %ds' % (m, s)\n",
    "\n",
    "start = time.time()\n",
    "\n",
    "rate = 0.002\n",
    "\n",
    "for iter in range(1, n_iters + 1):\n",
    "    category, line, category_tensor, line_tensor = randomTrainingExample()\n",
    "    # if iter < n_iters/10:\n",
    "    #     rate = 0.005\n",
    "    # elif iter > 5 * n_iters / 10:\n",
    "    #     rate = 0.001\n",
    "    # else:\n",
    "    #     rate = 0.002\n",
    "    output, loss = train(category_tensor, line_tensor, rate)\n",
    "    current_loss += loss\n",
    "\n",
    "    # Print iter number, loss, name and guess\n",
    "    if iter % print_every == 0:\n",
    "        guess, guess_i = categoryFromOutput(output)\n",
    "        correct = '✓' if guess == category else '✗ (%s)' % category\n",
    "        print('%d %d%% (%s) %.7f %s / %s %s' % (iter, iter / n_iters * 100, timeSince(start), loss, line, guess, correct))\n",
    "\n",
    "    # Add current loss avg to list of losses\n",
    "    if iter % plot_every == 0:\n",
    "        all_losses.append(current_loss / plot_every)\n",
    "        current_loss = 0"
   ]
  },
  {
   "cell_type": "code",
   "execution_count": 15,
   "id": "ff836b61",
   "metadata": {},
   "outputs": [
    {
     "data": {
      "text/plain": [
       "[<matplotlib.lines.Line2D at 0x226c276f0d0>]"
      ]
     },
     "execution_count": 15,
     "metadata": {},
     "output_type": "execute_result"
    },
    {
     "data": {
      "image/png": "[encoded data removed]",
      "text/plain": [
       "<Figure size 432x288 with 1 Axes>"
      ]
     },
     "metadata": {
      "needs_background": "light"
     },
     "output_type": "display_data"
    }
   ],
   "source": [
    "plt.figure()\n",
    "plt.plot(all_losses)"
   ]
  },
  {
   "cell_type": "code",
   "execution_count": 16,
   "id": "55033b67",
   "metadata": {},
   "outputs": [
    {
     "name": "stdout",
     "output_type": "stream",
     "text": [
      "{'yes': {'tp': 189, 'total': 253}, 'no': {'tp': 201, 'total': 247}}\n",
      "tensor([[189.,  64.],\n",
      "        [ 46., 201.]])\n",
      "(Yes) Precision: 0.7470355731225297\n",
      "(Yes) Recall: 0.747035562992096\n",
      "(Yes) F1: 0.7470355680573127\n",
      "(No) Precision: 0.8137651821862348\n",
      "(No) Recall: 0.8137651681900024\n",
      "(No) F1: 0.8137651751881186\n"
     ]
    }
   ],
   "source": [
    "n_confusion = 500\n",
    "\n",
    "# Just return an output given a line\n",
    "def evaluate(line_tensor):\n",
    "    hidden = rnn.initHidden()\n",
    "\n",
    "    for i in range(line_tensor.size()[0]):\n",
    "        output, hidden = rnn(line_tensor[i], hidden)\n",
    "\n",
    "    return output\n",
    "\n",
    "# Keep track of correct guesses in a confusion matrix\n",
    "confusion = torch.zeros(n_categories, n_categories)\n",
    "precision = {\n",
    "    'yes': {\n",
    "        'tp': 0,\n",
    "        'total': 0\n",
    "    },\n",
    "    'no': {\n",
    "        'tp': 0,\n",
    "        'total': 0\n",
    "    }\n",
    "}\n",
    "\n",
    "for i in range(n_confusion):\n",
    "    category, line, category_tensor, line_tensor = randomValidationExample()\n",
    "    output = evaluate(line_tensor)\n",
    "    guess, guess_i = categoryFromOutput(output)\n",
    "    # correct = '✓' if guess == category else '✗ (%s)' % category\n",
    "    # print(line, guess, correct)\n",
    "    category_i = all_categories.index(category)\n",
    "    confusion[category_i][guess_i] += 1\n",
    "    precision[category]['total'] += 1\n",
    "    if category is guess:\n",
    "        precision[category]['tp'] += 1\n",
    "\n",
    "print(precision)\n",
    "print(confusion)\n",
    "\n",
    "yp = precision['yes']['tp']/precision['yes']['total']\n",
    "yr = float(confusion[0][0]/sum(confusion[0]))\n",
    "print('(Yes) Precision:', yp)\n",
    "# print('No precision:', precision['no']['tp']/precision['no']['total'])\n",
    "print('(Yes) Recall:', yr)\n",
    "print('(Yes) F1:', 2 * (yp * yr) / (yp + yr))\n",
    "\n",
    "np = precision['no']['tp']/precision['no']['total']\n",
    "nr = float(confusion[1][1]/sum(confusion[1]))\n",
    "print('(No) Precision:', np)\n",
    "# print('No precision:', precision['no']['tp']/precision['no']['total'])\n",
    "print('(No) Recall:', nr)\n",
    "print('(No) F1:', 2 * (np * nr) / (np + nr))"
   ]
  },
  {
   "cell_type": "code",
   "execution_count": 17,
   "id": "34036633",
   "metadata": {},
   "outputs": [
    {
     "name": "stderr",
     "output_type": "stream",
     "text": [
      "C:\\Users\\mgwei\\AppData\\Local\\Temp/ipykernel_1700/2806226085.py:12: UserWarning: FixedFormatter should only be used together with FixedLocator\n",
      "  ax.set_xticklabels([''] + all_categories, rotation=90)\n",
      "C:\\Users\\mgwei\\AppData\\Local\\Temp/ipykernel_1700/2806226085.py:13: UserWarning: FixedFormatter should only be used together with FixedLocator\n",
      "  ax.set_yticklabels([''] + all_categories)\n"
     ]
    },
    {
     "data": {
      "image/png": "[encoded data removed]",
      "text/plain": [
       "<Figure size 432x288 with 2 Axes>"
      ]
     },
     "metadata": {
      "needs_background": "light"
     },
     "output_type": "display_data"
    }
   ],
   "source": [
    "# Normalize by dividing every row by its sum\n",
    "for i in range(n_categories):\n",
    "    confusion[i] = confusion[i] / confusion[i].sum()\n",
    "\n",
    "# Set up plot\n",
    "fig = plt.figure()\n",
    "ax = fig.add_subplot(111)\n",
    "cax = ax.matshow(confusion.numpy())\n",
    "fig.colorbar(cax)\n",
    "\n",
    "# Set up axes\n",
    "ax.set_xticklabels([''] + all_categories, rotation=90)\n",
    "ax.set_yticklabels([''] + all_categories)\n",
    "\n",
    "# Force label at every tick\n",
    "ax.xaxis.set_major_locator(ticker.MultipleLocator(1))\n",
    "ax.yaxis.set_major_locator(ticker.MultipleLocator(1))\n",
    "\n",
    "# sphinx_gallery_thumbnail_number = 2\n",
    "plt.show()"
   ]
  },
  {
   "cell_type": "code",
   "execution_count": null,
   "id": "61b76fb7",
   "metadata": {},
   "outputs": [],
   "source": []
  }
 ],
 "metadata": {
  "kernelspec": {
   "display_name": "Python 3 (ipykernel)",
   "language": "python",
   "name": "python3"
  },
  "language_info": {
   "codemirror_mode": {
    "name": "ipython",
    "version": 3
   },
   "file_extension": ".py",
   "mimetype": "text/x-python",
   "name": "python",
   "nbconvert_exporter": "python",
   "pygments_lexer": "ipython3",
   "version": "3.9.7"
  }
 },
 "nbformat": 4,
 "nbformat_minor": 5
}
