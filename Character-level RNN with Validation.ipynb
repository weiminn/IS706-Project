{
 "cells": [
  {
   "cell_type": "code",
   "execution_count": 1,
   "id": "28c27d3b",
   "metadata": {},
   "outputs": [],
   "source": [
    "#https://pytorch.org/tutorials/intermediate/char_rnn_classification_tutorial.html"
   ]
  },
  {
   "cell_type": "code",
   "execution_count": 10,
   "id": "789d3480",
   "metadata": {},
   "outputs": [
    {
     "name": "stdout",
     "output_type": "stream",
     "text": [
      "['dataset/training/cleaned\\\\yes.txt', 'dataset/training/cleaned\\\\no.txt']\n"
     ]
    }
   ],
   "source": [
    "from __future__ import unicode_literals, print_function, division\n",
    "from io import open\n",
    "import glob\n",
    "import os\n",
    "\n",
    "def findFiles(path): return glob.glob(path)\n",
    "\n",
    "print(findFiles('dataset/training/cleaned/*.txt'))\n",
    "\n",
    "import unicodedata\n",
    "import string\n",
    "\n",
    "import torch\n",
    "import torch.nn as nn\n",
    "\n",
    "import random"
   ]
  },
  {
   "cell_type": "code",
   "execution_count": 11,
   "id": "53509cad",
   "metadata": {},
   "outputs": [
    {
     "data": {
      "text/plain": [
       "52"
      ]
     },
     "execution_count": 11,
     "metadata": {},
     "output_type": "execute_result"
    }
   ],
   "source": [
    "len(string.ascii_letters)"
   ]
  },
  {
   "cell_type": "code",
   "execution_count": 12,
   "id": "f12da49e",
   "metadata": {},
   "outputs": [
    {
     "data": {
      "text/plain": [
       "132"
      ]
     },
     "execution_count": 12,
     "metadata": {},
     "output_type": "execute_result"
    }
   ],
   "source": [
    "len('com.tencent.angel.ml.core.conf.MLConf.ML_BATCH_SAMPLE_RATIO()__XX__com.tencent.angel.ml.core.conf.AngelMLConf.ML_GBDT_SAMPLE_RATIO()')"
   ]
  },
  {
   "cell_type": "code",
   "execution_count": 17,
   "id": "dacb84e1",
   "metadata": {},
   "outputs": [],
   "source": [
    "all_letters = string.ascii_letters + \" .,;'\"\n",
    "# n_letters = 200\n",
    "n_letters = len(all_letters)\n",
    "\n",
    "# Turn a Unicode string to plain ASCII, thanks to https://stackoverflow.com/a/518232/2809427\n",
    "def unicodeToAscii(s):\n",
    "#     return ''.join(\n",
    "#         c for c in unicodedata.normalize('NFD', s)\n",
    "#         if unicodedata.category(c) != 'Mn'\n",
    "#         and c in all_letters\n",
    "#     )\n",
    "    return s\n",
    "\n",
    "# print(unicodeToAscii('Ślusàrski'))\n",
    "\n",
    "# Build the category_lines dictionary, a list of names per language\n",
    "category_lines = {}\n",
    "category_lines_val = {}\n",
    "all_categories = []\n",
    "\n",
    "# Read a file and split into lines\n",
    "def readLines(filename):\n",
    "    lines = open(filename, encoding='utf-8').read().strip().split('\\n')\n",
    "    return [unicodeToAscii(line) for line in lines]\n",
    "\n",
    "for filename in findFiles('dataset/training/cleaned/*.txt'):\n",
    "    category = os.path.splitext(os.path.basename(filename))[0]\n",
    "    all_categories.append(category)\n",
    "    lines = readLines(filename)\n",
    "    category_lines[category] = lines\n",
    "\n",
    "for filename in findFiles('dataset/validation/cleaned/*.txt'):\n",
    "    category = os.path.splitext(os.path.basename(filename))[0]\n",
    "    # all_categories.append(category)\n",
    "    lines = readLines(filename)\n",
    "    category_lines_val[category] = lines\n",
    "\n",
    "n_categories = len(all_categories)"
   ]
  },
  {
   "cell_type": "code",
   "execution_count": 18,
   "id": "f1536800",
   "metadata": {},
   "outputs": [
    {
     "data": {
      "text/plain": [
       "57"
      ]
     },
     "execution_count": 18,
     "metadata": {},
     "output_type": "execute_result"
    }
   ],
   "source": [
    "len(all_letters)"
   ]
  },
  {
   "cell_type": "code",
   "execution_count": 19,
   "id": "75f92eb4",
   "metadata": {},
   "outputs": [
    {
     "data": {
      "text/plain": [
       "['yes', 'no']"
      ]
     },
     "execution_count": 19,
     "metadata": {},
     "output_type": "execute_result"
    }
   ],
   "source": [
    "all_categories"
   ]
  },
  {
   "cell_type": "code",
   "execution_count": 20,
   "id": "32d06beb",
   "metadata": {},
   "outputs": [
    {
     "name": "stdout",
     "output_type": "stream",
     "text": [
      "['action.index.IndexResponse.version()action.DocWriteResponse.getVersion()', 'service.ServiceRegistryBuilder.buildServiceRegistry()boot.registry.StandardServiceRegistryBuilder.build()', 'action.bulk.BulkItemResponse.failed()action.bulk.BulkItemResponse.isFailed()', 'action.search.SearchResponse.facets()action.search.SearchResponse.getFacets()', 'lucene.index.IndexModifier.addDocument(Document)lucene.index.IndexWriter.addDocument(Document)']\n"
     ]
    }
   ],
   "source": [
    "print(category_lines['yes'][:5])"
   ]
  },
  {
   "cell_type": "code",
   "execution_count": 21,
   "id": "8d8264e7",
   "metadata": {},
   "outputs": [
    {
     "name": "stdout",
     "output_type": "stream",
     "text": [
      "tensor([[0., 0., 0., 0., 0., 0., 0., 0., 0., 0., 0., 0., 0., 0., 0., 0., 0., 0.,\n",
      "         0., 0., 0., 0., 0., 0., 0., 0., 0., 0., 0., 0., 0., 0., 0., 0., 0., 1.,\n",
      "         0., 0., 0., 0., 0., 0., 0., 0., 0., 0., 0., 0., 0., 0., 0., 0., 0., 0.,\n",
      "         0., 0., 0.]])\n",
      "torch.Size([5, 1, 57])\n"
     ]
    }
   ],
   "source": [
    "# Find letter index from all_letters, e.g. \"a\" = 0\n",
    "def letterToIndex(letter):\n",
    "    return all_letters.find(letter)\n",
    "\n",
    "# Just for demonstration, turn a letter into a <1 x n_letters> Tensor\n",
    "def letterToTensor(letter):\n",
    "    tensor = torch.zeros(1, n_letters)\n",
    "    tensor[0][letterToIndex(letter)] = 1\n",
    "    return tensor\n",
    "\n",
    "# Turn a line into a <line_length x 1 x n_letters>,\n",
    "# or an array of one-hot letter vectors\n",
    "def lineToTensor(line):\n",
    "    tensor = torch.zeros(len(line), 1, n_letters)\n",
    "    for li, letter in enumerate(line):\n",
    "        tensor[li][0][letterToIndex(letter)] = 1\n",
    "    return tensor\n",
    "\n",
    "print(letterToTensor('J'))\n",
    "\n",
    "print(lineToTensor('Jones').size())"
   ]
  },
  {
   "cell_type": "code",
   "execution_count": 22,
   "id": "78907a5e",
   "metadata": {},
   "outputs": [],
   "source": [
    "class RNN(nn.Module):\n",
    "    def __init__(self, input_size, hidden_size, output_size):\n",
    "        super(RNN, self).__init__()\n",
    "\n",
    "        self.hidden_size = hidden_size\n",
    "\n",
    "        self.i2h = nn.Linear(input_size + hidden_size, hidden_size)\n",
    "        self.i2o = nn.Linear(input_size + hidden_size, output_size)\n",
    "        self.softmax = nn.LogSoftmax(dim=1)\n",
    "\n",
    "    def forward(self, input, hidden):\n",
    "        combined = torch.cat((input, hidden), 1)\n",
    "        hidden = self.i2h(combined)\n",
    "        output = self.i2o(combined)\n",
    "        output = self.softmax(output)\n",
    "        return output, hidden\n",
    "\n",
    "    def initHidden(self):\n",
    "        return torch.zeros(1, self.hidden_size)\n",
    "\n",
    "# n_hidden = 128\n",
    "n_hidden = n_letters\n",
    "rnn = RNN(n_letters, n_hidden, n_categories)"
   ]
  },
  {
   "cell_type": "code",
   "execution_count": 24,
   "id": "e369d13d",
   "metadata": {},
   "outputs": [],
   "source": [
    "def categoryFromOutput(output):\n",
    "    top_n, top_i = output.topk(1)\n",
    "    category_i = top_i[0].item()\n",
    "    return all_categories[category_i], category_i\n",
    "\n",
    "# print(categoryFromOutput(output))"
   ]
  },
  {
   "cell_type": "code",
   "execution_count": 25,
   "id": "a67a4205",
   "metadata": {},
   "outputs": [
    {
     "name": "stdout",
     "output_type": "stream",
     "text": [
      "category = yes / line = common.settings.ImmutableSettings.settingsBuilder()common.settings.Settings.builder()\n",
      "category = yes / line = DBMaker.writeAheadLogDisable()DBMaker.transactionDisable()\n",
      "category = no / line = action.delete.DeleteResponse.notFound()action.delete.DeleteResponse.getType()\n",
      "category = no / line = index.query.BoolFilterBuilder.must(FilterBuilder)index.query.BoolQueryBuilder.must()\n",
      "category = yes / line = common.util.concurrent.MoreExecutors.sameThreadExecutor()common.util.concurrent.MoreExecutors.newDirectExecutorService()\n",
      "category = yes / line = lucene.index.IndexModifier.close()lucene.index.IndexWriter.close()\n",
      "category = no / line = lucene.search.NumericRangeQuery.newFloatRange(String,Float,Float,boolean,boolean)lucene.search.LegacyNumericRangeQuery.newLongRange()\n",
      "category = no / line = action.delete.DeleteResponse.getId()action.DocWriteResponse.getVersion()\n",
      "category = yes / line = solr.client.solrj.impl.HttpSolrServer.setMaxTotalConnections(int)solr.client.solrj.impl.HttpSolrClient.setMaxTotalConnections(int)\n",
      "category = yes / line = Matchers.contains(String)ArgumentMatchers.contains(String)\n"
     ]
    }
   ],
   "source": [
    "def randomChoice(l):\n",
    "    return l[random.randint(0, len(l) - 1)]\n",
    "\n",
    "def randomTrainingExample():\n",
    "    category = randomChoice(all_categories)\n",
    "    line = randomChoice(category_lines[category])\n",
    "    category_tensor = torch.tensor([all_categories.index(category)], dtype=torch.long)\n",
    "    line_tensor = lineToTensor(line)\n",
    "    return category, line, category_tensor, line_tensor\n",
    "\n",
    "def randomValidationExample():\n",
    "    category = randomChoice(all_categories)\n",
    "    line = randomChoice(category_lines_val[category])\n",
    "    category_tensor = torch.tensor([all_categories.index(category)], dtype=torch.long)\n",
    "    line_tensor = lineToTensor(line)\n",
    "    return category, line, category_tensor, line_tensor\n",
    "\n",
    "for i in range(10):\n",
    "    category, line, category_tensor, line_tensor = randomTrainingExample()\n",
    "    print('category =', category, '/ line =', line)"
   ]
  },
  {
   "cell_type": "code",
   "execution_count": 26,
   "id": "e035d59e",
   "metadata": {},
   "outputs": [],
   "source": [
    "criterion = nn.NLLLoss()"
   ]
  },
  {
   "cell_type": "code",
   "execution_count": 27,
   "id": "9d7b545f",
   "metadata": {},
   "outputs": [],
   "source": [
    "learning_rate = 0.002 # If you set this too high, it might explode. If too low, it might not learn\n",
    "\n",
    "def train(category_tensor, line_tensor):\n",
    "    hidden = rnn.initHidden()\n",
    "\n",
    "    rnn.zero_grad()\n",
    "\n",
    "    for i in range(line_tensor.size()[0]):\n",
    "        output, hidden = rnn(line_tensor[i], hidden)\n",
    "\n",
    "    loss = criterion(output, category_tensor)\n",
    "    loss.backward()\n",
    "\n",
    "    # Add parameters' gradients to their values, multiplied by learning rate\n",
    "    for p in rnn.parameters():\n",
    "        p.data.add_(p.grad.data, alpha=-learning_rate)\n",
    "\n",
    "    return output, loss.item()"
   ]
  },
  {
   "cell_type": "code",
   "execution_count": 28,
   "id": "7f0c54d5",
   "metadata": {},
   "outputs": [],
   "source": [
    "import time\n",
    "import math\n",
    "\n",
    "n_iters = 20000\n",
    "print_every = 500\n",
    "plot_every = 100"
   ]
  },
  {
   "cell_type": "code",
   "execution_count": 29,
   "id": "e2d6ad48",
   "metadata": {
    "scrolled": false
   },
   "outputs": [
    {
     "name": "stdout",
     "output_type": "stream",
     "text": [
      "500 2% (0m 5s) 0.6967379 action.delete.DeleteResponse.getType()action.get.GetResponse.getType() / yes ✗ (no)\n",
      "1000 5% (0m 10s) 0.7131717 client.transport.TransportClient.admin()client.support.AbstractClient.bulk() / yes ✗ (no)\n",
      "1500 7% (0m 15s) 0.6691101 action.index.IndexResponse.getType()action.DocWriteResponse.getType() / yes ✓\n",
      "2000 10% (0m 20s) 0.6481535 common.settings.Settings.settingsBuilder()common.settings.Settings.filter() / no ✓\n",
      "2500 12% (0m 26s) 0.5706967 action.search.SearchRequestBuilder.setQuery(String)action.search.SearchRequestBuilder.setQuery(QueryBuilder) / yes ✓\n",
      "3000 15% (0m 31s) 0.6015915 action.admin.indices.exists.indices.IndicesExistsResponse.exists()action.admin.indices.exists.indices.IndicesExistsRequest.indices() / no ✓\n",
      "3500 17% (0m 37s) 0.5365458 groovy.tools.shell.Groovysh.execute(String)GroovyShell.run(File,List) / yes ✓\n",
      "4000 20% (0m 42s) 0.4859368 action.mlt.MoreLikeThisRequestBuilder.setBoostTerms(float)index.query.MoreLikeThisQueryBuilder.boostTerms(float) / yes ✓\n",
      "4500 22% (0m 48s) 0.4346138 index.query.RangeFilterBuilder.gte(Object)index.query.RangeQueryBuilder.gte(Object) / yes ✓\n",
      "5000 25% (0m 53s) 0.8204545 dockerjava.api.model.ContainerConfig.isNetworkDisabled()dockerjava.api.model.ContainerConfig.getNetworkDisabled() / no ✗ (yes)\n",
      "5500 27% (0m 59s) 0.5485284 search.sort.FieldSortBuilder.ignoreUnmapped(boolean)search.sort.FieldSortBuilder.sortMode() / no ✓\n",
      "6000 30% (1m 5s) 0.9995683 DBMaker.syncOnCommitDisable()DBMaker.commitFileSyncDisable() / no ✗ (yes)\n",
      "6500 32% (1m 11s) 0.5993382 angel.ml.core.conf.MLConf.ML_MODEL_CLASS_NAME()angel.ml.core.conf.AngelMLConf.ML_GBDT_CLASS_NUM() / no ✓\n",
      "7000 35% (1m 17s) 0.3244346 tomakehurst.wiremock.client.RequestPatternBuilder.withHeader(String,ValueMatchingStrategy)tomakehurst.wiremock.matching.RequestPatternBuilder.withHeader(String,StringValuePattern) / yes ✓\n",
      "7500 37% (1m 23s) 0.4302772 jedis.Jedis.select(int)jedis.BinaryJedis.set() / no ✓\n",
      "8000 40% (1m 28s) 0.2707721 common.io.Files.newReaderSupplier(File,Charset)common.io.Files.asCharSource(File,Charset) / yes ✓\n",
      "8500 42% (1m 33s) 0.2577205 action.search.SearchRequestBuilder.setFilter(FilterBuilder)action.search.SearchRequestBuilder.setPostFilter(QueryBuilder) / yes ✓\n",
      "9000 45% (1m 38s) 0.5319614 angel.ml.core.conf.MLConf.ML_NUM_CLASS()angel.ml.core.conf.AngelMLConf.ML_NUM_TREE() / no ✓\n",
      "9500 47% (1m 44s) 0.3899409 action.search.SearchRequestBuilder.setFilter(FilterBuilder)action.search.SearchRequestBuilder.setFetchSource() / no ✓\n",
      "10000 50% (1m 49s) 0.4653308 search.sort.FieldSortBuilder.ignoreUnmapped(boolean)search.sort.FieldSortBuilder.writeTo() / no ✓\n",
      "10500 52% (1m 55s) 0.5737228 action.bulk.BulkItemResponse.failed()action.bulk.BulkItemResponse.getIndex() / no ✓\n",
      "11000 55% (2m 0s) 0.8858156 sshd.SshServer.getActiveSessions()sshd.server.SshServer.getActiveSessions() / no ✗ (yes)\n",
      "11500 57% (2m 5s) 0.8152947 Matchers.anyCollection()ArgumentMatchers.anyCollection() / no ✗ (yes)\n",
      "12000 60% (2m 10s) 0.4804645 action.mlt.MoreLikeThisRequestBuilder.setMaxWordLen(int)index.query.MoreLikeThisQueryBuilder.maxDocFreq() / no ✓\n",
      "12500 62% (2m 15s) 0.6757368 Matchers.any()ArgumentMatchers.any() / yes ✓\n",
      "13000 65% (2m 20s) 1.1293452 Matchers.anyInt()ArgumentMatchers.anyInt() / no ✗ (yes)\n",
      "13500 67% (2m 24s) 0.7136516 jetty.server.Request.getSessionManager()jetty.server.Request.getSessionHandler() / no ✗ (yes)\n",
      "14000 70% (2m 29s) 0.2648299 action.search.SearchResponse.facets()action.search.SearchResponse.status() / no ✓\n",
      "14500 72% (2m 34s) 0.7803185 common.settings.Settings.settingsBuilder()common.settings.Settings.builder() / no ✗ (yes)\n",
      "15000 75% (2m 39s) 0.3705258 action.search.SearchResponse.hits()action.search.SearchResponse.toXContent() / no ✓\n",
      "15500 77% (2m 43s) 0.0944128 lucene.document.Document.getFieldables(String)lucene.document.Document.getFields(String) / yes ✓\n",
      "16000 80% (2m 48s) 0.0784440 index.query.RangeFilterBuilder.gt(Object)index.query.RangeQueryBuilder.gt(Object) / yes ✓\n",
      "16500 82% (2m 53s) 0.1904300 action.index.IndexResponse.getType()action.DocWriteResponse.getResult() / no ✓\n",
      "17000 85% (2m 58s) 0.0562361 Matchers.eq(float)ArgumentMatchers.eq(float) / yes ✓\n",
      "17500 87% (3m 2s) 0.7176893 Matchers.anyMap()ArgumentMatchers.anyMap() / no ✗ (yes)\n",
      "18000 90% (3m 7s) 0.2242612 action.mlt.MoreLikeThisRequestBuilder.setMinTermFreq(int)index.query.MoreLikeThisQueryBuilder.minDocFreq() / no ✓\n",
      "18500 92% (3m 12s) 0.0961074 search.facet.FacetProcessors.processor(String)search.facet.FacetParsers.processor(String) / yes ✓\n",
      "19000 95% (3m 16s) 0.1736807 action.search.SearchResponse.facets()action.search.SearchResponse.readFrom() / no ✓\n",
      "19500 97% (3m 21s) 0.2697295 common.settings.ImmutableSettings.settingsBuilder()common.settings.Settings.get() / no ✓\n",
      "20000 100% (3m 26s) 0.7970719 lucene.index.IndexModifier.optimize()lucene.index.IndexWriter.optimize() / no ✗ (yes)\n"
     ]
    }
   ],
   "source": [
    "# Keep track of losses for plotting\n",
    "current_loss = 0\n",
    "all_losses = []\n",
    "\n",
    "def timeSince(since):\n",
    "    now = time.time()\n",
    "    s = now - since\n",
    "    m = math.floor(s / 60)\n",
    "    s -= m * 60\n",
    "    return '%dm %ds' % (m, s)\n",
    "\n",
    "start = time.time()\n",
    "\n",
    "for iter in range(1, n_iters + 1):\n",
    "    category, line, category_tensor, line_tensor = randomTrainingExample()\n",
    "    output, loss = train(category_tensor, line_tensor)\n",
    "    current_loss += loss\n",
    "\n",
    "    # Print iter number, loss, name and guess\n",
    "    if iter % print_every == 0:\n",
    "        guess, guess_i = categoryFromOutput(output)\n",
    "        correct = '✓' if guess == category else '✗ (%s)' % category\n",
    "        print('%d %d%% (%s) %.7f %s / %s %s' % (iter, iter / n_iters * 100, timeSince(start), loss, line, guess, correct))\n",
    "\n",
    "    # Add current loss avg to list of losses\n",
    "    if iter % plot_every == 0:\n",
    "        all_losses.append(current_loss / plot_every)\n",
    "        current_loss = 0"
   ]
  },
  {
   "cell_type": "code",
   "execution_count": 30,
   "id": "ff836b61",
   "metadata": {},
   "outputs": [
    {
     "data": {
      "text/plain": [
       "[<matplotlib.lines.Line2D at 0x1808dff9e50>]"
      ]
     },
     "execution_count": 30,
     "metadata": {},
     "output_type": "execute_result"
    },
    {
     "data": {
      "image/png": "[encoded data removed]",
      "text/plain": [
       "<Figure size 432x288 with 1 Axes>"
      ]
     },
     "metadata": {
      "needs_background": "light"
     },
     "output_type": "display_data"
    }
   ],
   "source": [
    "import matplotlib.pyplot as plt\n",
    "import matplotlib.ticker as ticker\n",
    "\n",
    "plt.figure()\n",
    "plt.plot(all_losses)"
   ]
  },
  {
   "cell_type": "code",
   "execution_count": 32,
   "id": "e6abb8ad",
   "metadata": {},
   "outputs": [
    {
     "name": "stderr",
     "output_type": "stream",
     "text": [
      "C:\\Users\\mgwei\\AppData\\Local\\Temp/ipykernel_13096/2524513795.py:33: UserWarning: FixedFormatter should only be used together with FixedLocator\n",
      "  ax.set_xticklabels([''] + all_categories, rotation=90)\n",
      "C:\\Users\\mgwei\\AppData\\Local\\Temp/ipykernel_13096/2524513795.py:34: UserWarning: FixedFormatter should only be used together with FixedLocator\n",
      "  ax.set_yticklabels([''] + all_categories)\n"
     ]
    },
    {
     "data": {
      "image/png": "[encoded data removed]",
      "text/plain": [
       "<Figure size 432x288 with 2 Axes>"
      ]
     },
     "metadata": {
      "needs_background": "light"
     },
     "output_type": "display_data"
    }
   ],
   "source": [
    "# Keep track of correct guesses in a confusion matrix\n",
    "confusion = torch.zeros(n_categories, n_categories)\n",
    "n_confusion = 500\n",
    "\n",
    "# Just return an output given a line\n",
    "def evaluate(line_tensor):\n",
    "    hidden = rnn.initHidden()\n",
    "\n",
    "    for i in range(line_tensor.size()[0]):\n",
    "        output, hidden = rnn(line_tensor[i], hidden)\n",
    "\n",
    "    return output\n",
    "\n",
    "# Go through a bunch of examples and record which are correctly guessed\n",
    "for i in range(n_confusion):\n",
    "    category, line, category_tensor, line_tensor = randomValidationExample()\n",
    "    output = evaluate(line_tensor)\n",
    "    guess, guess_i = categoryFromOutput(output)\n",
    "    category_i = all_categories.index(category)\n",
    "    confusion[category_i][guess_i] += 1\n",
    "\n",
    "# Normalize by dividing every row by its sum\n",
    "for i in range(n_categories):\n",
    "    confusion[i] = confusion[i] / confusion[i].sum()\n",
    "\n",
    "# Set up plot\n",
    "fig = plt.figure()\n",
    "ax = fig.add_subplot(111)\n",
    "cax = ax.matshow(confusion.numpy())\n",
    "fig.colorbar(cax)\n",
    "\n",
    "# Set up axes\n",
    "ax.set_xticklabels([''] + all_categories, rotation=90)\n",
    "ax.set_yticklabels([''] + all_categories)\n",
    "\n",
    "# Force label at every tick\n",
    "ax.xaxis.set_major_locator(ticker.MultipleLocator(1))\n",
    "ax.yaxis.set_major_locator(ticker.MultipleLocator(1))\n",
    "\n",
    "# sphinx_gallery_thumbnail_number = 2\n",
    "plt.show()"
   ]
  },
  {
   "cell_type": "code",
   "execution_count": 18,
   "id": "029530e2",
   "metadata": {},
   "outputs": [],
   "source": [
    "def predict(input_line, n_predictions=3):\n",
    "    print('\\n> %s' % input_line)\n",
    "    with torch.no_grad():\n",
    "        output = evaluate(lineToTensor(input_line))\n",
    "\n",
    "        # Get top N categories\n",
    "        topv, topi = output.topk(n_predictions, 1, True)\n",
    "        predictions = []\n",
    "\n",
    "        for i in range(n_predictions):\n",
    "            value = topv[0][i].item()\n",
    "            category_index = topi[0][i].item()\n",
    "            print('(%.2f) %s' % (value, all_categories[category_index]))\n",
    "            predictions.append([value, all_categories[category_index]])\n"
   ]
  },
  {
   "cell_type": "code",
   "execution_count": null,
   "id": "21e0956a",
   "metadata": {},
   "outputs": [],
   "source": []
  }
 ],
 "metadata": {
  "kernelspec": {
   "display_name": "Python 3 (ipykernel)",
   "language": "python",
   "name": "python3"
  },
  "language_info": {
   "codemirror_mode": {
    "name": "ipython",
    "version": 3
   },
   "file_extension": ".py",
   "mimetype": "text/x-python",
   "name": "python",
   "nbconvert_exporter": "python",
   "pygments_lexer": "ipython3",
   "version": "3.9.7"
  }
 },
 "nbformat": 4,
 "nbformat_minor": 5
}
