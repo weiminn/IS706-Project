{
 "cells": [
  {
   "cell_type": "code",
   "execution_count": 1,
   "id": "28c27d3b",
   "metadata": {},
   "outputs": [],
   "source": [
    "#https://pytorch.org/tutorials/intermediate/char_rnn_classification_tutorial.html"
   ]
  },
  {
   "cell_type": "code",
   "execution_count": 63,
   "id": "789d3480",
   "metadata": {},
   "outputs": [
    {
     "name": "stdout",
     "output_type": "stream",
     "text": [
      "['dataset-rnn/training\\\\yes.txt', 'dataset-rnn/training\\\\no.txt']\n"
     ]
    }
   ],
   "source": [
    "from __future__ import unicode_literals, print_function, division\n",
    "from io import open\n",
    "import glob\n",
    "import os\n",
    "import string\n",
    "import torch\n",
    "import torch.nn as nn\n",
    "import matplotlib.pyplot as plt\n",
    "import matplotlib.ticker as ticker\n",
    "import random\n",
    "def findFiles(path): return glob.glob(path)\n",
    "print(findFiles('dataset-rnn/training/*.txt'))"
   ]
  },
  {
   "cell_type": "code",
   "execution_count": 90,
   "id": "dacb84e1",
   "metadata": {},
   "outputs": [
    {
     "name": "stdout",
     "output_type": "stream",
     "text": [
      "57\n",
      "['yes', 'no']\n",
      "[95, 76, 161, 84, 69]\n"
     ]
    }
   ],
   "source": [
    "all_letters = string.ascii_letters + \" .,;'\"\n",
    "# n_letters = 200\n",
    "n_letters = len(all_letters)\n",
    "\n",
    "# Turn a Unicode string to plain ASCII, thanks to https://stackoverflow.com/a/518232/2809427\n",
    "def unicodeToAscii(s):\n",
    "#     return ''.join(\n",
    "#         c for c in unicodedata.normalize('NFD', s)\n",
    "#         if unicodedata.category(c) != 'Mn'\n",
    "#         and c in all_letters\n",
    "#     )\n",
    "    return s\n",
    "\n",
    "# print(unicodeToAscii('Ślusàrski'))\n",
    "\n",
    "# Build the category_lines dictionary, a list of names per language\n",
    "category_lines = {}\n",
    "category_lines_val = {}\n",
    "all_categories = []\n",
    "\n",
    "# Read a file and split into lines\n",
    "def readLines(filename):\n",
    "    lines = open(filename, encoding='utf-8').read().strip().split('\\n')\n",
    "    return [unicodeToAscii(line) for line in lines]\n",
    "\n",
    "for filename in findFiles('dataset-rnn/training/*.txt'):\n",
    "    category = os.path.splitext(os.path.basename(filename))[0]\n",
    "    all_categories.append(category)\n",
    "    lines = readLines(filename)\n",
    "    category_lines[category] = lines\n",
    "\n",
    "for filename in findFiles('dataset-rnn/validation/*.txt'):\n",
    "    category = os.path.splitext(os.path.basename(filename))[0]\n",
    "    # all_categories.append(category)\n",
    "    lines = readLines(filename)\n",
    "    category_lines_val[category] = lines\n",
    "\n",
    "n_categories = len(all_categories)\n",
    "print(len(all_letters))\n",
    "print(all_categories)\n",
    "print([len(l) for l in category_lines['yes'][:5]])"
   ]
  },
  {
   "cell_type": "code",
   "execution_count": 91,
   "id": "8d8264e7",
   "metadata": {},
   "outputs": [
    {
     "name": "stdout",
     "output_type": "stream",
     "text": [
      "tensor([[0., 0., 0., 0., 0., 0., 0., 0., 0., 0., 0., 0., 0., 0., 0., 0., 0., 0.,\n",
      "         0., 0., 0., 0., 0., 0., 0., 0., 0., 0., 0., 0., 0., 0., 0., 0., 0., 1.,\n",
      "         0., 0., 0., 0., 0., 0., 0., 0., 0., 0., 0., 0., 0., 0., 0., 0., 0., 0.,\n",
      "         0., 0., 0.]])\n",
      "torch.Size([5, 1, 57])\n"
     ]
    }
   ],
   "source": [
    "# Find letter index from all_letters, e.g. \"a\" = 0\n",
    "def letterToIndex(letter):\n",
    "    return all_letters.find(letter)\n",
    "\n",
    "# Just for demonstration, turn a letter into a <1 x n_letters> Tensor\n",
    "def letterToTensor(letter):\n",
    "    tensor = torch.zeros(1, n_letters)\n",
    "    tensor[0][letterToIndex(letter)] = 1\n",
    "    return tensor\n",
    "\n",
    "# Turn a line into a <line_length x 1 x n_letters>,\n",
    "# or an array of one-hot letter vectors\n",
    "def lineToTensor(line):\n",
    "    tensor = torch.zeros(len(line), 1, n_letters)\n",
    "    for li, letter in enumerate(line):\n",
    "        tensor[li][0][letterToIndex(letter)] = 1\n",
    "    return tensor\n",
    "\n",
    "print(letterToTensor('J'))\n",
    "print(lineToTensor('Jones').size())"
   ]
  },
  {
   "cell_type": "code",
   "execution_count": 92,
   "id": "e369d13d",
   "metadata": {},
   "outputs": [],
   "source": [
    "def categoryFromOutput(output):\n",
    "    top_n, top_i = output.topk(1)\n",
    "    category_i = top_i[0].item()\n",
    "    return all_categories[category_i], category_i\n",
    "\n",
    "# print(categoryFromOutput(output))"
   ]
  },
  {
   "cell_type": "code",
   "execution_count": 70,
   "id": "a67a4205",
   "metadata": {},
   "outputs": [
    {
     "name": "stdout",
     "output_type": "stream",
     "text": [
      "category = no / line = Matchers.notNull()ArgumentMatchers.isNotNull()\n",
      "category = no / line = action.delete.DeleteResponse.getType()action.get.GetResponse.getSource()\n",
      "category = no / line = http.client.HttpComponentsAsyncClientHttpRequestFactory.getHttpAsyncClient()http.client.HttpComponentsAsyncClientHttpRequestFactory.afterPropertiesSet()\n",
      "category = no / line = search.aggregations.metrics.tophits.TopHitsBuilder.addField(String)search.aggregations.metrics.tophits.TopHitsAggregationBuilder.version()\n",
      "category = yes / line = sshd.common.util.Buffer.getString()sshd.common.util.buffer.Buffer.getString()\n",
      "category = yes / line = Expectations.returnValue(Object)AbstractExpectations.returnValue(Object)\n",
      "category = yes / line = action.delete.DeleteResponse.getIndex()action.DocWriteResponse.getIndex()\n",
      "category = no / line = cassandra.dht.BytesToken.getTokenValue()cassandra.index.sasi.sa.CharTerm.getTerm()\n",
      "category = yes / line = lucene.document.Document.getFieldables(String)lucene.document.Document.getFields(String)\n",
      "category = no / line = javaparser.ast.body.MethodDeclaration.getParameters()javaparser.ast.body.CallableDeclaration.getName()\n"
     ]
    }
   ],
   "source": [
    "def randomChoice(l):\n",
    "    return l[random.randint(0, len(l) - 1)]\n",
    "\n",
    "def randomTrainingExample():\n",
    "    category = randomChoice(all_categories)\n",
    "    line = randomChoice(category_lines[category])\n",
    "    category_tensor = torch.tensor([all_categories.index(category)], dtype=torch.long)\n",
    "    line_tensor = lineToTensor(line)\n",
    "    return category, line, category_tensor, line_tensor\n",
    "\n",
    "def randomValidationExample():\n",
    "    category = randomChoice(all_categories)\n",
    "    line = randomChoice(category_lines_val[category])\n",
    "    category_tensor = torch.tensor([all_categories.index(category)], dtype=torch.long)\n",
    "    line_tensor = lineToTensor(line)\n",
    "    return category, line, category_tensor, line_tensor\n",
    "\n",
    "for i in range(10):\n",
    "    category, line, category_tensor, line_tensor = randomTrainingExample()\n",
    "    print('category =', category, '/ line =', line)"
   ]
  },
  {
   "cell_type": "code",
   "execution_count": 93,
   "id": "78907a5e",
   "metadata": {},
   "outputs": [],
   "source": [
    "class RNN(nn.Module):\n",
    "    def __init__(self, input_size, hidden_size, output_size):\n",
    "        super(RNN, self).__init__()\n",
    "\n",
    "        self.hidden_size = hidden_size\n",
    "\n",
    "        self.i2h = nn.Linear(input_size + hidden_size, hidden_size)\n",
    "        self.i2o = nn.Linear(input_size + hidden_size, output_size)\n",
    "        self.softmax = nn.LogSoftmax(dim=1)\n",
    "\n",
    "    def forward(self, input, hidden):\n",
    "        combined = torch.cat((input, hidden), 1)\n",
    "        hidden = self.i2h(combined)\n",
    "        output = self.i2o(combined)\n",
    "        output = self.softmax(output)\n",
    "        return output, hidden\n",
    "\n",
    "    def initHidden(self):\n",
    "        return torch.zeros(1, self.hidden_size)\n",
    "\n",
    "# n_hidden = 128\n"
   ]
  },
  {
   "cell_type": "code",
   "execution_count": 115,
   "id": "e035d59e",
   "metadata": {},
   "outputs": [],
   "source": [
    "n_hidden = n_letters\n",
    "rnn = RNN(n_letters, n_hidden, n_categories)\n",
    "criterion = nn.NLLLoss()"
   ]
  },
  {
   "cell_type": "code",
   "execution_count": 116,
   "id": "9d7b545f",
   "metadata": {},
   "outputs": [],
   "source": [
    "def train(category_tensor, line_tensor, learning_rate):\n",
    "    hidden = rnn.initHidden()\n",
    "\n",
    "    rnn.zero_grad()\n",
    "\n",
    "    for i in range(line_tensor.size()[0]):\n",
    "        output, hidden = rnn(line_tensor[i], hidden)\n",
    "\n",
    "    loss = criterion(output, category_tensor)\n",
    "    loss.backward()\n",
    "\n",
    "    # Add parameters' gradients to their values, multiplied by learning rate\n",
    "    for p in rnn.parameters():\n",
    "        p.data.add_(p.grad.data, alpha=-learning_rate)\n",
    "\n",
    "    return output, loss.item()"
   ]
  },
  {
   "cell_type": "code",
   "execution_count": 122,
   "id": "e2d6ad48",
   "metadata": {
    "scrolled": false
   },
   "outputs": [
    {
     "name": "stdout",
     "output_type": "stream",
     "text": [
      "500 2% (0m 5s) 0.1334767 web.cors.UrlBasedCorsConfigurationSource.setUrlDecode(boolean)web.cors.UrlBasedCorsConfigurationSource.setUrlPathHelper(UrlPathHelper) / yes ✓\n",
      "1000 4% (0m 11s) 0.1135423 ws.client.component.ComponentsService.show(ShowWsRequest)ws.client.components.ComponentsService.show(ShowRequest) / yes ✓\n",
      "1500 6% (0m 17s) 0.5929587 dockerjava.api.model.ContainerConfig.isNetworkDisabled()dockerjava.api.model.ContainerConfig.getNetworkDisabled() / yes ✓\n",
      "2000 8% (0m 22s) 0.5282324 action.mlt.MoreLikeThisRequestBuilder.setMinDocFreq(int)index.query.MoreLikeThisQueryBuilder.likeTexts() / no ✓\n",
      "2500 10% (0m 28s) 1.0228322 solr.client.solrj.impl.HttpSolrServer.getBaseURL()solr.client.solrj.impl.HttpSolrClient.getBaseURL() / no ✗ (yes)\n",
      "3000 12% (0m 34s) 0.3336186 dockerjava.api.model.HostConfig.isPublishAllPorts()dockerjava.api.model.HostConfig.getPidMode() / no ✓\n",
      "3500 14% (0m 39s) 0.6197841 api.models.GitlabNamespace.getOwnerId()api.models.GitlabNamespace.getParentId() / yes ✓\n",
      "4000 16% (0m 45s) 1.0817766 mapping.Component.getNodeName()mapping.Component.getRoleName() / no ✗ (yes)\n",
      "4500 18% (0m 50s) 0.7009960 angel.ml.core.conf.MLConf.ML_GBDT_SAMPLE_RATIO()angel.ml.core.conf.AngelMLConf.ML_GBDT_SAMPLE_RATIO() / no ✗ (yes)\n",
      "5000 20% (0m 56s) 0.6686130 groovy.tools.shell.Groovysh.execute(String)GroovyShell.main() / no ✓\n",
      "5500 22% (1m 1s) 0.4499503 node.NodeBuilder.settings()node.NodeService.info() / no ✓\n",
      "6000 24% (1m 7s) 0.3694023 Matchers.anyInt()ArgumentMatchers.anyChar() / no ✓\n",
      "6500 26% (1m 12s) 0.6903315 index.query.RangeFilterBuilder.gt(Object)index.query.RangeQueryBuilder.gte() / no ✓\n",
      "7000 28% (1m 17s) 0.3438930 jedis.BinaryTransaction.exec()jedis.Transaction.exec() / yes ✓\n",
      "7500 30% (1m 23s) 0.1765492 nio.serialization.ObjectDataOutputStream.close()internal.serialization.impl.ObjectDataOutputStream.writeShort() / no ✓\n",
      "8000 32% (1m 29s) 0.4737868 action.search.SearchResponse.hits()action.search.SearchResponse.getTookInMillis() / no ✓\n",
      "8500 34% (1m 34s) 0.1416139 catalina.deploy.FilterDef.setFilterClass(String)tomcat.util.descriptor.web.FilterDef.setFilterClass(String) / yes ✓\n",
      "9000 36% (1m 40s) 0.2653987 common.io.CharStreams.newReaderSupplier(String)common.io.CharSource.asByteSource() / no ✓\n",
      "9500 38% (1m 45s) 0.6957783 DBMaker.newTempFileDB()DBMaker.tempFileDB() / no ✗ (yes)\n",
      "10000 40% (1m 51s) 0.1661498 jackson.core.JsonFactory.disable(Feature)jackson.core.TSFBuilder.configure(Feature,boolean) / yes ✓\n",
      "10500 42% (1m 57s) 0.5397946 util.Assert.doesNotContain(String, String)util.ReflectionUtils.isToStringMethod() / no ✓\n",
      "11000 44% (2m 2s) 0.1966844 search.aggregations.bucket.histogram.DateHistogramBuilder.interval(DateHistogramInterval)search.aggregations.bucket.histogram.DateHistogramAggregationBuilder.dateHistogramInterval(DateHistogramInterval) / yes ✓\n",
      "11500 46% (2m 8s) 0.7020796 angel.ml.core.conf.MLConf.ML_FEATURE_INDEX_RANGE()angel.ml.core.conf.AngelMLConf.ML_DATA_POSNEG_RATIO() / yes ✗ (no)\n",
      "12000 48% (2m 14s) 0.0903762 index.query.GeoBoundingBoxFilterBuilder.bottomRight(double,double)index.query.GeoBoundingBoxQueryBuilder.bottomRight(double,double) / yes ✓\n",
      "12500 50% (2m 19s) 0.0850405 index.query.GeoDistanceFilterBuilder.lat(double)index.query.GeoDistanceQueryBuilder.lat(double) / yes ✓\n",
      "13000 52% (2m 25s) 1.0301694 action.delete.DeleteResponse.getType()action.DocWriteResponse.getType() / no ✗ (yes)\n",
      "13500 54% (2m 30s) 0.0967313 jackson.core.JsonFactory.configure(Feature,boolean)jackson.core.TSFBuilder.configure(Feature,boolean) / yes ✓\n",
      "14000 56% (2m 35s) 0.3838000 protoparser.ProtoSchemaParser.parse(String,String)protoparser.AutoValue_ProtoFile.toString() / no ✓\n",
      "14500 57% (2m 41s) 0.4691235 action.index.IndexResponse.version()action.delete.DeleteResponse.getVersion() / no ✓\n",
      "15000 60% (2m 47s) 0.3207381 jackson.core.JsonParser.setFeatureMask(int)jackson.core.JsonParser.overrideFormatFeatures() / no ✓\n",
      "15500 62% (2m 52s) 0.8035802 action.admin.indices.exists.indices.IndicesExistsResponse.exists()action.admin.indices.exists.indices.IndicesExistsResponse.isExists() / no ✗ (yes)\n",
      "16000 64% (2m 57s) 1.6437653 DBMaker.syncOnCommitDisable()DBMaker.commitFileSyncDisable() / no ✗ (yes)\n",
      "16500 66% (3m 4s) 0.0553198 solr.client.solrj.impl.HttpSolrServer.setMaxTotalConnections(int)solr.client.solrj.impl.HttpSolrClient.setMaxTotalConnections(int) / yes ✓\n",
      "17000 68% (3m 9s) 0.4398386 action.delete.DeleteResponse.isNotFound()action.delete.DeleteResponse.isFound() / yes ✓\n",
      "17500 70% (3m 15s) 0.1434120 common.io.Resources.newInputStreamSupplier(URL)common.io.Resources.asByteSource(URL) / yes ✓\n",
      "18000 72% (3m 20s) 0.6460100 search.aggregations.metrics.tophits.TopHitsBuilder.setSize(int)search.aggregations.metrics.tophits.TopHitsAggregationBuilder.sorts() / no ✓\n",
      "18500 74% (3m 26s) 1.9003127 Matchers.anyInt()ArgumentMatchers.anyInt() / no ✗ (yes)\n",
      "19000 76% (3m 31s) 0.2498236 action.bulk.BulkItemResponse.failed()action.bulk.BulkItemResponse.readBulkItem() / no ✓\n",
      "19500 78% (3m 36s) 0.1632367 RocksDB.close()AbstractWriteBatch.deleteRange() / no ✓\n",
      "20000 80% (3m 42s) 1.1552507 action.bulk.BulkResponse.items()action.bulk.BulkItemResponse.getItemId() / yes ✗ (no)\n",
      "20500 82% (3m 48s) 0.2913389 service.ServiceRegistryBuilder.applySettings(Map)boot.registry.StandardServiceRegistryBuilder.build() / no ✓\n",
      "21000 84% (3m 54s) 0.4806742 dockerjava.api.model.HostConfig.isPrivileged()dockerjava.api.model.HostConfig.getPrivileged() / yes ✓\n",
      "21500 86% (4m 0s) 0.0474491 ws.client.qualitygate.QualityGatesService.projectStatus(ProjectStatusWsRequest)ws.client.qualitygates.QualitygatesService.projectStatus(ProjectStatusRequest) / yes ✓\n",
      "22000 88% (4m 7s) 0.7537657 common.settings.ImmutableSettings.settingsBuilder()common.settings.Settings.builder() / no ✗ (yes)\n",
      "22500 90% (4m 13s) 0.1529028 web.reactive.socket.server.upgrade.ReactorNettyRequestUpgradeStrategy.getHandlePing()web.reactive.socket.server.upgrade.ReactorNettyRequestUpgradeStrategy.getWebsocketServerSpec() / yes ✓\n",
      "23000 92% (4m 19s) 0.6848592 DBMaker.newMemoryDB()DBMaker.memoryDB() / yes ✓\n",
      "23500 94% (4m 25s) 0.1891312 dockerjava.api.model.ContainerConfig.isStdinOpen()dockerjava.api.model.ContainerConfig.getStdinOpen() / yes ✓\n",
      "24000 96% (4m 30s) 0.1501456 jackson.core.JsonGenerator.writeStartArray(int)jackson.core.JsonGenerator.writeStartArray(Object,int) / yes ✓\n",
      "24500 98% (4m 36s) 0.0624172 lucene.document.Document.getFieldables(String)lucene.document.Document.getFields(String) / yes ✓\n",
      "25000 100% (4m 41s) 0.0867337 search.facet.FacetProcessors.processor(String)search.facet.FacetBuilder.mode() / no ✓\n"
     ]
    }
   ],
   "source": [
    "import time\n",
    "import math\n",
    "\n",
    "n_iters = 25000\n",
    "print_every = 500\n",
    "plot_every = 200\n",
    "\n",
    "# Keep track of losses for plotting\n",
    "current_loss = 0\n",
    "all_losses = []\n",
    "\n",
    "def timeSince(since):\n",
    "    now = time.time()\n",
    "    s = now - since\n",
    "    m = math.floor(s / 60)\n",
    "    s -= m * 60\n",
    "    return '%dm %ds' % (m, s)\n",
    "\n",
    "start = time.time()\n",
    "\n",
    "rate = 0.002\n",
    "\n",
    "for iter in range(1, n_iters + 1):\n",
    "    category, line, category_tensor, line_tensor = randomTrainingExample()\n",
    "    # if iter < n_iters/10:\n",
    "    #     rate = 0.005\n",
    "    # elif iter > 5 * n_iters / 10:\n",
    "    #     rate = 0.001\n",
    "    # else:\n",
    "    #     rate = 0.002\n",
    "    output, loss = train(category_tensor, line_tensor, rate)\n",
    "    current_loss += loss\n",
    "\n",
    "    # Print iter number, loss, name and guess\n",
    "    if iter % print_every == 0:\n",
    "        guess, guess_i = categoryFromOutput(output)\n",
    "        correct = '✓' if guess == category else '✗ (%s)' % category\n",
    "        print('%d %d%% (%s) %.7f %s / %s %s' % (iter, iter / n_iters * 100, timeSince(start), loss, line, guess, correct))\n",
    "\n",
    "    # Add current loss avg to list of losses\n",
    "    if iter % plot_every == 0:\n",
    "        all_losses.append(current_loss / plot_every)\n",
    "        current_loss = 0"
   ]
  },
  {
   "cell_type": "code",
   "execution_count": 123,
   "id": "ff836b61",
   "metadata": {},
   "outputs": [
    {
     "data": {
      "text/plain": [
       "[<matplotlib.lines.Line2D at 0x2abb6ae75e0>]"
      ]
     },
     "execution_count": 123,
     "metadata": {},
     "output_type": "execute_result"
    },
    {
     "data": {
      "image/png": "[encoded data removed]",
      "text/plain": [
       "<Figure size 432x288 with 1 Axes>"
      ]
     },
     "metadata": {
      "needs_background": "light"
     },
     "output_type": "display_data"
    }
   ],
   "source": [
    "plt.figure()\n",
    "plt.plot(all_losses)"
   ]
  },
  {
   "cell_type": "code",
   "execution_count": 133,
   "id": "55033b67",
   "metadata": {},
   "outputs": [
    {
     "name": "stdout",
     "output_type": "stream",
     "text": [
      "{'yes': {'tp': 171, 'total': 262}, 'no': {'tp': 195, 'total': 238}}\n",
      "tensor([[171.,  91.],\n",
      "        [ 43., 195.]])\n",
      "(Yes) Precision: 0.6526717557251909\n",
      "(Yes) Recall: 0.652671754360199\n",
      "(Yes) F1: 0.6526717550426949\n",
      "(No) Precision: 0.819327731092437\n",
      "(No) Recall: 0.819327712059021\n",
      "(No) F1: 0.8193277215757289\n"
     ]
    }
   ],
   "source": [
    "n_confusion = 500\n",
    "\n",
    "# Just return an output given a line\n",
    "def evaluate(line_tensor):\n",
    "    hidden = rnn.initHidden()\n",
    "\n",
    "    for i in range(line_tensor.size()[0]):\n",
    "        output, hidden = rnn(line_tensor[i], hidden)\n",
    "\n",
    "    return output\n",
    "\n",
    "# Keep track of correct guesses in a confusion matrix\n",
    "confusion = torch.zeros(n_categories, n_categories)\n",
    "precision = {\n",
    "    'yes': {\n",
    "        'tp': 0,\n",
    "        'total': 0\n",
    "    },\n",
    "    'no': {\n",
    "        'tp': 0,\n",
    "        'total': 0\n",
    "    }\n",
    "}\n",
    "\n",
    "for i in range(n_confusion):\n",
    "    category, line, category_tensor, line_tensor = randomValidationExample()\n",
    "    output = evaluate(line_tensor)\n",
    "    guess, guess_i = categoryFromOutput(output)\n",
    "    # correct = '✓' if guess == category else '✗ (%s)' % category\n",
    "    # print(line, guess, correct)\n",
    "    category_i = all_categories.index(category)\n",
    "    confusion[category_i][guess_i] += 1\n",
    "    precision[category]['total'] += 1\n",
    "    if category is guess:\n",
    "        precision[category]['tp'] += 1\n",
    "\n",
    "print(precision)\n",
    "print(confusion)\n",
    "\n",
    "yp = precision['yes']['tp']/precision['yes']['total']\n",
    "yr = float(confusion[0][0]/sum(confusion[0]))\n",
    "print('(Yes) Precision:', yp)\n",
    "# print('No precision:', precision['no']['tp']/precision['no']['total'])\n",
    "print('(Yes) Recall:', yr)\n",
    "print('(Yes) F1:', 2 * (yp * yr) / (yp + yr))\n",
    "\n",
    "np = precision['no']['tp']/precision['no']['total']\n",
    "nr = float(confusion[1][1]/sum(confusion[1]))\n",
    "print('(No) Precision:', np)\n",
    "# print('No precision:', precision['no']['tp']/precision['no']['total'])\n",
    "print('(No) Recall:', nr)\n",
    "print('(No) F1:', 2 * (np * nr) / (np + nr))"
   ]
  },
  {
   "cell_type": "code",
   "execution_count": 132,
   "id": "34036633",
   "metadata": {},
   "outputs": [
    {
     "name": "stderr",
     "output_type": "stream",
     "text": [
      "C:\\Users\\mgwei\\AppData\\Local\\Temp/ipykernel_13788/2806226085.py:12: UserWarning: FixedFormatter should only be used together with FixedLocator\n",
      "  ax.set_xticklabels([''] + all_categories, rotation=90)\n",
      "C:\\Users\\mgwei\\AppData\\Local\\Temp/ipykernel_13788/2806226085.py:13: UserWarning: FixedFormatter should only be used together with FixedLocator\n",
      "  ax.set_yticklabels([''] + all_categories)\n"
     ]
    },
    {
     "data": {
      "image/png": "[encoded data removed]",
      "text/plain": [
       "<Figure size 432x288 with 2 Axes>"
      ]
     },
     "metadata": {
      "needs_background": "light"
     },
     "output_type": "display_data"
    }
   ],
   "source": [
    "# Normalize by dividing every row by its sum\n",
    "for i in range(n_categories):\n",
    "    confusion[i] = confusion[i] / confusion[i].sum()\n",
    "\n",
    "# Set up plot\n",
    "fig = plt.figure()\n",
    "ax = fig.add_subplot(111)\n",
    "cax = ax.matshow(confusion.numpy())\n",
    "fig.colorbar(cax)\n",
    "\n",
    "# Set up axes\n",
    "ax.set_xticklabels([''] + all_categories, rotation=90)\n",
    "ax.set_yticklabels([''] + all_categories)\n",
    "\n",
    "# Force label at every tick\n",
    "ax.xaxis.set_major_locator(ticker.MultipleLocator(1))\n",
    "ax.yaxis.set_major_locator(ticker.MultipleLocator(1))\n",
    "\n",
    "# sphinx_gallery_thumbnail_number = 2\n",
    "plt.show()"
   ]
  },
  {
   "cell_type": "code",
   "execution_count": null,
   "id": "61b76fb7",
   "metadata": {},
   "outputs": [],
   "source": []
  }
 ],
 "metadata": {
  "kernelspec": {
   "display_name": "Python 3 (ipykernel)",
   "language": "python",
   "name": "python3"
  },
  "language_info": {
   "codemirror_mode": {
    "name": "ipython",
    "version": 3
   },
   "file_extension": ".py",
   "mimetype": "text/x-python",
   "name": "python",
   "nbconvert_exporter": "python",
   "pygments_lexer": "ipython3",
   "version": "3.9.7"
  }
 },
 "nbformat": 4,
 "nbformat_minor": 5
}
