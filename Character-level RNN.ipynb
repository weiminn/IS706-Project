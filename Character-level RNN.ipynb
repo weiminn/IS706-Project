{
 "cells": [
  {
   "cell_type": "code",
   "execution_count": 1,
   "id": "28c27d3b",
   "metadata": {},
   "outputs": [],
   "source": [
    "#https://pytorch.org/tutorials/intermediate/char_rnn_classification_tutorial.html"
   ]
  },
  {
   "cell_type": "code",
   "execution_count": 136,
   "id": "789d3480",
   "metadata": {},
   "outputs": [
    {
     "name": "stdout",
     "output_type": "stream",
     "text": [
      "['dataset/cleaned\\\\yes.txt', 'dataset/cleaned\\\\no.txt']\n"
     ]
    }
   ],
   "source": [
    "from __future__ import unicode_literals, print_function, division\n",
    "from io import open\n",
    "import glob\n",
    "import os\n",
    "\n",
    "def findFiles(path): return glob.glob(path)\n",
    "\n",
    "print(findFiles('dataset/cleaned/*.txt'))\n",
    "\n",
    "import unicodedata\n",
    "import string\n",
    "\n",
    "import torch\n",
    "import torch.nn as nn\n",
    "\n",
    "import random"
   ]
  },
  {
   "cell_type": "code",
   "execution_count": 137,
   "id": "53509cad",
   "metadata": {},
   "outputs": [
    {
     "data": {
      "text/plain": [
       "52"
      ]
     },
     "execution_count": 137,
     "metadata": {},
     "output_type": "execute_result"
    }
   ],
   "source": [
    "len(string.ascii_letters)"
   ]
  },
  {
   "cell_type": "code",
   "execution_count": 138,
   "id": "f12da49e",
   "metadata": {},
   "outputs": [
    {
     "data": {
      "text/plain": [
       "132"
      ]
     },
     "execution_count": 138,
     "metadata": {},
     "output_type": "execute_result"
    }
   ],
   "source": [
    "len('com.tencent.angel.ml.core.conf.MLConf.ML_BATCH_SAMPLE_RATIO()__XX__com.tencent.angel.ml.core.conf.AngelMLConf.ML_GBDT_SAMPLE_RATIO()')"
   ]
  },
  {
   "cell_type": "code",
   "execution_count": 139,
   "id": "dacb84e1",
   "metadata": {},
   "outputs": [],
   "source": [
    "all_letters = string.ascii_letters + \" .,;'\"\n",
    "# n_letters = 200\n",
    "n_letters = len(all_letters)\n",
    "\n",
    "# Turn a Unicode string to plain ASCII, thanks to https://stackoverflow.com/a/518232/2809427\n",
    "def unicodeToAscii(s):\n",
    "#     return ''.join(\n",
    "#         c for c in unicodedata.normalize('NFD', s)\n",
    "#         if unicodedata.category(c) != 'Mn'\n",
    "#         and c in all_letters\n",
    "#     )\n",
    "    return s\n",
    "\n",
    "# print(unicodeToAscii('Ślusàrski'))\n",
    "\n",
    "# Build the category_lines dictionary, a list of names per language\n",
    "category_lines = {}\n",
    "all_categories = []\n",
    "\n",
    "# Read a file and split into lines\n",
    "def readLines(filename):\n",
    "    lines = open(filename, encoding='utf-8').read().strip().split('\\n')\n",
    "    return [unicodeToAscii(line) for line in lines]\n",
    "\n",
    "for filename in findFiles('dataset/cleaned/*.txt'):\n",
    "    category = os.path.splitext(os.path.basename(filename))[0]\n",
    "    all_categories.append(category)\n",
    "    lines = readLines(filename)\n",
    "    category_lines[category] = lines\n",
    "\n",
    "n_categories = len(all_categories)"
   ]
  },
  {
   "cell_type": "code",
   "execution_count": 140,
   "id": "f1536800",
   "metadata": {},
   "outputs": [
    {
     "data": {
      "text/plain": [
       "57"
      ]
     },
     "execution_count": 140,
     "metadata": {},
     "output_type": "execute_result"
    }
   ],
   "source": [
    "len(all_letters)"
   ]
  },
  {
   "cell_type": "code",
   "execution_count": 141,
   "id": "75f92eb4",
   "metadata": {},
   "outputs": [
    {
     "data": {
      "text/plain": [
       "['yes', 'no']"
      ]
     },
     "execution_count": 141,
     "metadata": {},
     "output_type": "execute_result"
    }
   ],
   "source": [
    "all_categories"
   ]
  },
  {
   "cell_type": "code",
   "execution_count": 142,
   "id": "32d06beb",
   "metadata": {},
   "outputs": [
    {
     "name": "stdout",
     "output_type": "stream",
     "text": [
      "['angel.ml.core.conf.MLConf.ML_MODEL_TYPE()angel.ml.core.conf.AngelMLConf.ML_MODEL_TYPE()', 'action.delete.DeleteResponse.isNotFound()action.delete.DeleteResponse.isFound()', 'solr.client.solrj.impl.HttpSolrServer.setMaxTotalConnections(int)solr.client.solrj.impl.HttpSolrClient.setMaxTotalConnections(int)', 'action.mlt.MoreLikeThisRequestBuilder.maxQueryTerms(int)index.query.MoreLikeThisQueryBuilder.maxQueryTerms(int)', 'search.builder.SearchSourceBuilder.toString()action.support.ToXContentToBytes.toString()']\n"
     ]
    }
   ],
   "source": [
    "print(category_lines['yes'][:5])"
   ]
  },
  {
   "cell_type": "code",
   "execution_count": 143,
   "id": "8d8264e7",
   "metadata": {},
   "outputs": [
    {
     "name": "stdout",
     "output_type": "stream",
     "text": [
      "tensor([[0., 0., 0., 0., 0., 0., 0., 0., 0., 0., 0., 0., 0., 0., 0., 0., 0., 0.,\n",
      "         0., 0., 0., 0., 0., 0., 0., 0., 0., 0., 0., 0., 0., 0., 0., 0., 0., 1.,\n",
      "         0., 0., 0., 0., 0., 0., 0., 0., 0., 0., 0., 0., 0., 0., 0., 0., 0., 0.,\n",
      "         0., 0., 0.]])\n",
      "torch.Size([5, 1, 57])\n"
     ]
    }
   ],
   "source": [
    "# Find letter index from all_letters, e.g. \"a\" = 0\n",
    "def letterToIndex(letter):\n",
    "    return all_letters.find(letter)\n",
    "\n",
    "# Just for demonstration, turn a letter into a <1 x n_letters> Tensor\n",
    "def letterToTensor(letter):\n",
    "    tensor = torch.zeros(1, n_letters)\n",
    "    tensor[0][letterToIndex(letter)] = 1\n",
    "    return tensor\n",
    "\n",
    "# Turn a line into a <line_length x 1 x n_letters>,\n",
    "# or an array of one-hot letter vectors\n",
    "def lineToTensor(line):\n",
    "    tensor = torch.zeros(len(line), 1, n_letters)\n",
    "    for li, letter in enumerate(line):\n",
    "        tensor[li][0][letterToIndex(letter)] = 1\n",
    "    return tensor\n",
    "\n",
    "print(letterToTensor('J'))\n",
    "\n",
    "print(lineToTensor('Jones').size())"
   ]
  },
  {
   "cell_type": "code",
   "execution_count": 165,
   "id": "78907a5e",
   "metadata": {},
   "outputs": [],
   "source": [
    "class RNN(nn.Module):\n",
    "    def __init__(self, input_size, hidden_size, output_size):\n",
    "        super(RNN, self).__init__()\n",
    "\n",
    "        self.hidden_size = hidden_size\n",
    "\n",
    "        self.i2h = nn.Linear(input_size + hidden_size, hidden_size)\n",
    "        self.i2o = nn.Linear(input_size + hidden_size, output_size)\n",
    "        self.softmax = nn.LogSoftmax(dim=1)\n",
    "\n",
    "    def forward(self, input, hidden):\n",
    "        combined = torch.cat((input, hidden), 1)\n",
    "        hidden = self.i2h(combined)\n",
    "        output = self.i2o(combined)\n",
    "        output = self.softmax(output)\n",
    "        return output, hidden\n",
    "\n",
    "    def initHidden(self):\n",
    "        return torch.zeros(1, self.hidden_size)\n",
    "\n",
    "# n_hidden = 128\n",
    "n_hidden = n_letters\n",
    "rnn = RNN(n_letters, n_hidden, n_categories)"
   ]
  },
  {
   "cell_type": "code",
   "execution_count": 166,
   "id": "e369d13d",
   "metadata": {},
   "outputs": [
    {
     "name": "stdout",
     "output_type": "stream",
     "text": [
      "('yes', 0)\n"
     ]
    }
   ],
   "source": [
    "def categoryFromOutput(output):\n",
    "    top_n, top_i = output.topk(1)\n",
    "    category_i = top_i[0].item()\n",
    "    return all_categories[category_i], category_i\n",
    "\n",
    "print(categoryFromOutput(output))"
   ]
  },
  {
   "cell_type": "code",
   "execution_count": 167,
   "id": "a67a4205",
   "metadata": {},
   "outputs": [
    {
     "name": "stdout",
     "output_type": "stream",
     "text": [
      "category = no / line = common.base.Objects.toStringHelper(Object)common.base.MoreObjects.toStringHelper(Class<?>)\n",
      "category = no / line = action.index.IndexResponse.getId()action.DocWriteResponse.getType()\n",
      "category = yes / line = action.delete.DeleteResponse.notFound()action.delete.DeleteResponse.isFound()\n",
      "category = no / line = action.mlt.MoreLikeThisRequestBuilder.setMinDocFreq(int)index.query.MoreLikeThisQueryBuilder.include()\n",
      "category = yes / line = jedis.BinaryTransaction.exec()jedis.Transaction.exec()\n",
      "category = no / line = search.builder.SearchSourceBuilder.toString()action.get.GetRequest.toString()\n",
      "category = yes / line = solr.client.solrj.request.CoreAdminRequest.process(SolrServer)solr.client.solrj.SolrRequest.process(SolrClient)\n",
      "category = no / line = catalina.deploy.FilterDef.setFilterName(String)tomcat.util.descriptor.web.FilterDef.setFilter()\n",
      "category = no / line = action.delete.DeleteResponse.isNotFound()action.delete.DeleteResponse.getIndex()\n",
      "category = no / line = Matchers.anyString()ArgumentMatchers.anyVararg()\n"
     ]
    }
   ],
   "source": [
    "def randomChoice(l):\n",
    "    return l[random.randint(0, len(l) - 1)]\n",
    "\n",
    "def randomTrainingExample():\n",
    "    category = randomChoice(all_categories)\n",
    "    line = randomChoice(category_lines[category])\n",
    "    category_tensor = torch.tensor([all_categories.index(category)], dtype=torch.long)\n",
    "    line_tensor = lineToTensor(line)\n",
    "    return category, line, category_tensor, line_tensor\n",
    "\n",
    "for i in range(10):\n",
    "    category, line, category_tensor, line_tensor = randomTrainingExample()\n",
    "    print('category =', category, '/ line =', line)"
   ]
  },
  {
   "cell_type": "code",
   "execution_count": 168,
   "id": "e035d59e",
   "metadata": {},
   "outputs": [],
   "source": [
    "criterion = nn.NLLLoss()"
   ]
  },
  {
   "cell_type": "code",
   "execution_count": 169,
   "id": "9d7b545f",
   "metadata": {},
   "outputs": [],
   "source": [
    "learning_rate = 0.002 # If you set this too high, it might explode. If too low, it might not learn\n",
    "\n",
    "def train(category_tensor, line_tensor):\n",
    "    hidden = rnn.initHidden()\n",
    "\n",
    "    rnn.zero_grad()\n",
    "\n",
    "    for i in range(line_tensor.size()[0]):\n",
    "        output, hidden = rnn(line_tensor[i], hidden)\n",
    "\n",
    "    loss = criterion(output, category_tensor)\n",
    "    loss.backward()\n",
    "\n",
    "    # Add parameters' gradients to their values, multiplied by learning rate\n",
    "    for p in rnn.parameters():\n",
    "        p.data.add_(p.grad.data, alpha=-learning_rate)\n",
    "\n",
    "    return output, loss.item()"
   ]
  },
  {
   "cell_type": "code",
   "execution_count": 170,
   "id": "7f0c54d5",
   "metadata": {},
   "outputs": [],
   "source": [
    "import time\n",
    "import math\n",
    "\n",
    "n_iters = 20000\n",
    "print_every = 500\n",
    "plot_every = 100"
   ]
  },
  {
   "cell_type": "code",
   "execution_count": 171,
   "id": "e2d6ad48",
   "metadata": {
    "scrolled": false
   },
   "outputs": [
    {
     "name": "stdout",
     "output_type": "stream",
     "text": [
      "500 2% (0m 5s) 0.6198515 solr.client.solrj.impl.HttpSolrServer.setBaseURL(String)solr.client.solrj.impl.HttpSolrClient.setBaseURL(String) / yes ✓\n",
      "1000 5% (0m 10s) 0.6576331 lucene.search.TopDocCollector.topDocs()lucene.search.TopDocsCollector.topDocs() / yes ✓\n",
      "1500 7% (0m 15s) 0.6425537 common.trove.set.hash.TIntHashSet.add(int)common.trove.set.hash.THashSet.hashCode() / no ✓\n",
      "2000 10% (0m 21s) 0.7459154 common.util.concurrent.MoreExecutors.sameThreadExecutor()common.util.concurrent.MoreExecutors.newDirectExecutorService() / no ✗ (yes)\n",
      "2500 12% (0m 26s) 0.7600636 action.delete.DeleteResponse.notFound()action.delete.DeleteResponse.isNotFound() / no ✗ (yes)\n",
      "3000 15% (0m 31s) 0.6285769 angel.ml.core.conf.MLConf.KMEANS_C()angel.ml.core.conf.AngelMLConf.DEFAULT_KMEANS_C() / no ✓\n",
      "3500 17% (0m 37s) 0.8596332 common.compress.CompressedString.string()common.compress.CompressedXContent.string() / no ✗ (yes)\n",
      "4000 20% (0m 42s) 0.5225077 action.bulk.BulkItemResponse.failed()action.bulk.BulkItemResponse.getOpType() / no ✓\n",
      "4500 22% (0m 47s) 0.5379215 action.index.IndexResponse.getType()action.get.GetResponse.getType() / no ✓\n",
      "5000 25% (0m 52s) 0.8969877 action.index.IndexResponse.version()action.index.IndexResponse.getVersion() / no ✗ (yes)\n",
      "5500 27% (0m 58s) 0.5468320 search.aggregations.bucket.range.RangeBuilder.addUnboundedFrom(String,double)search.aggregations.bucket.range.ip.IpRangeAggregationBuilder.addUnboundedTo() / no ✓\n",
      "6000 30% (1m 3s) 0.2775542 index.query.GeoDistanceFilterBuilder.distance(double,DistanceUnit)index.query.GeoDistanceQueryBuilder.distance(double,DistanceUnit) / yes ✓\n",
      "6500 32% (1m 8s) 0.5215420 action.mlt.MoreLikeThisRequestBuilder.setMaxWordLen(int)index.query.MoreLikeThisQueryBuilder.maxQueryTerms() / no ✓\n",
      "7000 35% (1m 14s) 0.5578207 node.NodeBuilder.settings()common.settings.Settings.filter() / no ✓\n",
      "7500 37% (1m 19s) 1.7525052 Matchers.eq(float)ArgumentMatchers.eq(long) / yes ✗ (no)\n",
      "8000 40% (1m 24s) 0.5125746 lucene.document.Document.getFieldables(String)lucene.document.Document.getFields() / no ✓\n",
      "8500 42% (1m 29s) 0.3584695 search.sort.FieldSortBuilder.order(SortOrder)search.sort.FieldSortBuilder.sortMode() / no ✓\n",
      "9000 45% (1m 35s) 0.9577613 angel.ml.core.conf.MLConf.KMEANS_C()angel.ml.core.conf.AngelMLConf.KMEANS_C() / no ✗ (yes)\n",
      "9500 47% (1m 40s) 0.6498982 angel.ml.core.conf.MLConf.ML_NUM_CLASS()angel.ml.core.conf.AngelMLConf.ML_NUM_TREE() / no ✓\n",
      "10000 50% (1m 45s) 0.5447593 Matchers.notNull()ArgumentMatchers.isNull() / no ✓\n",
      "10500 52% (1m 50s) 0.3198753 action.bulk.BulkItemResponse.failureMessage()action.bulk.BulkResponse.buildFailureMessage() / no ✓\n",
      "11000 55% (1m 56s) 0.0736313 action.mlt.MoreLikeThisRequestBuilder.setMaxDocFreq(int)index.query.MoreLikeThisQueryBuilder.maxDocFreq(int) / yes ✓\n",
      "11500 57% (2m 1s) 0.7835126 angel.ml.core.conf.MLConf.DEFAULT_ML_MODEL_TYPE()angel.ml.core.conf.AngelMLConf.DEFAULT_ML_MODEL_TYPE() / no ✗ (yes)\n",
      "12000 60% (2m 6s) 0.0755532 solr.client.solrj.request.CoreAdminRequest.process(SolrServer)solr.client.solrj.SolrRequest.process(SolrClient) / yes ✓\n",
      "12500 62% (2m 11s) 0.0779173 index.query.RangeFilterBuilder.lte(Object)index.query.RangeQueryBuilder.lte(Object) / yes ✓\n",
      "13000 65% (2m 16s) 0.6398616 common.collect.MapMaker.softValues()common.cache.CacheBuilder.softValues() / yes ✓\n",
      "13500 67% (2m 21s) 0.7610915 action.index.IndexResponse.getId()action.DocWriteResponse.getId() / no ✗ (yes)\n",
      "14000 70% (2m 27s) 0.0921345 catalina.deploy.FilterMap.setFilterName(String)tomcat.util.descriptor.web.FilterMap.setFilterName(String) / yes ✓\n",
      "14500 72% (2m 32s) 0.0886827 Matchers.matches(String)ArgumentMatchers.matches(String) / yes ✓\n",
      "15000 75% (2m 37s) 0.5567843 search.sort.FieldSortBuilder.order(SortOrder)search.sort.SortBuilder.order() / no ✓\n",
      "15500 77% (2m 42s) 0.4768884 action.search.SearchResponse.hits()action.search.SearchResponse.status() / no ✓\n",
      "16000 80% (2m 47s) 0.4702739 common.collect.DiscreteDomains.integers()common.collect.DiscreteDomain.bigIntegers() / no ✓\n",
      "16500 82% (2m 52s) 0.1533740 action.bulk.BulkItemResponse.failureMessage()action.bulk.BulkItemResponse.getResponse() / no ✓\n",
      "17000 85% (2m 57s) 0.7508017 node.NodeBuilder.settings()common.settings.Settings.builder() / no ✗ (yes)\n",
      "17500 87% (3m 2s) 0.1547995 action.bulk.BulkResponse.items()action.bulk.BulkResponse.readFrom() / no ✓\n",
      "18000 90% (3m 7s) 0.5797451 index.query.RangeFilterBuilder.lt(Object)index.query.RangeQueryBuilder.lte() / no ✓\n",
      "18500 92% (3m 12s) 0.0975760 search.sort.FieldSortBuilder.ignoreUnmapped(boolean)search.sort.FieldSortBuilder.unmappedType(String) / yes ✓\n",
      "19000 95% (3m 17s) 1.1949172 action.bulk.BulkItemResponse.failureMessage()action.bulk.BulkItemResponse.getFailureMessage() / no ✗ (yes)\n",
      "19500 97% (3m 22s) 0.2280771 protoparser.ProtoSchemaParser.parse(String,Reader)protoparser.ProtoParser.parse(String,Reader) / yes ✓\n",
      "20000 100% (3m 27s) 0.3094379 action.get.GetResponse.exists()action.get.GetResponse.isExists() / yes ✓\n"
     ]
    }
   ],
   "source": [
    "# Keep track of losses for plotting\n",
    "current_loss = 0\n",
    "all_losses = []\n",
    "\n",
    "def timeSince(since):\n",
    "    now = time.time()\n",
    "    s = now - since\n",
    "    m = math.floor(s / 60)\n",
    "    s -= m * 60\n",
    "    return '%dm %ds' % (m, s)\n",
    "\n",
    "start = time.time()\n",
    "\n",
    "for iter in range(1, n_iters + 1):\n",
    "    category, line, category_tensor, line_tensor = randomTrainingExample()\n",
    "    output, loss = train(category_tensor, line_tensor)\n",
    "    current_loss += loss\n",
    "\n",
    "    # Print iter number, loss, name and guess\n",
    "    if iter % print_every == 0:\n",
    "        guess, guess_i = categoryFromOutput(output)\n",
    "        correct = '✓' if guess == category else '✗ (%s)' % category\n",
    "        print('%d %d%% (%s) %.7f %s / %s %s' % (iter, iter / n_iters * 100, timeSince(start), loss, line, guess, correct))\n",
    "\n",
    "    # Add current loss avg to list of losses\n",
    "    if iter % plot_every == 0:\n",
    "        all_losses.append(current_loss / plot_every)\n",
    "        current_loss = 0"
   ]
  },
  {
   "cell_type": "code",
   "execution_count": 172,
   "id": "ff836b61",
   "metadata": {},
   "outputs": [
    {
     "data": {
      "text/plain": [
       "[<matplotlib.lines.Line2D at 0x1c465fdacd0>]"
      ]
     },
     "execution_count": 172,
     "metadata": {},
     "output_type": "execute_result"
    },
    {
     "data": {
      "image/png": "[encoded data removed]",
      "text/plain": [
       "<Figure size 432x288 with 1 Axes>"
      ]
     },
     "metadata": {
      "needs_background": "light"
     },
     "output_type": "display_data"
    }
   ],
   "source": [
    "import matplotlib.pyplot as plt\n",
    "import matplotlib.ticker as ticker\n",
    "\n",
    "plt.figure()\n",
    "plt.plot(all_losses)"
   ]
  },
  {
   "cell_type": "code",
   "execution_count": 173,
   "id": "e6abb8ad",
   "metadata": {},
   "outputs": [
    {
     "name": "stderr",
     "output_type": "stream",
     "text": [
      "C:\\Users\\mgwei\\AppData\\Local\\Temp/ipykernel_14552/2555472836.py:33: UserWarning: FixedFormatter should only be used together with FixedLocator\n",
      "  ax.set_xticklabels([''] + all_categories, rotation=90)\n",
      "C:\\Users\\mgwei\\AppData\\Local\\Temp/ipykernel_14552/2555472836.py:34: UserWarning: FixedFormatter should only be used together with FixedLocator\n",
      "  ax.set_yticklabels([''] + all_categories)\n"
     ]
    },
    {
     "data": {
      "image/png": "[encoded data removed]",
      "text/plain": [
       "<Figure size 432x288 with 2 Axes>"
      ]
     },
     "metadata": {
      "needs_background": "light"
     },
     "output_type": "display_data"
    }
   ],
   "source": [
    "# Keep track of correct guesses in a confusion matrix\n",
    "confusion = torch.zeros(n_categories, n_categories)\n",
    "n_confusion = 500\n",
    "\n",
    "# Just return an output given a line\n",
    "def evaluate(line_tensor):\n",
    "    hidden = rnn.initHidden()\n",
    "\n",
    "    for i in range(line_tensor.size()[0]):\n",
    "        output, hidden = rnn(line_tensor[i], hidden)\n",
    "\n",
    "    return output\n",
    "\n",
    "# Go through a bunch of examples and record which are correctly guessed\n",
    "for i in range(n_confusion):\n",
    "    category, line, category_tensor, line_tensor = randomTrainingExample()\n",
    "    output = evaluate(line_tensor)\n",
    "    guess, guess_i = categoryFromOutput(output)\n",
    "    category_i = all_categories.index(category)\n",
    "    confusion[category_i][guess_i] += 1\n",
    "\n",
    "# Normalize by dividing every row by its sum\n",
    "for i in range(n_categories):\n",
    "    confusion[i] = confusion[i] / confusion[i].sum()\n",
    "\n",
    "# Set up plot\n",
    "fig = plt.figure()\n",
    "ax = fig.add_subplot(111)\n",
    "cax = ax.matshow(confusion.numpy())\n",
    "fig.colorbar(cax)\n",
    "\n",
    "# Set up axes\n",
    "ax.set_xticklabels([''] + all_categories, rotation=90)\n",
    "ax.set_yticklabels([''] + all_categories)\n",
    "\n",
    "# Force label at every tick\n",
    "ax.xaxis.set_major_locator(ticker.MultipleLocator(1))\n",
    "ax.yaxis.set_major_locator(ticker.MultipleLocator(1))\n",
    "\n",
    "# sphinx_gallery_thumbnail_number = 2\n",
    "plt.show()"
   ]
  },
  {
   "cell_type": "code",
   "execution_count": 18,
   "id": "029530e2",
   "metadata": {},
   "outputs": [],
   "source": [
    "def predict(input_line, n_predictions=3):\n",
    "    print('\\n> %s' % input_line)\n",
    "    with torch.no_grad():\n",
    "        output = evaluate(lineToTensor(input_line))\n",
    "\n",
    "        # Get top N categories\n",
    "        topv, topi = output.topk(n_predictions, 1, True)\n",
    "        predictions = []\n",
    "\n",
    "        for i in range(n_predictions):\n",
    "            value = topv[0][i].item()\n",
    "            category_index = topi[0][i].item()\n",
    "            print('(%.2f) %s' % (value, all_categories[category_index]))\n",
    "            predictions.append([value, all_categories[category_index]])\n"
   ]
  },
  {
   "cell_type": "code",
   "execution_count": 19,
   "id": "685adfb8",
   "metadata": {},
   "outputs": [
    {
     "name": "stdout",
     "output_type": "stream",
     "text": [
      "\n",
      "> test\n"
     ]
    },
    {
     "ename": "RuntimeError",
     "evalue": "selected index k out of range",
     "output_type": "error",
     "traceback": [
      "\u001b[1;31m---------------------------------------------------------------------------\u001b[0m",
      "\u001b[1;31mRuntimeError\u001b[0m                              Traceback (most recent call last)",
      "\u001b[1;32m~\\AppData\\Local\\Temp/ipykernel_11328/1984249783.py\u001b[0m in \u001b[0;36m<module>\u001b[1;34m\u001b[0m\n\u001b[1;32m----> 1\u001b[1;33m \u001b[0mpredict\u001b[0m\u001b[1;33m(\u001b[0m\u001b[1;34m'test'\u001b[0m\u001b[1;33m)\u001b[0m\u001b[1;33m\u001b[0m\u001b[1;33m\u001b[0m\u001b[0m\n\u001b[0m",
      "\u001b[1;32m~\\AppData\\Local\\Temp/ipykernel_11328/3411546740.py\u001b[0m in \u001b[0;36mpredict\u001b[1;34m(input_line, n_predictions)\u001b[0m\n\u001b[0;32m      5\u001b[0m \u001b[1;33m\u001b[0m\u001b[0m\n\u001b[0;32m      6\u001b[0m         \u001b[1;31m# Get top N categories\u001b[0m\u001b[1;33m\u001b[0m\u001b[1;33m\u001b[0m\u001b[0m\n\u001b[1;32m----> 7\u001b[1;33m         \u001b[0mtopv\u001b[0m\u001b[1;33m,\u001b[0m \u001b[0mtopi\u001b[0m \u001b[1;33m=\u001b[0m \u001b[0moutput\u001b[0m\u001b[1;33m.\u001b[0m\u001b[0mtopk\u001b[0m\u001b[1;33m(\u001b[0m\u001b[0mn_predictions\u001b[0m\u001b[1;33m,\u001b[0m \u001b[1;36m1\u001b[0m\u001b[1;33m,\u001b[0m \u001b[1;32mTrue\u001b[0m\u001b[1;33m)\u001b[0m\u001b[1;33m\u001b[0m\u001b[1;33m\u001b[0m\u001b[0m\n\u001b[0m\u001b[0;32m      8\u001b[0m         \u001b[0mpredictions\u001b[0m \u001b[1;33m=\u001b[0m \u001b[1;33m[\u001b[0m\u001b[1;33m]\u001b[0m\u001b[1;33m\u001b[0m\u001b[1;33m\u001b[0m\u001b[0m\n\u001b[0;32m      9\u001b[0m \u001b[1;33m\u001b[0m\u001b[0m\n",
      "\u001b[1;31mRuntimeError\u001b[0m: selected index k out of range"
     ]
    }
   ],
   "source": [
    "predict('test')"
   ]
  },
  {
   "cell_type": "code",
   "execution_count": null,
   "id": "21e0956a",
   "metadata": {},
   "outputs": [],
   "source": []
  }
 ],
 "metadata": {
  "kernelspec": {
   "display_name": "Python 3 (ipykernel)",
   "language": "python",
   "name": "python3"
  },
  "language_info": {
   "codemirror_mode": {
    "name": "ipython",
    "version": 3
   },
   "file_extension": ".py",
   "mimetype": "text/x-python",
   "name": "python",
   "nbconvert_exporter": "python",
   "pygments_lexer": "ipython3",
   "version": "3.9.7"
  }
 },
 "nbformat": 4,
 "nbformat_minor": 5
}
