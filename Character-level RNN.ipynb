{
 "cells": [
  {
   "cell_type": "code",
   "execution_count": 1,
   "id": "28c27d3b",
   "metadata": {},
   "outputs": [],
   "source": [
    "#https://pytorch.org/tutorials/intermediate/char_rnn_classification_tutorial.html"
   ]
  },
  {
   "cell_type": "code",
   "execution_count": 2,
   "id": "789d3480",
   "metadata": {},
   "outputs": [
    {
     "name": "stdout",
     "output_type": "stream",
     "text": [
      "['dataset/cleaned\\\\yes.txt', 'dataset/cleaned\\\\no.txt']\n"
     ]
    }
   ],
   "source": [
    "from __future__ import unicode_literals, print_function, division\n",
    "from io import open\n",
    "import glob\n",
    "import os\n",
    "\n",
    "def findFiles(path): return glob.glob(path)\n",
    "\n",
    "print(findFiles('dataset/cleaned/*.txt'))\n",
    "\n",
    "import unicodedata\n",
    "import string\n",
    "\n",
    "import torch\n",
    "import torch.nn as nn\n",
    "\n",
    "import random"
   ]
  },
  {
   "cell_type": "code",
   "execution_count": 3,
   "id": "53509cad",
   "metadata": {},
   "outputs": [
    {
     "data": {
      "text/plain": [
       "52"
      ]
     },
     "execution_count": 3,
     "metadata": {},
     "output_type": "execute_result"
    }
   ],
   "source": [
    "len(string.ascii_letters)"
   ]
  },
  {
   "cell_type": "code",
   "execution_count": 4,
   "id": "dacb84e1",
   "metadata": {},
   "outputs": [],
   "source": [
    "all_letters = string.ascii_letters + \" .,;'\"\n",
    "n_letters = 200#len(all_letters)\n",
    "\n",
    "# Turn a Unicode string to plain ASCII, thanks to https://stackoverflow.com/a/518232/2809427\n",
    "def unicodeToAscii(s):\n",
    "#     return ''.join(\n",
    "#         c for c in unicodedata.normalize('NFD', s)\n",
    "#         if unicodedata.category(c) != 'Mn'\n",
    "#         and c in all_letters\n",
    "#     )\n",
    "    return s\n",
    "\n",
    "# print(unicodeToAscii('Ślusàrski'))\n",
    "\n",
    "# Build the category_lines dictionary, a list of names per language\n",
    "category_lines = {}\n",
    "all_categories = []\n",
    "\n",
    "# Read a file and split into lines\n",
    "def readLines(filename):\n",
    "    lines = open(filename, encoding='utf-8').read().strip().split('\\n')\n",
    "    return [unicodeToAscii(line) for line in lines]\n",
    "\n",
    "for filename in findFiles('dataset/cleaned/*.txt'):\n",
    "    category = os.path.splitext(os.path.basename(filename))[0]\n",
    "    all_categories.append(category)\n",
    "    lines = readLines(filename)\n",
    "    category_lines[category] = lines\n",
    "\n",
    "n_categories = len(all_categories)"
   ]
  },
  {
   "cell_type": "code",
   "execution_count": 5,
   "id": "75f92eb4",
   "metadata": {},
   "outputs": [
    {
     "data": {
      "text/plain": [
       "['yes', 'no']"
      ]
     },
     "execution_count": 5,
     "metadata": {},
     "output_type": "execute_result"
    }
   ],
   "source": [
    "all_categories"
   ]
  },
  {
   "cell_type": "code",
   "execution_count": 6,
   "id": "32d06beb",
   "metadata": {},
   "outputs": [
    {
     "name": "stdout",
     "output_type": "stream",
     "text": [
      "['org.elasticsearch.action.percolate.PercolateRequestBuilder.request()__XX__org.elasticsearch.percolator.PercolateRequestBuilder.request()', 'com.squareup.protoparser.ProtoFile.getPackageName()__XX__com.squareup.protoparser.ProtoFile.packageName()', 'org.apache.catalina.deploy.FilterMap.getURLPatterns()__XX__org.apache.tomcat.util.descriptor.web.FilterMap.getURLPatterns()', 'org.mapdb.DB.getTreeSet(String)__XX__org.mapdb.DB.TreeSetMaker', 'com.squareup.protoparser.MessageType.getFields()__XX__com.squareup.protoparser.MessageElement.fields()']\n"
     ]
    }
   ],
   "source": [
    "print(category_lines['yes'][:5])"
   ]
  },
  {
   "cell_type": "code",
   "execution_count": 7,
   "id": "8d8264e7",
   "metadata": {},
   "outputs": [
    {
     "name": "stdout",
     "output_type": "stream",
     "text": [
      "tensor([[0., 0., 0., 0., 0., 0., 0., 0., 0., 0., 0., 0., 0., 0., 0., 0., 0., 0.,\n",
      "         0., 0., 0., 0., 0., 0., 0., 0., 0., 0., 0., 0., 0., 0., 0., 0., 0., 1.,\n",
      "         0., 0., 0., 0., 0., 0., 0., 0., 0., 0., 0., 0., 0., 0., 0., 0., 0., 0.,\n",
      "         0., 0., 0., 0., 0., 0., 0., 0., 0., 0., 0., 0., 0., 0., 0., 0., 0., 0.,\n",
      "         0., 0., 0., 0., 0., 0., 0., 0., 0., 0., 0., 0., 0., 0., 0., 0., 0., 0.,\n",
      "         0., 0., 0., 0., 0., 0., 0., 0., 0., 0., 0., 0., 0., 0., 0., 0., 0., 0.,\n",
      "         0., 0., 0., 0., 0., 0., 0., 0., 0., 0., 0., 0., 0., 0., 0., 0., 0., 0.,\n",
      "         0., 0., 0., 0., 0., 0., 0., 0., 0., 0., 0., 0., 0., 0., 0., 0., 0., 0.,\n",
      "         0., 0., 0., 0., 0., 0., 0., 0., 0., 0., 0., 0., 0., 0., 0., 0., 0., 0.,\n",
      "         0., 0., 0., 0., 0., 0., 0., 0., 0., 0., 0., 0., 0., 0., 0., 0., 0., 0.,\n",
      "         0., 0., 0., 0., 0., 0., 0., 0., 0., 0., 0., 0., 0., 0., 0., 0., 0., 0.,\n",
      "         0., 0.]])\n",
      "torch.Size([5, 1, 200])\n"
     ]
    }
   ],
   "source": [
    "# Find letter index from all_letters, e.g. \"a\" = 0\n",
    "def letterToIndex(letter):\n",
    "    return all_letters.find(letter)\n",
    "\n",
    "# Just for demonstration, turn a letter into a <1 x n_letters> Tensor\n",
    "def letterToTensor(letter):\n",
    "    tensor = torch.zeros(1, n_letters)\n",
    "    tensor[0][letterToIndex(letter)] = 1\n",
    "    return tensor\n",
    "\n",
    "# Turn a line into a <line_length x 1 x n_letters>,\n",
    "# or an array of one-hot letter vectors\n",
    "def lineToTensor(line):\n",
    "    tensor = torch.zeros(len(line), 1, n_letters)\n",
    "    for li, letter in enumerate(line):\n",
    "        tensor[li][0][letterToIndex(letter)] = 1\n",
    "    return tensor\n",
    "\n",
    "print(letterToTensor('J'))\n",
    "\n",
    "print(lineToTensor('Jones').size())"
   ]
  },
  {
   "cell_type": "code",
   "execution_count": 8,
   "id": "78907a5e",
   "metadata": {},
   "outputs": [],
   "source": [
    "class RNN(nn.Module):\n",
    "    def __init__(self, input_size, hidden_size, output_size):\n",
    "        super(RNN, self).__init__()\n",
    "\n",
    "        self.hidden_size = hidden_size\n",
    "\n",
    "        self.i2h = nn.Linear(input_size + hidden_size, hidden_size)\n",
    "        self.i2o = nn.Linear(input_size + hidden_size, output_size)\n",
    "        self.softmax = nn.LogSoftmax(dim=1)\n",
    "\n",
    "    def forward(self, input, hidden):\n",
    "        combined = torch.cat((input, hidden), 1)\n",
    "        hidden = self.i2h(combined)\n",
    "        output = self.i2o(combined)\n",
    "        output = self.softmax(output)\n",
    "        return output, hidden\n",
    "\n",
    "    def initHidden(self):\n",
    "        return torch.zeros(1, self.hidden_size)\n",
    "\n",
    "# n_hidden = 128\n",
    "n_hidden = n_letters\n",
    "rnn = RNN(n_letters, n_hidden, n_categories)"
   ]
  },
  {
   "cell_type": "code",
   "execution_count": 9,
   "id": "f320c4e5",
   "metadata": {},
   "outputs": [],
   "source": [
    "input = letterToTensor('A')\n",
    "hidden = torch.zeros(1, n_hidden)\n",
    "\n",
    "output, next_hidden = rnn(input, hidden)"
   ]
  },
  {
   "cell_type": "code",
   "execution_count": 10,
   "id": "f4262cdf",
   "metadata": {},
   "outputs": [
    {
     "name": "stdout",
     "output_type": "stream",
     "text": [
      "tensor([[-0.7106, -0.6760]], grad_fn=<LogSoftmaxBackward0>)\n"
     ]
    }
   ],
   "source": [
    "input = lineToTensor('Albert')\n",
    "hidden = torch.zeros(1, n_hidden)\n",
    "\n",
    "output, next_hidden = rnn(input[0], hidden)\n",
    "print(output)"
   ]
  },
  {
   "cell_type": "code",
   "execution_count": 11,
   "id": "e369d13d",
   "metadata": {},
   "outputs": [
    {
     "name": "stdout",
     "output_type": "stream",
     "text": [
      "('no', 1)\n"
     ]
    }
   ],
   "source": [
    "def categoryFromOutput(output):\n",
    "    top_n, top_i = output.topk(1)\n",
    "    category_i = top_i[0].item()\n",
    "    return all_categories[category_i], category_i\n",
    "\n",
    "print(categoryFromOutput(output))"
   ]
  },
  {
   "cell_type": "code",
   "execution_count": 12,
   "id": "a67a4205",
   "metadata": {},
   "outputs": [
    {
     "name": "stdout",
     "output_type": "stream",
     "text": [
      "category = no / line = org.elasticsearch.action.bulk.BulkItemResponse.isFailed()__XX__org.elasticsearch.common.settings.Setting$AffixKey.match()\n",
      "category = yes / line = org.rocksdb.Options.setRateLimiterConfig(RateLimiterConfig)__XX__org.rocksdb.Options.setRateLimiter(RateLimiter)\n",
      "category = no / line = org.elasticsearch.action.search.SearchResponse.getFacets()__XX__org.elasticsearch.common.mvel2.util.ASTLinkedList.reset()\n",
      "category = no / line = org.apache.tomcat.util.descriptor.web.FilterMap.getFilterName()__XX__org.apache.catalina.session.FileStore.getDirectory()\n",
      "category = yes / line = com.github.dockerjava.api.model.ContainerConfig.isTty()__XX__com.github.dockerjava.api.model.ContainerConfig.getTty()\n",
      "category = yes / line = org.apache.sshd.SshServer.setFileSystemFactory(FileSystemFactory)__XX__org.apache.sshd.common.helpers.AbstractFactoryManager.setFileSystemFactory(FileSystemFactory)\n",
      "category = yes / line = com.google.common.io.Resources.newInputStreamSupplier(URL)__XX__com.google.common.io.Resources.asByteSource(URL)\n",
      "category = no / line = org.elasticsearch.action.DocWriteResponse.getId()__XX__org.elasticsearch.index.fielddata.plain.LatLonPointDVAtomicFieldData$1.valueAt()\n",
      "category = yes / line = org.sonarqube.ws.client.projectanalysis.ProjectAnalysisService.search(SearchRequest)__XX__org.sonarqube.ws.client.projectanalyses.ProjectAnalysesService.search(SearchRequest)\n",
      "category = yes / line = com.google.common.cache.RemovalNotification.getKey()__XX__java.util.AbstractMap.SimpleImmutableEntry.getKey()\n"
     ]
    }
   ],
   "source": [
    "def randomChoice(l):\n",
    "    return l[random.randint(0, len(l) - 1)]\n",
    "\n",
    "def randomTrainingExample():\n",
    "    category = randomChoice(all_categories)\n",
    "    line = randomChoice(category_lines[category])\n",
    "    category_tensor = torch.tensor([all_categories.index(category)], dtype=torch.long)\n",
    "    line_tensor = lineToTensor(line)\n",
    "    return category, line, category_tensor, line_tensor\n",
    "\n",
    "for i in range(10):\n",
    "    category, line, category_tensor, line_tensor = randomTrainingExample()\n",
    "    print('category =', category, '/ line =', line)"
   ]
  },
  {
   "cell_type": "code",
   "execution_count": 13,
   "id": "e035d59e",
   "metadata": {},
   "outputs": [],
   "source": [
    "criterion = nn.NLLLoss()"
   ]
  },
  {
   "cell_type": "code",
   "execution_count": 14,
   "id": "9d7b545f",
   "metadata": {},
   "outputs": [],
   "source": [
    "learning_rate = 0.0007 # If you set this too high, it might explode. If too low, it might not learn\n",
    "\n",
    "def train(category_tensor, line_tensor):\n",
    "    hidden = rnn.initHidden()\n",
    "\n",
    "    rnn.zero_grad()\n",
    "\n",
    "    for i in range(line_tensor.size()[0]):\n",
    "        output, hidden = rnn(line_tensor[i], hidden)\n",
    "\n",
    "    loss = criterion(output, category_tensor)\n",
    "    loss.backward()\n",
    "\n",
    "    # Add parameters' gradients to their values, multiplied by learning rate\n",
    "    for p in rnn.parameters():\n",
    "        p.data.add_(p.grad.data, alpha=-learning_rate)\n",
    "\n",
    "    return output, loss.item()"
   ]
  },
  {
   "cell_type": "code",
   "execution_count": 15,
   "id": "7f0c54d5",
   "metadata": {},
   "outputs": [],
   "source": [
    "import time\n",
    "import math\n",
    "\n",
    "n_iters = 15000\n",
    "print_every = 500\n",
    "plot_every = 100"
   ]
  },
  {
   "cell_type": "code",
   "execution_count": 16,
   "id": "e2d6ad48",
   "metadata": {
    "scrolled": true
   },
   "outputs": [
    {
     "name": "stdout",
     "output_type": "stream",
     "text": [
      "500 3% (0m 23s) 0.7142559 org.apache.sshd.SshServer.setCommandFactory(CommandFactory)__XX__org.apache.sshd.server.SshServer.setCommandFactory(CommandFactory) / no ✗ (yes)\n",
      "1000 6% (0m 44s) 0.7025583 org.elasticsearch.common.compress.CompressedXContent.string()__XX__org.elasticsearch.cluster.metadata.MetaData.isExplicitAllType() / yes ✗ (no)\n",
      "1500 10% (1m 3s) 0.6940420 com.tencent.angel.ml.core.conf.MLConf.ANGEL_ML_TRAIN()__XX__com.tencent.angel.ml.core.conf.AngelMLConf.ANGEL_ML_TRAIN() / no ✗ (yes)\n",
      "2000 13% (1m 23s) 0.6500241 org.elasticsearch.index.query.MoreLikeThisQueryBuilder.boostTerms(float)__XX__org.elasticsearch.action.admin.cluster.stats.ClusterStatsNodes$NetworkTypes.toXContent() / no ✓\n",
      "2500 16% (1m 44s) 0.6392772 org.elasticsearch.index.query.RangeQueryBuilder.gte(Object)__XX__org.elasticsearch.cluster.metadata.RepositoryMetaData() / no ✓\n",
      "3000 20% (2m 7s) 0.6083290 org.apache.tomcat.util.descriptor.web.FilterMap.addServletName(String)__XX__org.apache.catalina.ssi.ExpressionParseTree$OrNode.toString() / no ✓\n",
      "3500 23% (2m 31s) 0.6048492 org.elasticsearch.common.trove.set.hash.THashSet.add(E)__XX__org.elasticsearch.client.support.AbstractIndicesAdminClient.segments() / no ✓\n",
      "4000 26% (2m 52s) 0.7593186 org.mockito.Matchers.anyInt()__XX__org.mockito.ArgumentMatchers.anyInt() / no ✗ (yes)\n",
      "4500 30% (3m 12s) 0.7679157 org.elasticsearch.action.percolate.PercolateRequestBuilder.request()__XX__org.elasticsearch.percolator.PercolateRequestBuilder.request() / no ✗ (yes)\n",
      "5000 33% (3m 32s) 0.6418605 org.elasticsearch.search.aggregations.bucket.histogram.DateHistogramBuilder.interval(DateHistogramInterval)__XX__org.elasticsearch.search.aggregations.bucket.histogram.DateHistogramAggregationBuilder.dateHistogramInterval(DateHistogramInterval) / yes ✓\n",
      "5500 36% (3m 51s) 0.6074721 org.elasticsearch.action.DocWriteResponse.getIndex()__XX__org.elasticsearch.action.delete.DeleteRequest.version() / no ✓\n",
      "6000 40% (4m 10s) 0.5357875 org.elasticsearch.action.mlt.MoreLikeThisRequestBuilder.setMinWordLen(int)__XX__org.elasticsearch.index.query.MoreLikeThisQueryBuilder.minWordLength(int) / yes ✓\n",
      "6500 43% (4m 33s) 0.6234601 groovy.lang.GroovyShell.run(File,List)__XX__org.codehaus.groovy.control.customizers.ASTTransformationCustomizer.setProperty() / no ✓\n",
      "7000 46% (4m 56s) 0.7838987 org.apache.catalina.deploy.ContextResource.getScope()__XX__org.apache.tomcat.util.descriptor.web.ContextResource.getScope() / no ✗ (yes)\n",
      "7500 50% (5m 18s) 0.5920230 org.sonar.api.batch.sensor.cpd.internal.TokensLine.getValue()__XX__org.sonar.api.internal.google.common.collect.Multisets$FilteredMultiset.remove() / no ✓\n",
      "8000 53% (5m 39s) 0.5691416 org.elasticsearch.action.delete.DeleteResponse.isNotFound()__XX__org.elasticsearch.client.support.AbstractIndicesAdminClient.prepareCreate() / no ✓\n",
      "8500 56% (5m 58s) 0.8223121 com.tencent.angel.ml.core.conf.MLConf.ML_MINIBATCH_SIZE()__XX__com.tencent.angel.ml.core.conf.AngelMLConf.ML_MINIBATCH_SIZE() / no ✗ (yes)\n",
      "9000 60% (6m 17s) 0.5462755 org.elasticsearch.action.search.SearchRequestBuilder.setPostFilter(QueryBuilder)__XX__org.elasticsearch.common.netty.buffer.HeapChannelBuffer.array() / no ✓\n",
      "9500 63% (6m 36s) 0.5747020 org.elasticsearch.action.index.IndexResponse.getVersion()__XX__org.elasticsearch.transport.TransportStats.readFrom() / no ✓\n",
      "10000 66% (6m 55s) 0.5456297 org.elasticsearch.common.settings.Settings.builder()__XX__org.elasticsearch.search.aggregations.bucket.adjacency.InternalAdjacencyMatrix$InternalBucket.getKeyAsString() / no ✓\n",
      "10500 70% (7m 14s) 0.3324623 org.mockito.Matchers.eq(long)__XX__org.mockito.ArgumentMatchers.eq(long) / yes ✓\n",
      "11000 73% (7m 37s) 0.5481406 gnu.trove.list.array.TIntArrayList.add(int)__XX__org.elasticsearch.indices.recovery.RecoveryState$Stage.values() / no ✓\n",
      "11500 76% (7m 59s) 0.9316524 org.mockito.Matchers.anyList()__XX__org.mockito.ArgumentMatchers.anyList() / no ✗ (yes)\n",
      "12000 80% (8m 21s) 0.5232139 org.elasticsearch.node.Node.settings()__XX__org.elasticsearch.action.admin.indices.alias.get.GetAliasesAction.newResponse() / no ✓\n",
      "12500 83% (8m 41s) 0.8797150 org.elasticsearch.action.delete.DeleteResponse.isNotFound()__XX__org.elasticsearch.action.delete.DeleteResponse.status() / no ✗ (yes)\n",
      "13000 86% (9m 0s) 0.8682517 org.elasticsearch.action.search.SearchResponse.facets()__XX__org.elasticsearch.action.search.SearchResponse.getFacets() / no ✗ (yes)\n",
      "13500 90% (9m 18s) 0.8543383 com.tencent.angel.ml.core.conf.MLConf.ML_FEATURE_INDEX_RANGE()__XX__com.tencent.angel.ml.core.conf.AngelMLConf.ML_FEATURE_INDEX_RANGE() / no ✗ (yes)\n",
      "14000 93% (9m 37s) 0.4645783 org.elasticsearch.cluster.node.DiscoveryNode.getId()__XX__org.elasticsearch.search.aggregations.metrics.percentiles.tdigest.InternalTDigestPercentileRanks$Iter.remove() / no ✓\n",
      "14500 96% (9m 57s) 0.5074638 org.apache.lucene.search.TopDocsCollector.topDocs()__XX__org.apache.lucene.index.SegmentReader.getSegmentInfo() / no ✓\n",
      "15000 100% (10m 19s) 0.4786542 org.elasticsearch.common.trove.set.hash.THashSet.add(E)__XX__org.elasticsearch.common.joda.time.YearMonthDay$Property.withMinimumValue() / no ✓\n"
     ]
    }
   ],
   "source": [
    "# Keep track of losses for plotting\n",
    "current_loss = 0\n",
    "all_losses = []\n",
    "\n",
    "def timeSince(since):\n",
    "    now = time.time()\n",
    "    s = now - since\n",
    "    m = math.floor(s / 60)\n",
    "    s -= m * 60\n",
    "    return '%dm %ds' % (m, s)\n",
    "\n",
    "start = time.time()\n",
    "\n",
    "for iter in range(1, n_iters + 1):\n",
    "    category, line, category_tensor, line_tensor = randomTrainingExample()\n",
    "    output, loss = train(category_tensor, line_tensor)\n",
    "    current_loss += loss\n",
    "\n",
    "    # Print iter number, loss, name and guess\n",
    "    if iter % print_every == 0:\n",
    "        guess, guess_i = categoryFromOutput(output)\n",
    "        correct = '✓' if guess == category else '✗ (%s)' % category\n",
    "        print('%d %d%% (%s) %.7f %s / %s %s' % (iter, iter / n_iters * 100, timeSince(start), loss, line, guess, correct))\n",
    "\n",
    "    # Add current loss avg to list of losses\n",
    "    if iter % plot_every == 0:\n",
    "        all_losses.append(current_loss / plot_every)\n",
    "        current_loss = 0"
   ]
  },
  {
   "cell_type": "code",
   "execution_count": 17,
   "id": "ff836b61",
   "metadata": {},
   "outputs": [
    {
     "data": {
      "text/plain": [
       "[<matplotlib.lines.Line2D at 0x27643547730>]"
      ]
     },
     "execution_count": 17,
     "metadata": {},
     "output_type": "execute_result"
    },
    {
     "data": {
      "image/png": "[encoded data removed]",
      "text/plain": [
       "<Figure size 432x288 with 1 Axes>"
      ]
     },
     "metadata": {
      "needs_background": "light"
     },
     "output_type": "display_data"
    }
   ],
   "source": [
    "import matplotlib.pyplot as plt\n",
    "import matplotlib.ticker as ticker\n",
    "\n",
    "plt.figure()\n",
    "plt.plot(all_losses)"
   ]
  },
  {
   "cell_type": "code",
   "execution_count": 18,
   "id": "e6abb8ad",
   "metadata": {},
   "outputs": [
    {
     "name": "stderr",
     "output_type": "stream",
     "text": [
      "C:\\Users\\mgwei\\AppData\\Local\\Temp/ipykernel_18756/2555472836.py:33: UserWarning: FixedFormatter should only be used together with FixedLocator\n",
      "  ax.set_xticklabels([''] + all_categories, rotation=90)\n",
      "C:\\Users\\mgwei\\AppData\\Local\\Temp/ipykernel_18756/2555472836.py:34: UserWarning: FixedFormatter should only be used together with FixedLocator\n",
      "  ax.set_yticklabels([''] + all_categories)\n"
     ]
    },
    {
     "data": {
      "image/png": "[encoded data removed]",
      "text/plain": [
       "<Figure size 432x288 with 2 Axes>"
      ]
     },
     "metadata": {
      "needs_background": "light"
     },
     "output_type": "display_data"
    }
   ],
   "source": [
    "# Keep track of correct guesses in a confusion matrix\n",
    "confusion = torch.zeros(n_categories, n_categories)\n",
    "n_confusion = 500\n",
    "\n",
    "# Just return an output given a line\n",
    "def evaluate(line_tensor):\n",
    "    hidden = rnn.initHidden()\n",
    "\n",
    "    for i in range(line_tensor.size()[0]):\n",
    "        output, hidden = rnn(line_tensor[i], hidden)\n",
    "\n",
    "    return output\n",
    "\n",
    "# Go through a bunch of examples and record which are correctly guessed\n",
    "for i in range(n_confusion):\n",
    "    category, line, category_tensor, line_tensor = randomTrainingExample()\n",
    "    output = evaluate(line_tensor)\n",
    "    guess, guess_i = categoryFromOutput(output)\n",
    "    category_i = all_categories.index(category)\n",
    "    confusion[category_i][guess_i] += 1\n",
    "\n",
    "# Normalize by dividing every row by its sum\n",
    "for i in range(n_categories):\n",
    "    confusion[i] = confusion[i] / confusion[i].sum()\n",
    "\n",
    "# Set up plot\n",
    "fig = plt.figure()\n",
    "ax = fig.add_subplot(111)\n",
    "cax = ax.matshow(confusion.numpy())\n",
    "fig.colorbar(cax)\n",
    "\n",
    "# Set up axes\n",
    "ax.set_xticklabels([''] + all_categories, rotation=90)\n",
    "ax.set_yticklabels([''] + all_categories)\n",
    "\n",
    "# Force label at every tick\n",
    "ax.xaxis.set_major_locator(ticker.MultipleLocator(1))\n",
    "ax.yaxis.set_major_locator(ticker.MultipleLocator(1))\n",
    "\n",
    "# sphinx_gallery_thumbnail_number = 2\n",
    "plt.show()"
   ]
  },
  {
   "cell_type": "code",
   "execution_count": 19,
   "id": "029530e2",
   "metadata": {},
   "outputs": [],
   "source": [
    "def predict(input_line, n_predictions=3):\n",
    "    print('\\n> %s' % input_line)\n",
    "    with torch.no_grad():\n",
    "        output = evaluate(lineToTensor(input_line))\n",
    "\n",
    "        # Get top N categories\n",
    "        topv, topi = output.topk(n_predictions, 1, True)\n",
    "        predictions = []\n",
    "\n",
    "        for i in range(n_predictions):\n",
    "            value = topv[0][i].item()\n",
    "            category_index = topi[0][i].item()\n",
    "            print('(%.2f) %s' % (value, all_categories[category_index]))\n",
    "            predictions.append([value, all_categories[category_index]])\n"
   ]
  },
  {
   "cell_type": "code",
   "execution_count": 20,
   "id": "685adfb8",
   "metadata": {},
   "outputs": [
    {
     "name": "stdout",
     "output_type": "stream",
     "text": [
      "\n",
      "> test\n"
     ]
    },
    {
     "ename": "RuntimeError",
     "evalue": "selected index k out of range",
     "output_type": "error",
     "traceback": [
      "\u001b[1;31m---------------------------------------------------------------------------\u001b[0m",
      "\u001b[1;31mRuntimeError\u001b[0m                              Traceback (most recent call last)",
      "\u001b[1;32m~\\AppData\\Local\\Temp/ipykernel_18756/1984249783.py\u001b[0m in \u001b[0;36m<module>\u001b[1;34m\u001b[0m\n\u001b[1;32m----> 1\u001b[1;33m \u001b[0mpredict\u001b[0m\u001b[1;33m(\u001b[0m\u001b[1;34m'test'\u001b[0m\u001b[1;33m)\u001b[0m\u001b[1;33m\u001b[0m\u001b[1;33m\u001b[0m\u001b[0m\n\u001b[0m",
      "\u001b[1;32m~\\AppData\\Local\\Temp/ipykernel_18756/3411546740.py\u001b[0m in \u001b[0;36mpredict\u001b[1;34m(input_line, n_predictions)\u001b[0m\n\u001b[0;32m      5\u001b[0m \u001b[1;33m\u001b[0m\u001b[0m\n\u001b[0;32m      6\u001b[0m         \u001b[1;31m# Get top N categories\u001b[0m\u001b[1;33m\u001b[0m\u001b[1;33m\u001b[0m\u001b[0m\n\u001b[1;32m----> 7\u001b[1;33m         \u001b[0mtopv\u001b[0m\u001b[1;33m,\u001b[0m \u001b[0mtopi\u001b[0m \u001b[1;33m=\u001b[0m \u001b[0moutput\u001b[0m\u001b[1;33m.\u001b[0m\u001b[0mtopk\u001b[0m\u001b[1;33m(\u001b[0m\u001b[0mn_predictions\u001b[0m\u001b[1;33m,\u001b[0m \u001b[1;36m1\u001b[0m\u001b[1;33m,\u001b[0m \u001b[1;32mTrue\u001b[0m\u001b[1;33m)\u001b[0m\u001b[1;33m\u001b[0m\u001b[1;33m\u001b[0m\u001b[0m\n\u001b[0m\u001b[0;32m      8\u001b[0m         \u001b[0mpredictions\u001b[0m \u001b[1;33m=\u001b[0m \u001b[1;33m[\u001b[0m\u001b[1;33m]\u001b[0m\u001b[1;33m\u001b[0m\u001b[1;33m\u001b[0m\u001b[0m\n\u001b[0;32m      9\u001b[0m \u001b[1;33m\u001b[0m\u001b[0m\n",
      "\u001b[1;31mRuntimeError\u001b[0m: selected index k out of range"
     ]
    }
   ],
   "source": [
    "predict('test')"
   ]
  },
  {
   "cell_type": "code",
   "execution_count": null,
   "id": "21e0956a",
   "metadata": {},
   "outputs": [],
   "source": []
  }
 ],
 "metadata": {
  "kernelspec": {
   "display_name": "Python 3 (ipykernel)",
   "language": "python",
   "name": "python3"
  },
  "language_info": {
   "codemirror_mode": {
    "name": "ipython",
    "version": 3
   },
   "file_extension": ".py",
   "mimetype": "text/x-python",
   "name": "python",
   "nbconvert_exporter": "python",
   "pygments_lexer": "ipython3",
   "version": "3.9.7"
  }
 },
 "nbformat": 4,
 "nbformat_minor": 5
}
