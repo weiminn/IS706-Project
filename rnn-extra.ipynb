{
 "cells": [
  {
   "cell_type": "code",
   "execution_count": 1,
   "id": "28c27d3b",
   "metadata": {},
   "outputs": [],
   "source": [
    "#https://pytorch.org/tutorials/intermediate/char_rnn_classification_tutorial.html"
   ]
  },
  {
   "cell_type": "code",
   "execution_count": 46,
   "id": "789d3480",
   "metadata": {},
   "outputs": [],
   "source": [
    "from __future__ import unicode_literals, print_function, division\n",
    "from io import open\n",
    "import glob\n",
    "import os\n",
    "import string\n",
    "import torch\n",
    "import torch.nn as nn\n",
    "import matplotlib.pyplot as plt\n",
    "import matplotlib.ticker as ticker\n",
    "import random\n",
    "import time\n",
    "import math\n",
    "def findFiles(path): return glob.glob(path)"
   ]
  },
  {
   "cell_type": "markdown",
   "id": "686b75ec",
   "metadata": {},
   "source": [
    "<h2>Choose dataset"
   ]
  },
  {
   "cell_type": "code",
   "execution_count": 47,
   "id": "06c497c4",
   "metadata": {},
   "outputs": [
    {
     "name": "stdout",
     "output_type": "stream",
     "text": [
      "['dataset/rep/training\\\\positive.txt', 'dataset/rep/training\\\\negative.txt']\n",
      "['dataset/rep/validation\\\\negative.txt', 'dataset/rep/validation\\\\positive.txt']\n",
      "['dataset/rep+extra/training\\\\positive.txt', 'dataset/rep+extra/training\\\\negative.txt']\n"
     ]
    }
   ],
   "source": [
    "#all datapoints\n",
    "pathToRep = 'dataset/rep/'\n",
    "pathToExt = 'dataset/rep+extra/'\n",
    "\n",
    "print(findFiles(pathToRep + 'training/*.txt'))\n",
    "print(findFiles(pathToRep + 'validation/*.txt'))\n",
    "print(findFiles(pathToExt + 'training/*.txt'))"
   ]
  },
  {
   "cell_type": "code",
   "execution_count": 49,
   "id": "dacb84e1",
   "metadata": {},
   "outputs": [
    {
     "name": "stdout",
     "output_type": "stream",
     "text": [
      "57\n",
      "['positive', 'negative']\n",
      "11\n",
      "jackson.core.JsonParser.setFeatureMask(int)jackson.core.JsonParser.overrideStdFeatures(int,int)\n",
      "action.get.GetResponse.exists()action.get.GetResponse.isExists()\n"
     ]
    }
   ],
   "source": [
    "all_letters = string.ascii_letters + \" .,;'\"\n",
    "# n_letters = 200\n",
    "n_letters = len(all_letters)\n",
    "\n",
    "# Turn a Unicode string to plain ASCII, thanks to https://stackoverflow.com/a/518232/2809427\n",
    "def clean(s):\n",
    "    return s.replace('\"', '').replace(\"'\", \"\").replace(' ', '')\n",
    "\n",
    "# print(unicodeToAscii('Ślusàrski'))\n",
    "\n",
    "# Build the category_lines dictionary, a list of names per language\n",
    "category_lines = {}\n",
    "category_lines_val = {}\n",
    "all_categories = []\n",
    "\n",
    "# Read a file and split into lines\n",
    "def readLines(filename):\n",
    "    lines = open(filename, encoding='utf-8').read().strip().split('\\n')\n",
    "    return [clean(line) for line in lines]\n",
    "\n",
    "for filename in findFiles(pathToExt + 'training/*.txt'):\n",
    "    category = os.path.splitext(os.path.basename(filename))[0]\n",
    "    all_categories.append(category)\n",
    "    lines = readLines(filename)\n",
    "    category_lines[category] = lines\n",
    "\n",
    "for filename in findFiles(pathToRep + 'validation/*.txt'):\n",
    "    category = os.path.splitext(os.path.basename(filename))[0]\n",
    "    # all_categories.append(category)\n",
    "    lines = readLines(filename)\n",
    "    category_lines_val[category] = lines\n",
    "\n",
    "n_categories = len(all_categories)\n",
    "print(len(all_letters))\n",
    "print(all_categories)\n",
    "print(random.randint(0, len(category_lines['positive'])-1))\n",
    "print(category_lines['positive'][random.randint(0, len(category_lines['positive'])-1)])\n",
    "print(category_lines_val['positive'][random.randint(0, len(category_lines_val['positive'])-1)])"
   ]
  },
  {
   "cell_type": "code",
   "execution_count": 50,
   "id": "8d8264e7",
   "metadata": {},
   "outputs": [
    {
     "name": "stdout",
     "output_type": "stream",
     "text": [
      "tensor([[0., 0., 0., 0., 0., 0., 0., 0., 0., 0., 0., 0., 0., 0., 0., 0., 0., 0.,\n",
      "         0., 0., 0., 0., 0., 0., 0., 0., 0., 0., 0., 0., 0., 0., 0., 0., 0., 1.,\n",
      "         0., 0., 0., 0., 0., 0., 0., 0., 0., 0., 0., 0., 0., 0., 0., 0., 0., 0.,\n",
      "         0., 0., 0.]])\n",
      "torch.Size([5, 1, 57])\n"
     ]
    }
   ],
   "source": [
    "# Find letter index from all_letters, e.g. \"a\" = 0\n",
    "def letterToIndex(letter):\n",
    "    return all_letters.find(letter)\n",
    "\n",
    "# Just for demonstration, turn a letter into a <1 x n_letters> Tensor\n",
    "def letterToTensor(letter):\n",
    "    tensor = torch.zeros(1, n_letters)\n",
    "    tensor[0][letterToIndex(letter)] = 1\n",
    "    return tensor\n",
    "\n",
    "# Turn a line into a <line_length x 1 x n_letters>,\n",
    "# or an array of one-hot letter vectors\n",
    "def lineToTensor(line):\n",
    "    tensor = torch.zeros(len(line), 1, n_letters)\n",
    "    for li, letter in enumerate(line):\n",
    "        tensor[li][0][letterToIndex(letter)] = 1\n",
    "    return tensor\n",
    "\n",
    "print(letterToTensor('J'))\n",
    "print(lineToTensor('Jones').size())"
   ]
  },
  {
   "cell_type": "code",
   "execution_count": 51,
   "id": "e369d13d",
   "metadata": {},
   "outputs": [],
   "source": [
    "def categoryFromOutput(output):\n",
    "    top_n, top_i = output.topk(1)\n",
    "    category_i = top_i[0].item()\n",
    "    return all_categories[category_i], category_i\n",
    "\n",
    "# print(categoryFromOutput(output))"
   ]
  },
  {
   "cell_type": "code",
   "execution_count": 52,
   "id": "a67a4205",
   "metadata": {},
   "outputs": [
    {
     "name": "stdout",
     "output_type": "stream",
     "text": [
      "category = negative / line = node.NodeBuilder.settings()index.IndexSettings()\n",
      "category val = positive / line = angel.ml.core.conf.MLConf.ML_REG_L2()angel.ml.core.conf.AngelMLConf.ML_REG_L2()\n",
      "category = positive / line = angel.ml.core.conf.MLConf.ML_MODEL_CLASS_NAME()angel.ml.core.conf.AngelMLConf.ML_MODEL_CLASS_NAME()\n",
      "category val = positive / line = angel.ml.core.conf.MLConf.ML_REG_L2()angel.ml.core.conf.AngelMLConf.ML_REG_L2()\n",
      "category = positive / line = DBMaker.newMemoryDB()DBMaker.memoryDB()\n",
      "category val = positive / line = action.admin.indices.exists.indices.IndicesExistsResponse.exists()action.admin.indices.exists.indices.IndicesExistsResponse.isExists()\n",
      "category = positive / line = action.index.IndexResponse.getId()action.DocWriteResponse.getId()\n",
      "category val = positive / line = jedis.Jedis.select(int)jedis.BinaryJedis.select(int)\n",
      "category = positive / line = angel.ml.core.conf.MLConf.ML_FEATURE_INDEX_RANGE()angel.ml.core.conf.AngelMLConf.ML_FEATURE_INDEX_RANGE()\n",
      "category val = positive / line = angel.ml.core.conf.MLConf.ML_REG_L2()angel.ml.core.conf.AngelMLConf.ML_REG_L2()\n",
      "category = positive / line = util.Assert.state(boolean)util.Assert.state(boolean,String)\n",
      "category val = negative / line = sshd.SshServer.start()sshd.server.SshServer.stop()\n",
      "category = negative / line = sshd.SshServer.setUpDefaultServer()sshd.server.SshServer.setUserAuthFactories()\n",
      "category val = negative / line = sshd.common.util.Buffer.getString()sshd.common.util.buffer.Buffer.getStringList()\n",
      "category = positive / line = nio.serialization.SerializationServiceBuilder.build()internal.serialization.impl.DefaultSerializationServiceBuilder.build()\n",
      "category val = positive / line = nio.serialization.ObjectDataOutputStream.close()internal.serialization.impl.ObjectDataOutputStream.close()\n",
      "category = negative / line = duplications.internal.pmd.TokensLine.getValue()api.batch.sensor.internal.DefaultStorable()\n",
      "category val = negative / line = angel.ml.core.conf.MLConf.ML_NUM_CLASS()angel.ml.core.conf.AngelMLConf.ML_GBDT_CLASS_NUM()\n",
      "category = positive / line = common.settings.ImmutableSettings.settingsBuilder()common.settings.Settings.settingsBuilder()\n",
      "category val = positive / line = search.aggregations.metrics.tophits.TopHitsBuilder.addField(String)search.aggregations.metrics.tophits.TopHitsAggregationBuilder.storedField(String)\n"
     ]
    }
   ],
   "source": [
    "def randomChoice(l):\n",
    "    return l[random.randint(0, len(l) - 1)]\n",
    "\n",
    "def randomTrainingExample():\n",
    "    category = randomChoice(all_categories)\n",
    "    line = randomChoice(category_lines[category])\n",
    "    category_tensor = torch.tensor([all_categories.index(category)], dtype=torch.long)\n",
    "    line_tensor = lineToTensor(line)\n",
    "    return category, line, category_tensor, line_tensor\n",
    "\n",
    "def randomValidationExample():\n",
    "    category = randomChoice(all_categories)\n",
    "    line = randomChoice(category_lines_val[category])\n",
    "    category_tensor = torch.tensor([all_categories.index(category)], dtype=torch.long)\n",
    "    line_tensor = lineToTensor(line)\n",
    "    return category, line, category_tensor, line_tensor\n",
    "\n",
    "for i in range(10):\n",
    "    category, line, category_tensor, line_tensor = randomTrainingExample()\n",
    "    print('category =', category, '/ line =', line)\n",
    "    category, line, category_tensor, line_tensor = randomValidationExample()\n",
    "    print('category val =', category, '/ line =', line)"
   ]
  },
  {
   "cell_type": "code",
   "execution_count": 53,
   "id": "78907a5e",
   "metadata": {},
   "outputs": [],
   "source": [
    "class RNN(nn.Module):\n",
    "    def __init__(self, input_size, hidden_size, output_size):\n",
    "        super(RNN, self).__init__()\n",
    "\n",
    "        self.hidden_size = hidden_size\n",
    "\n",
    "        self.i2h = nn.Linear(input_size + hidden_size, hidden_size)\n",
    "        self.i2o = nn.Linear(input_size + hidden_size, output_size)\n",
    "        self.softmax = nn.LogSoftmax(dim=1)\n",
    "\n",
    "    def forward(self, input, hidden):\n",
    "        combined = torch.cat((input, hidden), 1)\n",
    "        hidden = self.i2h(combined)\n",
    "        output = self.i2o(combined)\n",
    "        output = self.softmax(output)\n",
    "        return output, hidden\n",
    "\n",
    "    def initHidden(self):\n",
    "        return torch.zeros(1, self.hidden_size)\n",
    "\n",
    "# n_hidden = 128\n"
   ]
  },
  {
   "cell_type": "code",
   "execution_count": 54,
   "id": "e035d59e",
   "metadata": {},
   "outputs": [],
   "source": [
    "n_hidden = n_letters\n",
    "rnn = RNN(n_letters, n_hidden, n_categories)\n",
    "criterion = nn.NLLLoss()"
   ]
  },
  {
   "cell_type": "code",
   "execution_count": 55,
   "id": "9d7b545f",
   "metadata": {},
   "outputs": [],
   "source": [
    "def train(category_tensor, line_tensor, learning_rate):\n",
    "    hidden = rnn.initHidden()\n",
    "\n",
    "    rnn.zero_grad()\n",
    "\n",
    "    for i in range(line_tensor.size()[0]):\n",
    "        output, hidden = rnn(line_tensor[i], hidden)\n",
    "\n",
    "    loss = criterion(output, category_tensor)\n",
    "    loss.backward()\n",
    "\n",
    "    # Add parameters' gradients to their values, multiplied by learning rate\n",
    "    for p in rnn.parameters():\n",
    "        p.data.add_(p.grad.data, alpha=-learning_rate)\n",
    "\n",
    "    return output, loss.item()"
   ]
  },
  {
   "cell_type": "code",
   "execution_count": 56,
   "id": "e2d6ad48",
   "metadata": {
    "scrolled": false
   },
   "outputs": [
    {
     "name": "stdout",
     "output_type": "stream",
     "text": [
      "500 2% (0m 6s) 0.7051370 catalina.deploy.FilterMap.addURLPattern(String)tomcat.util.descriptor.web.FilterMap.addURLPattern(String) / negative ✗ (positive)\n",
      "1000 4% (0m 12s) 0.7349572 beans.factory.support.AbstractBeanDefinitionReader.getBeanFactory()beans.factory.support.AbstractBeanDefinitionReader.getRegistry() / negative ✗ (positive)\n",
      "1500 6% (0m 17s) 0.7630902 jackson.core.JsonFactory.disable(Feature)jackson.core.TSFBuilder.configure(StreamWriteFeature,boolean) / positive ✗ (negative)\n",
      "2000 8% (0m 23s) 0.7231376 action.delete.DeleteResponse.isNotFound()action.delete.DeleteRequest.routing() / positive ✗ (negative)\n",
      "2500 10% (0m 29s) 0.6839524 dockerjava.api.model.HostConfig.isPublishAllPorts()dockerjava.api.model.HostConfig.getPublishAllPorts() / positive ✓\n",
      "3000 12% (0m 35s) 0.6992069 sshd.SshServer.stop()sshd.server.SshServer.toString() / positive ✗ (negative)\n",
      "3500 14% (0m 42s) 0.5867240 Matchers.startsWith(String)ArgumentMatchers.endsWith() / negative ✓\n",
      "4000 16% (0m 48s) 0.8263856 action.delete.DeleteResponse.getType()action.DocWriteResponse.getType() / negative ✗ (positive)\n",
      "4500 18% (0m 54s) 0.5364470 angel.ml.core.conf.MLConf.KMEANS_CENTER_NUM()angel.ml.core.conf.AngelMLConf.ML_EPOCH_NUM() / negative ✓\n",
      "5000 20% (1m 0s) 0.9711806 sshd.common.util.Buffer.getString()sshd.common.util.buffer.Buffer.getString() / negative ✗ (positive)\n",
      "5500 22% (1m 6s) 0.2056066 jackson.core.JsonParser.setFeatureMask(int)jackson.core.JsonParser.overrideStdFeatures(int,int) / positive ✓\n",
      "6000 24% (1m 12s) 0.3328521 jedis.Jedis.select(int)jedis.BinaryJedis.getSet() / negative ✓\n",
      "6500 26% (1m 18s) 0.2276099 lucene.analysis.standard.StandardAnalyzer.tokenStream(String,Reader)lucene.analysis.Analyzer.tokenStream(String,Reader) / positive ✓\n",
      "7000 28% (1m 24s) 0.4252574 search.aggregations.metrics.tophits.TopHitsBuilder.addField(String)search.aggregations.metrics.tophits.TopHitsAggregationBuilder.scriptFields() / negative ✓\n",
      "7500 30% (1m 29s) 0.4826705 Matchers.matches(String)ArgumentMatchers.anySetOf() / negative ✓\n",
      "8000 32% (1m 35s) 0.3734786 search.aggregations.bucket.range.RangeBuilder.addUnboundedFrom(String,double)search.aggregations.bucket.range.date.DateRangeAggregationBuilder.addUnboundedFrom() / negative ✓\n",
      "8500 34% (1m 41s) 0.1802292 index.query.BoolFilterBuilder.must(FilterBuilder)index.query.BoolQueryBuilder.must(QueryBuilder) / positive ✓\n",
      "9000 36% (1m 46s) 0.4555973 sshd.SshServer.getActiveSessions()sshd.server.SshServer.getSessionFactory() / negative ✓\n",
      "9500 38% (1m 52s) 0.0716961 solr.client.solrj.impl.HttpSolrServer.setBaseURL(String)solr.client.solrj.impl.HttpSolrClient.setBaseURL(String) / positive ✓\n",
      "10000 40% (1m 58s) 0.9886232 action.delete.DeleteResponse.getType()action.DocWriteResponse.getType() / negative ✗ (positive)\n",
      "10500 42% (2m 4s) 0.7718576 action.bulk.BulkItemResponse.failed()action.bulk.BulkItemResponse.isFailed() / negative ✗ (positive)\n",
      "11000 44% (2m 10s) 0.8424187 action.index.IndexResponse.version()action.index.IndexResponse.getVersion() / negative ✗ (positive)\n",
      "11500 46% (2m 16s) 1.2422583 action.delete.DeleteResponse.isNotFound()action.delete.DeleteResponse.status() / negative ✗ (positive)\n",
      "12000 48% (2m 22s) 0.0448765 util.Assert.doesNotContain(String,String)util.Assert.doesNotContain(String,String,String) / positive ✓\n",
      "12500 50% (2m 28s) 0.0406832 solr.client.solrj.impl.HttpSolrServer.setBaseURL(String)solr.client.solrj.impl.HttpSolrClient.setBaseURL(String) / positive ✓\n",
      "13000 52% (2m 34s) 1.1979902 action.bulk.BulkItemResponse.failureMessage()action.bulk.BulkItemResponse.getFailureMessage() / negative ✗ (positive)\n",
      "13500 54% (2m 39s) 0.4698440 Matchers.any()ArgumentMatchers.eq() / negative ✓\n",
      "14000 56% (2m 45s) 0.2499369 Matchers.eq(byte)ArgumentMatchers.eq(byte) / positive ✓\n",
      "14500 57% (2m 51s) 0.3813654 sshd.SshServer.setPasswordAuthenticator(PasswordAuthenticator)sshd.server.jaas.JaasPasswordAuthenticator.authenticate() / negative ✓\n",
      "15000 60% (2m 57s) 0.3726756 search.facet.FacetProcessors.processor(String)search.facet.FacetBuilder.mode() / negative ✓\n",
      "15500 62% (3m 4s) 0.3825416 solr.client.solrj.impl.HttpSolrServer.getBaseURL()solr.client.solrj.impl.HttpSolrClient.getParser() / negative ✓\n",
      "16000 64% (3m 10s) 0.4849955 protoparser.ProtoSchemaParser.parse(String,Reader)protoparser.ProtoFile.builder() / negative ✓\n",
      "16500 66% (3m 17s) 0.1257751 action.search.SearchResponse.facets()action.search.SearchResponse.getSuggest() / negative ✓\n",
      "17000 68% (3m 23s) 0.9164406 angel.ml.core.conf.MLConf.ML_LEARN_RATE()angel.ml.core.conf.AngelMLConf.ML_LEARN_RATE() / negative ✗ (positive)\n",
      "17500 70% (3m 29s) 0.8640069 angel.ml.core.conf.MLConf.ML_FEATURE_INDEX_RANGE()angel.ml.core.conf.AngelMLConf.ML_FEATURE_INDEX_RANGE() / negative ✗ (positive)\n",
      "18000 72% (3m 35s) 0.8132347 lucene.index.IndexWriter.getCommitData()lucene.index.IndexWriter.getLiveCommitData() / negative ✗ (positive)\n",
      "18500 74% (3m 41s) 0.0607268 Matchers.startsWith(String)ArgumentMatchers.startsWith(String) / positive ✓\n",
      "19000 76% (3m 47s) 0.4025666 jackson.core.JsonFactory.createJsonParser(File)jackson.core.JsonFactory.createParser(byte[]) / negative ✓\n",
      "19500 78% (3m 52s) 0.2655144 action.admin.indices.exists.indices.IndicesExistsResponse.exists()action.admin.indices.exists.indices.IndicesExistsAction.newResponse() / negative ✓\n",
      "20000 80% (3m 58s) 0.0330708 index.query.RangeFilterBuilder.lt(Object)index.query.RangeQueryBuilder.lt(Object) / positive ✓\n",
      "20500 82% (4m 4s) 0.5389161 core.codec.StringDecoder.textPlainOnly(boolean)core.codec.StringDecoder.allMimeTypes() / negative ✓\n",
      "21000 84% (4m 10s) 0.5245235 Matchers.any()ArgumentMatchers.anyMap() / negative ✓\n",
      "21500 86% (4m 15s) 0.0919222 Expectations.will(Action)AbstractExpectations.will(Action) / positive ✓\n",
      "22000 88% (4m 21s) 0.2984834 action.mlt.MoreLikeThisRequestBuilder.setMaxDocFreq(int)index.query.MoreLikeThisQueryBuilder.minDocFreq() / negative ✓\n",
      "22500 90% (4m 26s) 0.4587239 action.bulk.BulkItemResponse.failureMessage()action.bulk.BulkItemResponse.getIndex() / negative ✓\n",
      "23000 92% (4m 32s) 0.1768906 jackson.core.JsonFactory.configure(Feature,boolean)jackson.core.TSFBuilder.outputDecorator() / negative ✓\n",
      "23500 94% (4m 37s) 0.2434007 duplications.internal.pmd.TokensLine.getValue()api.batch.sensor.cpd.internal.TokensLine.getHashCode() / negative ✓\n",
      "24000 96% (4m 43s) 0.8727177 dockerjava.api.model.ContainerConfig.isNetworkDisabled()dockerjava.api.model.ContainerConfig.withNetworkDisabled() / positive ✗ (negative)\n",
      "24500 98% (4m 48s) 0.1124621 lucene.search.NumericRangeQuery.newIntRange(String,Integer,Integer,boolean,boolean)lucene.search.LegacyNumericRangeQuery.newIntRange(String,Integer,Integer,boolean,boolean) / positive ✓\n",
      "25000 100% (4m 54s) 0.4599299 action.delete.DeleteResponse.isNotFound()action.delete.DeleteResponse.isFound() / positive ✓\n"
     ]
    }
   ],
   "source": [
    "n_iters = 25000\n",
    "print_every = 500\n",
    "plot_every = 200\n",
    "\n",
    "# Keep track of losses for plotting\n",
    "current_loss = 0\n",
    "all_losses = []\n",
    "\n",
    "def timeSince(since):\n",
    "    now = time.time()\n",
    "    s = now - since\n",
    "    m = math.floor(s / 60)\n",
    "    s -= m * 60\n",
    "    return '%dm %ds' % (m, s)\n",
    "\n",
    "start = time.time()\n",
    "\n",
    "rate = 0.002\n",
    "\n",
    "for iter in range(1, n_iters + 1):\n",
    "    category, line, category_tensor, line_tensor = randomTrainingExample()\n",
    "    # if iter < n_iters/10:\n",
    "    #     rate = 0.005\n",
    "    # elif iter > 5 * n_iters / 10:\n",
    "    #     rate = 0.001\n",
    "    # else:\n",
    "    #     rate = 0.002\n",
    "    output, loss = train(category_tensor, line_tensor, rate)\n",
    "    current_loss += loss\n",
    "\n",
    "    # Print iter number, loss, name and guess\n",
    "    if iter % print_every == 0:\n",
    "        guess, guess_i = categoryFromOutput(output)\n",
    "        correct = '✓' if guess == category else '✗ (%s)' % category\n",
    "        print('%d %d%% (%s) %.7f %s / %s %s' % (iter, iter / n_iters * 100, timeSince(start), loss, line, guess, correct))\n",
    "\n",
    "    # Add current loss avg to list of losses\n",
    "    if iter % plot_every == 0:\n",
    "        all_losses.append(current_loss / plot_every)\n",
    "        current_loss = 0"
   ]
  },
  {
   "cell_type": "code",
   "execution_count": 57,
   "id": "ff836b61",
   "metadata": {},
   "outputs": [
    {
     "data": {
      "text/plain": [
       "[<matplotlib.lines.Line2D at 0x1888cb89b80>]"
      ]
     },
     "execution_count": 57,
     "metadata": {},
     "output_type": "execute_result"
    },
    {
     "data": {
      "image/png": "[encoded data removed]",
      "text/plain": [
       "<Figure size 432x288 with 1 Axes>"
      ]
     },
     "metadata": {
      "needs_background": "light"
     },
     "output_type": "display_data"
    }
   ],
   "source": [
    "plt.figure()\n",
    "plt.plot(all_losses)"
   ]
  },
  {
   "cell_type": "code",
   "execution_count": 64,
   "id": "55033b67",
   "metadata": {},
   "outputs": [
    {
     "name": "stdout",
     "output_type": "stream",
     "text": [
      "{'positive': {'tp': 147, 'total': 247}, 'negative': {'tp': 210, 'total': 253}}\n",
      "tensor([[147., 100.],\n",
      "        [ 43., 210.]])\n",
      "(Yes) Precision: 0.5951417004048583\n",
      "(Yes) Recall: 0.5951417088508606\n",
      "(Yes) F1: 0.5951417046278594\n",
      "(No) Precision: 0.8300395256916996\n",
      "(No) Recall: 0.8300395011901855\n",
      "(No) F1: 0.8300395134409423\n"
     ]
    }
   ],
   "source": [
    "n_confusion = 500\n",
    "\n",
    "# Just return an output given a line\n",
    "def evaluate(line_tensor):\n",
    "    hidden = rnn.initHidden()\n",
    "\n",
    "    for i in range(line_tensor.size()[0]):\n",
    "        output, hidden = rnn(line_tensor[i], hidden)\n",
    "\n",
    "    return output\n",
    "\n",
    "# Keep track of correct guesses in a confusion matrix\n",
    "confusion = torch.zeros(n_categories, n_categories)\n",
    "precision = {\n",
    "    'positive': {\n",
    "        'tp': 0,\n",
    "        'total': 0\n",
    "    },\n",
    "    'negative': {\n",
    "        'tp': 0,\n",
    "        'total': 0\n",
    "    }\n",
    "}\n",
    "\n",
    "for i in range(n_confusion):\n",
    "    category, line, category_tensor, line_tensor = randomValidationExample()\n",
    "    output = evaluate(line_tensor)\n",
    "    guess, guess_i = categoryFromOutput(output)\n",
    "    # correct = '✓' if guess == category else '✗ (%s)' % category\n",
    "    # print(line, guess, correct)\n",
    "    category_i = all_categories.index(category)\n",
    "    confusion[category_i][guess_i] += 1\n",
    "    precision[category]['total'] += 1\n",
    "    if category is guess:\n",
    "        precision[category]['tp'] += 1\n",
    "\n",
    "print(precision)\n",
    "print(confusion)\n",
    "\n",
    "yp = precision['positive']['tp']/precision['positive']['total']\n",
    "yr = float(confusion[0][0]/sum(confusion[0]))\n",
    "print('(Yes) Precision:', yp)\n",
    "# print('No precision:', precision['no']['tp']/precision['no']['total'])\n",
    "print('(Yes) Recall:', yr)\n",
    "print('(Yes) F1:', 2 * (yp * yr) / (yp + yr))\n",
    "\n",
    "np = precision['negative']['tp']/precision['negative']['total']\n",
    "nr = float(confusion[1][1]/sum(confusion[1]))\n",
    "print('(No) Precision:', np)\n",
    "# print('No precision:', precision['no']['tp']/precision['no']['total'])\n",
    "print('(No) Recall:', nr)\n",
    "print('(No) F1:', 2 * (np * nr) / (np + nr))"
   ]
  },
  {
   "cell_type": "code",
   "execution_count": 65,
   "id": "34036633",
   "metadata": {},
   "outputs": [
    {
     "name": "stderr",
     "output_type": "stream",
     "text": [
      "C:\\Users\\mgwei\\AppData\\Local\\Temp/ipykernel_18788/2806226085.py:12: UserWarning: FixedFormatter should only be used together with FixedLocator\n",
      "  ax.set_xticklabels([''] + all_categories, rotation=90)\n",
      "C:\\Users\\mgwei\\AppData\\Local\\Temp/ipykernel_18788/2806226085.py:13: UserWarning: FixedFormatter should only be used together with FixedLocator\n",
      "  ax.set_yticklabels([''] + all_categories)\n"
     ]
    },
    {
     "data": {
      "image/png": "[encoded data removed]",
      "text/plain": [
       "<Figure size 432x288 with 2 Axes>"
      ]
     },
     "metadata": {
      "needs_background": "light"
     },
     "output_type": "display_data"
    }
   ],
   "source": [
    "# Normalize by dividing every row by its sum\n",
    "for i in range(n_categories):\n",
    "    confusion[i] = confusion[i] / confusion[i].sum()\n",
    "\n",
    "# Set up plot\n",
    "fig = plt.figure()\n",
    "ax = fig.add_subplot(111)\n",
    "cax = ax.matshow(confusion.numpy())\n",
    "fig.colorbar(cax)\n",
    "\n",
    "# Set up axes\n",
    "ax.set_xticklabels([''] + all_categories, rotation=90)\n",
    "ax.set_yticklabels([''] + all_categories)\n",
    "\n",
    "# Force label at every tick\n",
    "ax.xaxis.set_major_locator(ticker.MultipleLocator(1))\n",
    "ax.yaxis.set_major_locator(ticker.MultipleLocator(1))\n",
    "\n",
    "# sphinx_gallery_thumbnail_number = 2\n",
    "plt.show()"
   ]
  },
  {
   "cell_type": "code",
   "execution_count": null,
   "id": "61b76fb7",
   "metadata": {},
   "outputs": [],
   "source": []
  }
 ],
 "metadata": {
  "kernelspec": {
   "display_name": "Python 3 (ipykernel)",
   "language": "python",
   "name": "python3"
  },
  "language_info": {
   "codemirror_mode": {
    "name": "ipython",
    "version": 3
   },
   "file_extension": ".py",
   "mimetype": "text/x-python",
   "name": "python",
   "nbconvert_exporter": "python",
   "pygments_lexer": "ipython3",
   "version": "3.9.7"
  }
 },
 "nbformat": 4,
 "nbformat_minor": 5
}
